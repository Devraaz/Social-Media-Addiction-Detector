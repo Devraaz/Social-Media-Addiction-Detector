{
 "cells": [
  {
   "cell_type": "markdown",
   "metadata": {
    "id": "f_lbWMvw4nbL"
   },
   "source": [
    "# Social Media Addicted Detection\n"
   ]
  },
  {
   "cell_type": "code",
   "execution_count": 1,
   "metadata": {
    "id": "cNYvrkjc3gd7"
   },
   "outputs": [],
   "source": [
    "import pandas as pd\n",
    "import numpy as np\n",
    "import matplotlib.pyplot as plt\n",
    "import seaborn as sns"
   ]
  },
  {
   "cell_type": "code",
   "execution_count": 64,
   "metadata": {
    "id": "4Y6vbnzS4YKH"
   },
   "outputs": [],
   "source": [
    "sm_df = pd.read_csv(\"Students Social Media Addiction.csv\")"
   ]
  },
  {
   "cell_type": "code",
   "execution_count": 4,
   "metadata": {
    "id": "9mzZl7TwoeVI"
   },
   "outputs": [],
   "source": [
    "df = sm_df"
   ]
  },
  {
   "cell_type": "code",
   "execution_count": 5,
   "metadata": {
    "colab": {
     "base_uri": "https://localhost:8080/",
     "height": 226
    },
    "id": "5yjAJRs8FqJO",
    "outputId": "fa8b2c34-4d57-4054-96c0-1bb8095c3ea9"
   },
   "outputs": [
    {
     "data": {
      "text/html": [
       "<div>\n",
       "<style scoped>\n",
       "    .dataframe tbody tr th:only-of-type {\n",
       "        vertical-align: middle;\n",
       "    }\n",
       "\n",
       "    .dataframe tbody tr th {\n",
       "        vertical-align: top;\n",
       "    }\n",
       "\n",
       "    .dataframe thead th {\n",
       "        text-align: right;\n",
       "    }\n",
       "</style>\n",
       "<table border=\"1\" class=\"dataframe\">\n",
       "  <thead>\n",
       "    <tr style=\"text-align: right;\">\n",
       "      <th></th>\n",
       "      <th>Student_ID</th>\n",
       "      <th>Age</th>\n",
       "      <th>Gender</th>\n",
       "      <th>Academic_Level</th>\n",
       "      <th>Country</th>\n",
       "      <th>Avg_Daily_Usage_Hours</th>\n",
       "      <th>Most_Used_Platform</th>\n",
       "      <th>Affects_Academic_Performance</th>\n",
       "      <th>Sleep_Hours_Per_Night</th>\n",
       "      <th>Mental_Health_Score</th>\n",
       "      <th>Relationship_Status</th>\n",
       "      <th>Conflicts_Over_Social_Media</th>\n",
       "      <th>Addicted_Score</th>\n",
       "    </tr>\n",
       "  </thead>\n",
       "  <tbody>\n",
       "    <tr>\n",
       "      <th>624</th>\n",
       "      <td>625</td>\n",
       "      <td>24</td>\n",
       "      <td>Female</td>\n",
       "      <td>Graduate</td>\n",
       "      <td>India</td>\n",
       "      <td>7.0</td>\n",
       "      <td>TikTok</td>\n",
       "      <td>Yes</td>\n",
       "      <td>5.8</td>\n",
       "      <td>4</td>\n",
       "      <td>Single</td>\n",
       "      <td>5</td>\n",
       "      <td>9</td>\n",
       "    </tr>\n",
       "    <tr>\n",
       "      <th>314</th>\n",
       "      <td>315</td>\n",
       "      <td>20</td>\n",
       "      <td>Female</td>\n",
       "      <td>Undergraduate</td>\n",
       "      <td>South Korea</td>\n",
       "      <td>4.2</td>\n",
       "      <td>KakaoTalk</td>\n",
       "      <td>Yes</td>\n",
       "      <td>7.6</td>\n",
       "      <td>6</td>\n",
       "      <td>Single</td>\n",
       "      <td>3</td>\n",
       "      <td>6</td>\n",
       "    </tr>\n",
       "    <tr>\n",
       "      <th>114</th>\n",
       "      <td>115</td>\n",
       "      <td>20</td>\n",
       "      <td>Male</td>\n",
       "      <td>Undergraduate</td>\n",
       "      <td>Sri Lanka</td>\n",
       "      <td>5.2</td>\n",
       "      <td>TikTok</td>\n",
       "      <td>Yes</td>\n",
       "      <td>6.3</td>\n",
       "      <td>6</td>\n",
       "      <td>In Relationship</td>\n",
       "      <td>3</td>\n",
       "      <td>7</td>\n",
       "    </tr>\n",
       "    <tr>\n",
       "      <th>674</th>\n",
       "      <td>675</td>\n",
       "      <td>19</td>\n",
       "      <td>Female</td>\n",
       "      <td>Undergraduate</td>\n",
       "      <td>Ireland</td>\n",
       "      <td>5.9</td>\n",
       "      <td>Instagram</td>\n",
       "      <td>Yes</td>\n",
       "      <td>6.5</td>\n",
       "      <td>6</td>\n",
       "      <td>Single</td>\n",
       "      <td>3</td>\n",
       "      <td>7</td>\n",
       "    </tr>\n",
       "    <tr>\n",
       "      <th>665</th>\n",
       "      <td>666</td>\n",
       "      <td>23</td>\n",
       "      <td>Male</td>\n",
       "      <td>Graduate</td>\n",
       "      <td>UK</td>\n",
       "      <td>6.3</td>\n",
       "      <td>Twitter</td>\n",
       "      <td>Yes</td>\n",
       "      <td>6.2</td>\n",
       "      <td>5</td>\n",
       "      <td>Single</td>\n",
       "      <td>4</td>\n",
       "      <td>8</td>\n",
       "    </tr>\n",
       "  </tbody>\n",
       "</table>\n",
       "</div>"
      ],
      "text/plain": [
       "     Student_ID  Age  Gender Academic_Level      Country  \\\n",
       "624         625   24  Female       Graduate        India   \n",
       "314         315   20  Female  Undergraduate  South Korea   \n",
       "114         115   20    Male  Undergraduate    Sri Lanka   \n",
       "674         675   19  Female  Undergraduate      Ireland   \n",
       "665         666   23    Male       Graduate           UK   \n",
       "\n",
       "     Avg_Daily_Usage_Hours Most_Used_Platform Affects_Academic_Performance  \\\n",
       "624                    7.0             TikTok                          Yes   \n",
       "314                    4.2          KakaoTalk                          Yes   \n",
       "114                    5.2             TikTok                          Yes   \n",
       "674                    5.9          Instagram                          Yes   \n",
       "665                    6.3            Twitter                          Yes   \n",
       "\n",
       "     Sleep_Hours_Per_Night  Mental_Health_Score Relationship_Status  \\\n",
       "624                    5.8                    4              Single   \n",
       "314                    7.6                    6              Single   \n",
       "114                    6.3                    6     In Relationship   \n",
       "674                    6.5                    6              Single   \n",
       "665                    6.2                    5              Single   \n",
       "\n",
       "     Conflicts_Over_Social_Media  Addicted_Score  \n",
       "624                            5               9  \n",
       "314                            3               6  \n",
       "114                            3               7  \n",
       "674                            3               7  \n",
       "665                            4               8  "
      ]
     },
     "execution_count": 5,
     "metadata": {},
     "output_type": "execute_result"
    }
   ],
   "source": [
    "df.sample(5)"
   ]
  },
  {
   "cell_type": "markdown",
   "metadata": {
    "id": "imXHL4PW4xfY"
   },
   "source": [
    "## Lets Perform all the EDA"
   ]
  },
  {
   "cell_type": "code",
   "execution_count": 6,
   "metadata": {
    "colab": {
     "base_uri": "https://localhost:8080/",
     "height": 226
    },
    "id": "C073cQH44eev",
    "outputId": "62ae84e6-d05e-421e-934a-ba25e3c5a72c"
   },
   "outputs": [
    {
     "data": {
      "text/html": [
       "<div>\n",
       "<style scoped>\n",
       "    .dataframe tbody tr th:only-of-type {\n",
       "        vertical-align: middle;\n",
       "    }\n",
       "\n",
       "    .dataframe tbody tr th {\n",
       "        vertical-align: top;\n",
       "    }\n",
       "\n",
       "    .dataframe thead th {\n",
       "        text-align: right;\n",
       "    }\n",
       "</style>\n",
       "<table border=\"1\" class=\"dataframe\">\n",
       "  <thead>\n",
       "    <tr style=\"text-align: right;\">\n",
       "      <th></th>\n",
       "      <th>Student_ID</th>\n",
       "      <th>Age</th>\n",
       "      <th>Gender</th>\n",
       "      <th>Academic_Level</th>\n",
       "      <th>Country</th>\n",
       "      <th>Avg_Daily_Usage_Hours</th>\n",
       "      <th>Most_Used_Platform</th>\n",
       "      <th>Affects_Academic_Performance</th>\n",
       "      <th>Sleep_Hours_Per_Night</th>\n",
       "      <th>Mental_Health_Score</th>\n",
       "      <th>Relationship_Status</th>\n",
       "      <th>Conflicts_Over_Social_Media</th>\n",
       "      <th>Addicted_Score</th>\n",
       "    </tr>\n",
       "  </thead>\n",
       "  <tbody>\n",
       "    <tr>\n",
       "      <th>0</th>\n",
       "      <td>1</td>\n",
       "      <td>19</td>\n",
       "      <td>Female</td>\n",
       "      <td>Undergraduate</td>\n",
       "      <td>Bangladesh</td>\n",
       "      <td>5.2</td>\n",
       "      <td>Instagram</td>\n",
       "      <td>Yes</td>\n",
       "      <td>6.5</td>\n",
       "      <td>6</td>\n",
       "      <td>In Relationship</td>\n",
       "      <td>3</td>\n",
       "      <td>8</td>\n",
       "    </tr>\n",
       "    <tr>\n",
       "      <th>1</th>\n",
       "      <td>2</td>\n",
       "      <td>22</td>\n",
       "      <td>Male</td>\n",
       "      <td>Graduate</td>\n",
       "      <td>India</td>\n",
       "      <td>2.1</td>\n",
       "      <td>Twitter</td>\n",
       "      <td>No</td>\n",
       "      <td>7.5</td>\n",
       "      <td>8</td>\n",
       "      <td>Single</td>\n",
       "      <td>0</td>\n",
       "      <td>3</td>\n",
       "    </tr>\n",
       "    <tr>\n",
       "      <th>2</th>\n",
       "      <td>3</td>\n",
       "      <td>20</td>\n",
       "      <td>Female</td>\n",
       "      <td>Undergraduate</td>\n",
       "      <td>USA</td>\n",
       "      <td>6.0</td>\n",
       "      <td>TikTok</td>\n",
       "      <td>Yes</td>\n",
       "      <td>5.0</td>\n",
       "      <td>5</td>\n",
       "      <td>Complicated</td>\n",
       "      <td>4</td>\n",
       "      <td>9</td>\n",
       "    </tr>\n",
       "    <tr>\n",
       "      <th>3</th>\n",
       "      <td>4</td>\n",
       "      <td>18</td>\n",
       "      <td>Male</td>\n",
       "      <td>High School</td>\n",
       "      <td>UK</td>\n",
       "      <td>3.0</td>\n",
       "      <td>YouTube</td>\n",
       "      <td>No</td>\n",
       "      <td>7.0</td>\n",
       "      <td>7</td>\n",
       "      <td>Single</td>\n",
       "      <td>1</td>\n",
       "      <td>4</td>\n",
       "    </tr>\n",
       "    <tr>\n",
       "      <th>4</th>\n",
       "      <td>5</td>\n",
       "      <td>21</td>\n",
       "      <td>Male</td>\n",
       "      <td>Graduate</td>\n",
       "      <td>Canada</td>\n",
       "      <td>4.5</td>\n",
       "      <td>Facebook</td>\n",
       "      <td>Yes</td>\n",
       "      <td>6.0</td>\n",
       "      <td>6</td>\n",
       "      <td>In Relationship</td>\n",
       "      <td>2</td>\n",
       "      <td>7</td>\n",
       "    </tr>\n",
       "  </tbody>\n",
       "</table>\n",
       "</div>"
      ],
      "text/plain": [
       "   Student_ID  Age  Gender Academic_Level     Country  Avg_Daily_Usage_Hours  \\\n",
       "0           1   19  Female  Undergraduate  Bangladesh                    5.2   \n",
       "1           2   22    Male       Graduate       India                    2.1   \n",
       "2           3   20  Female  Undergraduate         USA                    6.0   \n",
       "3           4   18    Male    High School          UK                    3.0   \n",
       "4           5   21    Male       Graduate      Canada                    4.5   \n",
       "\n",
       "  Most_Used_Platform Affects_Academic_Performance  Sleep_Hours_Per_Night  \\\n",
       "0          Instagram                          Yes                    6.5   \n",
       "1            Twitter                           No                    7.5   \n",
       "2             TikTok                          Yes                    5.0   \n",
       "3            YouTube                           No                    7.0   \n",
       "4           Facebook                          Yes                    6.0   \n",
       "\n",
       "   Mental_Health_Score Relationship_Status  Conflicts_Over_Social_Media  \\\n",
       "0                    6     In Relationship                            3   \n",
       "1                    8              Single                            0   \n",
       "2                    5         Complicated                            4   \n",
       "3                    7              Single                            1   \n",
       "4                    6     In Relationship                            2   \n",
       "\n",
       "   Addicted_Score  \n",
       "0               8  \n",
       "1               3  \n",
       "2               9  \n",
       "3               4  \n",
       "4               7  "
      ]
     },
     "execution_count": 6,
     "metadata": {},
     "output_type": "execute_result"
    }
   ],
   "source": [
    "df.head()"
   ]
  },
  {
   "cell_type": "code",
   "execution_count": 7,
   "metadata": {
    "colab": {
     "base_uri": "https://localhost:8080/",
     "height": 275
    },
    "id": "YMnyuUe38ehI",
    "outputId": "48e71151-4bd4-489a-cfc3-e9c11f250599"
   },
   "outputs": [
    {
     "data": {
      "text/html": [
       "<div>\n",
       "<style scoped>\n",
       "    .dataframe tbody tr th:only-of-type {\n",
       "        vertical-align: middle;\n",
       "    }\n",
       "\n",
       "    .dataframe tbody tr th {\n",
       "        vertical-align: top;\n",
       "    }\n",
       "\n",
       "    .dataframe thead th {\n",
       "        text-align: right;\n",
       "    }\n",
       "</style>\n",
       "<table border=\"1\" class=\"dataframe\">\n",
       "  <thead>\n",
       "    <tr style=\"text-align: right;\">\n",
       "      <th></th>\n",
       "      <th>Student_ID</th>\n",
       "      <th>Age</th>\n",
       "      <th>Gender</th>\n",
       "      <th>Academic_Level</th>\n",
       "      <th>Country</th>\n",
       "      <th>Avg_Daily_Usage_Hours</th>\n",
       "      <th>Most_Used_Platform</th>\n",
       "      <th>Affects_Academic_Performance</th>\n",
       "      <th>Sleep_Hours_Per_Night</th>\n",
       "      <th>Mental_Health_Score</th>\n",
       "      <th>Relationship_Status</th>\n",
       "      <th>Conflicts_Over_Social_Media</th>\n",
       "      <th>Addicted_Score</th>\n",
       "    </tr>\n",
       "  </thead>\n",
       "  <tbody>\n",
       "    <tr>\n",
       "      <th>410</th>\n",
       "      <td>411</td>\n",
       "      <td>20</td>\n",
       "      <td>Female</td>\n",
       "      <td>Undergraduate</td>\n",
       "      <td>Spain</td>\n",
       "      <td>4.3</td>\n",
       "      <td>TikTok</td>\n",
       "      <td>Yes</td>\n",
       "      <td>7.6</td>\n",
       "      <td>6</td>\n",
       "      <td>Single</td>\n",
       "      <td>3</td>\n",
       "      <td>7</td>\n",
       "    </tr>\n",
       "    <tr>\n",
       "      <th>66</th>\n",
       "      <td>67</td>\n",
       "      <td>20</td>\n",
       "      <td>Male</td>\n",
       "      <td>Undergraduate</td>\n",
       "      <td>Serbia</td>\n",
       "      <td>3.9</td>\n",
       "      <td>YouTube</td>\n",
       "      <td>No</td>\n",
       "      <td>6.5</td>\n",
       "      <td>7</td>\n",
       "      <td>Complicated</td>\n",
       "      <td>2</td>\n",
       "      <td>6</td>\n",
       "    </tr>\n",
       "    <tr>\n",
       "      <th>675</th>\n",
       "      <td>676</td>\n",
       "      <td>22</td>\n",
       "      <td>Male</td>\n",
       "      <td>Graduate</td>\n",
       "      <td>India</td>\n",
       "      <td>7.2</td>\n",
       "      <td>Facebook</td>\n",
       "      <td>Yes</td>\n",
       "      <td>5.7</td>\n",
       "      <td>4</td>\n",
       "      <td>Single</td>\n",
       "      <td>5</td>\n",
       "      <td>9</td>\n",
       "    </tr>\n",
       "    <tr>\n",
       "      <th>191</th>\n",
       "      <td>192</td>\n",
       "      <td>22</td>\n",
       "      <td>Male</td>\n",
       "      <td>Graduate</td>\n",
       "      <td>India</td>\n",
       "      <td>4.8</td>\n",
       "      <td>Facebook</td>\n",
       "      <td>No</td>\n",
       "      <td>8.0</td>\n",
       "      <td>7</td>\n",
       "      <td>In Relationship</td>\n",
       "      <td>2</td>\n",
       "      <td>6</td>\n",
       "    </tr>\n",
       "    <tr>\n",
       "      <th>1</th>\n",
       "      <td>2</td>\n",
       "      <td>22</td>\n",
       "      <td>Male</td>\n",
       "      <td>Graduate</td>\n",
       "      <td>India</td>\n",
       "      <td>2.1</td>\n",
       "      <td>Twitter</td>\n",
       "      <td>No</td>\n",
       "      <td>7.5</td>\n",
       "      <td>8</td>\n",
       "      <td>Single</td>\n",
       "      <td>0</td>\n",
       "      <td>3</td>\n",
       "    </tr>\n",
       "    <tr>\n",
       "      <th>638</th>\n",
       "      <td>639</td>\n",
       "      <td>23</td>\n",
       "      <td>Female</td>\n",
       "      <td>Graduate</td>\n",
       "      <td>Spain</td>\n",
       "      <td>6.4</td>\n",
       "      <td>Facebook</td>\n",
       "      <td>Yes</td>\n",
       "      <td>6.2</td>\n",
       "      <td>5</td>\n",
       "      <td>Single</td>\n",
       "      <td>4</td>\n",
       "      <td>8</td>\n",
       "    </tr>\n",
       "  </tbody>\n",
       "</table>\n",
       "</div>"
      ],
      "text/plain": [
       "     Student_ID  Age  Gender Academic_Level Country  Avg_Daily_Usage_Hours  \\\n",
       "410         411   20  Female  Undergraduate   Spain                    4.3   \n",
       "66           67   20    Male  Undergraduate  Serbia                    3.9   \n",
       "675         676   22    Male       Graduate   India                    7.2   \n",
       "191         192   22    Male       Graduate   India                    4.8   \n",
       "1             2   22    Male       Graduate   India                    2.1   \n",
       "638         639   23  Female       Graduate   Spain                    6.4   \n",
       "\n",
       "    Most_Used_Platform Affects_Academic_Performance  Sleep_Hours_Per_Night  \\\n",
       "410             TikTok                          Yes                    7.6   \n",
       "66             YouTube                           No                    6.5   \n",
       "675           Facebook                          Yes                    5.7   \n",
       "191           Facebook                           No                    8.0   \n",
       "1              Twitter                           No                    7.5   \n",
       "638           Facebook                          Yes                    6.2   \n",
       "\n",
       "     Mental_Health_Score Relationship_Status  Conflicts_Over_Social_Media  \\\n",
       "410                    6              Single                            3   \n",
       "66                     7         Complicated                            2   \n",
       "675                    4              Single                            5   \n",
       "191                    7     In Relationship                            2   \n",
       "1                      8              Single                            0   \n",
       "638                    5              Single                            4   \n",
       "\n",
       "     Addicted_Score  \n",
       "410               7  \n",
       "66                6  \n",
       "675               9  \n",
       "191               6  \n",
       "1                 3  \n",
       "638               8  "
      ]
     },
     "execution_count": 7,
     "metadata": {},
     "output_type": "execute_result"
    }
   ],
   "source": [
    "df.sample(6)"
   ]
  },
  {
   "cell_type": "code",
   "execution_count": 8,
   "metadata": {
    "colab": {
     "base_uri": "https://localhost:8080/"
    },
    "id": "nroqfvkT4gK0",
    "outputId": "01970878-5e88-4f70-b94a-e75df414f69d"
   },
   "outputs": [
    {
     "data": {
      "text/plain": [
       "(705, 13)"
      ]
     },
     "execution_count": 8,
     "metadata": {},
     "output_type": "execute_result"
    }
   ],
   "source": [
    "df.shape"
   ]
  },
  {
   "cell_type": "code",
   "execution_count": 9,
   "metadata": {
    "colab": {
     "base_uri": "https://localhost:8080/"
    },
    "id": "uZnXIg_I4h73",
    "outputId": "328df23d-c704-4377-a578-8c2678135a55"
   },
   "outputs": [
    {
     "name": "stdout",
     "output_type": "stream",
     "text": [
      "<class 'pandas.core.frame.DataFrame'>\n",
      "RangeIndex: 705 entries, 0 to 704\n",
      "Data columns (total 13 columns):\n",
      " #   Column                        Non-Null Count  Dtype  \n",
      "---  ------                        --------------  -----  \n",
      " 0   Student_ID                    705 non-null    int64  \n",
      " 1   Age                           705 non-null    int64  \n",
      " 2   Gender                        705 non-null    object \n",
      " 3   Academic_Level                705 non-null    object \n",
      " 4   Country                       705 non-null    object \n",
      " 5   Avg_Daily_Usage_Hours         705 non-null    float64\n",
      " 6   Most_Used_Platform            705 non-null    object \n",
      " 7   Affects_Academic_Performance  705 non-null    object \n",
      " 8   Sleep_Hours_Per_Night         705 non-null    float64\n",
      " 9   Mental_Health_Score           705 non-null    int64  \n",
      " 10  Relationship_Status           705 non-null    object \n",
      " 11  Conflicts_Over_Social_Media   705 non-null    int64  \n",
      " 12  Addicted_Score                705 non-null    int64  \n",
      "dtypes: float64(2), int64(5), object(6)\n",
      "memory usage: 71.7+ KB\n"
     ]
    }
   ],
   "source": [
    "df.info()"
   ]
  },
  {
   "cell_type": "code",
   "execution_count": 10,
   "metadata": {
    "colab": {
     "base_uri": "https://localhost:8080/",
     "height": 320
    },
    "id": "F8mjvwTE4267",
    "outputId": "cbd63874-26e8-4a2c-8bf9-975add4e19d2"
   },
   "outputs": [
    {
     "data": {
      "text/html": [
       "<div>\n",
       "<style scoped>\n",
       "    .dataframe tbody tr th:only-of-type {\n",
       "        vertical-align: middle;\n",
       "    }\n",
       "\n",
       "    .dataframe tbody tr th {\n",
       "        vertical-align: top;\n",
       "    }\n",
       "\n",
       "    .dataframe thead th {\n",
       "        text-align: right;\n",
       "    }\n",
       "</style>\n",
       "<table border=\"1\" class=\"dataframe\">\n",
       "  <thead>\n",
       "    <tr style=\"text-align: right;\">\n",
       "      <th></th>\n",
       "      <th>Student_ID</th>\n",
       "      <th>Age</th>\n",
       "      <th>Avg_Daily_Usage_Hours</th>\n",
       "      <th>Sleep_Hours_Per_Night</th>\n",
       "      <th>Mental_Health_Score</th>\n",
       "      <th>Conflicts_Over_Social_Media</th>\n",
       "      <th>Addicted_Score</th>\n",
       "    </tr>\n",
       "  </thead>\n",
       "  <tbody>\n",
       "    <tr>\n",
       "      <th>count</th>\n",
       "      <td>705.000000</td>\n",
       "      <td>705.000000</td>\n",
       "      <td>705.000000</td>\n",
       "      <td>705.000000</td>\n",
       "      <td>705.000000</td>\n",
       "      <td>705.000000</td>\n",
       "      <td>705.000000</td>\n",
       "    </tr>\n",
       "    <tr>\n",
       "      <th>mean</th>\n",
       "      <td>353.000000</td>\n",
       "      <td>20.659574</td>\n",
       "      <td>4.918723</td>\n",
       "      <td>6.868936</td>\n",
       "      <td>6.226950</td>\n",
       "      <td>2.849645</td>\n",
       "      <td>6.436879</td>\n",
       "    </tr>\n",
       "    <tr>\n",
       "      <th>std</th>\n",
       "      <td>203.660256</td>\n",
       "      <td>1.399217</td>\n",
       "      <td>1.257395</td>\n",
       "      <td>1.126848</td>\n",
       "      <td>1.105055</td>\n",
       "      <td>0.957968</td>\n",
       "      <td>1.587165</td>\n",
       "    </tr>\n",
       "    <tr>\n",
       "      <th>min</th>\n",
       "      <td>1.000000</td>\n",
       "      <td>18.000000</td>\n",
       "      <td>1.500000</td>\n",
       "      <td>3.800000</td>\n",
       "      <td>4.000000</td>\n",
       "      <td>0.000000</td>\n",
       "      <td>2.000000</td>\n",
       "    </tr>\n",
       "    <tr>\n",
       "      <th>25%</th>\n",
       "      <td>177.000000</td>\n",
       "      <td>19.000000</td>\n",
       "      <td>4.100000</td>\n",
       "      <td>6.000000</td>\n",
       "      <td>5.000000</td>\n",
       "      <td>2.000000</td>\n",
       "      <td>5.000000</td>\n",
       "    </tr>\n",
       "    <tr>\n",
       "      <th>50%</th>\n",
       "      <td>353.000000</td>\n",
       "      <td>21.000000</td>\n",
       "      <td>4.800000</td>\n",
       "      <td>6.900000</td>\n",
       "      <td>6.000000</td>\n",
       "      <td>3.000000</td>\n",
       "      <td>7.000000</td>\n",
       "    </tr>\n",
       "    <tr>\n",
       "      <th>75%</th>\n",
       "      <td>529.000000</td>\n",
       "      <td>22.000000</td>\n",
       "      <td>5.800000</td>\n",
       "      <td>7.700000</td>\n",
       "      <td>7.000000</td>\n",
       "      <td>4.000000</td>\n",
       "      <td>8.000000</td>\n",
       "    </tr>\n",
       "    <tr>\n",
       "      <th>max</th>\n",
       "      <td>705.000000</td>\n",
       "      <td>24.000000</td>\n",
       "      <td>8.500000</td>\n",
       "      <td>9.600000</td>\n",
       "      <td>9.000000</td>\n",
       "      <td>5.000000</td>\n",
       "      <td>9.000000</td>\n",
       "    </tr>\n",
       "  </tbody>\n",
       "</table>\n",
       "</div>"
      ],
      "text/plain": [
       "       Student_ID         Age  Avg_Daily_Usage_Hours  Sleep_Hours_Per_Night  \\\n",
       "count  705.000000  705.000000             705.000000             705.000000   \n",
       "mean   353.000000   20.659574               4.918723               6.868936   \n",
       "std    203.660256    1.399217               1.257395               1.126848   \n",
       "min      1.000000   18.000000               1.500000               3.800000   \n",
       "25%    177.000000   19.000000               4.100000               6.000000   \n",
       "50%    353.000000   21.000000               4.800000               6.900000   \n",
       "75%    529.000000   22.000000               5.800000               7.700000   \n",
       "max    705.000000   24.000000               8.500000               9.600000   \n",
       "\n",
       "       Mental_Health_Score  Conflicts_Over_Social_Media  Addicted_Score  \n",
       "count           705.000000                   705.000000      705.000000  \n",
       "mean              6.226950                     2.849645        6.436879  \n",
       "std               1.105055                     0.957968        1.587165  \n",
       "min               4.000000                     0.000000        2.000000  \n",
       "25%               5.000000                     2.000000        5.000000  \n",
       "50%               6.000000                     3.000000        7.000000  \n",
       "75%               7.000000                     4.000000        8.000000  \n",
       "max               9.000000                     5.000000        9.000000  "
      ]
     },
     "execution_count": 10,
     "metadata": {},
     "output_type": "execute_result"
    }
   ],
   "source": [
    "df.describe()"
   ]
  },
  {
   "cell_type": "code",
   "execution_count": 11,
   "metadata": {
    "colab": {
     "base_uri": "https://localhost:8080/",
     "height": 492
    },
    "id": "CScT0e3d44hp",
    "outputId": "9bbdc73a-490a-4cb8-e7b7-06c183a50f96"
   },
   "outputs": [
    {
     "data": {
      "text/plain": [
       "Student_ID                      0\n",
       "Age                             0\n",
       "Gender                          0\n",
       "Academic_Level                  0\n",
       "Country                         0\n",
       "Avg_Daily_Usage_Hours           0\n",
       "Most_Used_Platform              0\n",
       "Affects_Academic_Performance    0\n",
       "Sleep_Hours_Per_Night           0\n",
       "Mental_Health_Score             0\n",
       "Relationship_Status             0\n",
       "Conflicts_Over_Social_Media     0\n",
       "Addicted_Score                  0\n",
       "dtype: int64"
      ]
     },
     "execution_count": 11,
     "metadata": {},
     "output_type": "execute_result"
    }
   ],
   "source": [
    "df.isnull().sum()"
   ]
  },
  {
   "cell_type": "markdown",
   "metadata": {
    "id": "IpPoqn6H7Y7p"
   },
   "source": [
    "### Checing for Duplicate values"
   ]
  },
  {
   "cell_type": "code",
   "execution_count": 12,
   "metadata": {
    "colab": {
     "base_uri": "https://localhost:8080/"
    },
    "id": "zaoUFLPr6iWE",
    "outputId": "43ab3af3-ac38-46f7-9ee6-09ac94e884b5"
   },
   "outputs": [
    {
     "data": {
      "text/plain": [
       "np.int64(0)"
      ]
     },
     "execution_count": 12,
     "metadata": {},
     "output_type": "execute_result"
    }
   ],
   "source": [
    "df.duplicated().sum()"
   ]
  },
  {
   "cell_type": "markdown",
   "metadata": {
    "id": "YbboRpyC9Fgc"
   },
   "source": [
    "# Univariate Analysis"
   ]
  },
  {
   "cell_type": "code",
   "execution_count": 13,
   "metadata": {
    "colab": {
     "base_uri": "https://localhost:8080/",
     "height": 261
    },
    "id": "XBmwKfMc7edX",
    "outputId": "14ffc75f-5115-4f13-e9e2-8c22750010c3"
   },
   "outputs": [
    {
     "data": {
      "text/html": [
       "<div>\n",
       "<style scoped>\n",
       "    .dataframe tbody tr th:only-of-type {\n",
       "        vertical-align: middle;\n",
       "    }\n",
       "\n",
       "    .dataframe tbody tr th {\n",
       "        vertical-align: top;\n",
       "    }\n",
       "\n",
       "    .dataframe thead th {\n",
       "        text-align: right;\n",
       "    }\n",
       "</style>\n",
       "<table border=\"1\" class=\"dataframe\">\n",
       "  <thead>\n",
       "    <tr style=\"text-align: right;\">\n",
       "      <th></th>\n",
       "      <th>Student_ID</th>\n",
       "      <th>Age</th>\n",
       "      <th>Gender</th>\n",
       "      <th>Academic_Level</th>\n",
       "      <th>Country</th>\n",
       "      <th>Avg_Daily_Usage_Hours</th>\n",
       "      <th>Most_Used_Platform</th>\n",
       "      <th>Affects_Academic_Performance</th>\n",
       "      <th>Sleep_Hours_Per_Night</th>\n",
       "      <th>Mental_Health_Score</th>\n",
       "      <th>Relationship_Status</th>\n",
       "      <th>Conflicts_Over_Social_Media</th>\n",
       "      <th>Addicted_Score</th>\n",
       "    </tr>\n",
       "  </thead>\n",
       "  <tbody>\n",
       "    <tr>\n",
       "      <th>381</th>\n",
       "      <td>382</td>\n",
       "      <td>21</td>\n",
       "      <td>Male</td>\n",
       "      <td>Graduate</td>\n",
       "      <td>Denmark</td>\n",
       "      <td>3.4</td>\n",
       "      <td>Facebook</td>\n",
       "      <td>No</td>\n",
       "      <td>8.4</td>\n",
       "      <td>8</td>\n",
       "      <td>In Relationship</td>\n",
       "      <td>2</td>\n",
       "      <td>4</td>\n",
       "    </tr>\n",
       "    <tr>\n",
       "      <th>18</th>\n",
       "      <td>19</td>\n",
       "      <td>21</td>\n",
       "      <td>Male</td>\n",
       "      <td>Undergraduate</td>\n",
       "      <td>Denmark</td>\n",
       "      <td>3.5</td>\n",
       "      <td>Facebook</td>\n",
       "      <td>No</td>\n",
       "      <td>6.7</td>\n",
       "      <td>7</td>\n",
       "      <td>Single</td>\n",
       "      <td>1</td>\n",
       "      <td>5</td>\n",
       "    </tr>\n",
       "    <tr>\n",
       "      <th>44</th>\n",
       "      <td>45</td>\n",
       "      <td>18</td>\n",
       "      <td>Male</td>\n",
       "      <td>High School</td>\n",
       "      <td>Argentina</td>\n",
       "      <td>5.5</td>\n",
       "      <td>TikTok</td>\n",
       "      <td>Yes</td>\n",
       "      <td>5.3</td>\n",
       "      <td>5</td>\n",
       "      <td>Single</td>\n",
       "      <td>4</td>\n",
       "      <td>8</td>\n",
       "    </tr>\n",
       "    <tr>\n",
       "      <th>267</th>\n",
       "      <td>268</td>\n",
       "      <td>22</td>\n",
       "      <td>Male</td>\n",
       "      <td>Graduate</td>\n",
       "      <td>Russia</td>\n",
       "      <td>4.3</td>\n",
       "      <td>VKontakte</td>\n",
       "      <td>No</td>\n",
       "      <td>7.7</td>\n",
       "      <td>7</td>\n",
       "      <td>In Relationship</td>\n",
       "      <td>2</td>\n",
       "      <td>5</td>\n",
       "    </tr>\n",
       "    <tr>\n",
       "      <th>687</th>\n",
       "      <td>688</td>\n",
       "      <td>22</td>\n",
       "      <td>Male</td>\n",
       "      <td>Graduate</td>\n",
       "      <td>Poland</td>\n",
       "      <td>6.3</td>\n",
       "      <td>TikTok</td>\n",
       "      <td>Yes</td>\n",
       "      <td>6.2</td>\n",
       "      <td>5</td>\n",
       "      <td>Single</td>\n",
       "      <td>4</td>\n",
       "      <td>8</td>\n",
       "    </tr>\n",
       "  </tbody>\n",
       "</table>\n",
       "</div>"
      ],
      "text/plain": [
       "     Student_ID  Age Gender Academic_Level    Country  Avg_Daily_Usage_Hours  \\\n",
       "381         382   21   Male       Graduate    Denmark                    3.4   \n",
       "18           19   21   Male  Undergraduate    Denmark                    3.5   \n",
       "44           45   18   Male    High School  Argentina                    5.5   \n",
       "267         268   22   Male       Graduate     Russia                    4.3   \n",
       "687         688   22   Male       Graduate     Poland                    6.3   \n",
       "\n",
       "    Most_Used_Platform Affects_Academic_Performance  Sleep_Hours_Per_Night  \\\n",
       "381           Facebook                           No                    8.4   \n",
       "18            Facebook                           No                    6.7   \n",
       "44              TikTok                          Yes                    5.3   \n",
       "267          VKontakte                           No                    7.7   \n",
       "687             TikTok                          Yes                    6.2   \n",
       "\n",
       "     Mental_Health_Score Relationship_Status  Conflicts_Over_Social_Media  \\\n",
       "381                    8     In Relationship                            2   \n",
       "18                     7              Single                            1   \n",
       "44                     5              Single                            4   \n",
       "267                    7     In Relationship                            2   \n",
       "687                    5              Single                            4   \n",
       "\n",
       "     Addicted_Score  \n",
       "381               4  \n",
       "18                5  \n",
       "44                8  \n",
       "267               5  \n",
       "687               8  "
      ]
     },
     "execution_count": 13,
     "metadata": {},
     "output_type": "execute_result"
    }
   ],
   "source": [
    "df.sample(5)"
   ]
  },
  {
   "cell_type": "markdown",
   "metadata": {
    "id": "pLKC18N9D-lq"
   },
   "source": [
    "## Categorial Data"
   ]
  },
  {
   "cell_type": "code",
   "execution_count": 14,
   "metadata": {
    "colab": {
     "base_uri": "https://localhost:8080/",
     "height": 610
    },
    "id": "RlLJ3OiL7vCT",
    "outputId": "f756ebf1-46eb-47af-ee58-fa47d4766161"
   },
   "outputs": [
    {
     "data": {
      "text/plain": [
       "Gender\n",
       "Female    353\n",
       "Male      352\n",
       "Name: count, dtype: int64"
      ]
     },
     "execution_count": 14,
     "metadata": {},
     "output_type": "execute_result"
    },
    {
     "data": {
      "image/png": "[encoded data removed]",
      "text/plain": [
       "<Figure size 640x480 with 1 Axes>"
      ]
     },
     "metadata": {},
     "output_type": "display_data"
    }
   ],
   "source": [
    "# categorical_data = 'Gender', 'Academic_level', 'Country', 'Platform used', 'Affects Academic', 'Relationship Status'\n",
    "\n",
    "sns.countplot(df['Gender'])   #To plot\n",
    "df['Gender'].value_counts()"
   ]
  },
  {
   "cell_type": "code",
   "execution_count": 15,
   "metadata": {
    "colab": {
     "base_uri": "https://localhost:8080/",
     "height": 642
    },
    "id": "S0toJpRB-t4K",
    "outputId": "bcc6b4f1-8e9d-4f71-f0e1-181b3b832d45"
   },
   "outputs": [
    {
     "data": {
      "text/plain": [
       "Academic_Level\n",
       "Undergraduate    353\n",
       "Graduate         325\n",
       "High School       27\n",
       "Name: count, dtype: int64"
      ]
     },
     "execution_count": 15,
     "metadata": {},
     "output_type": "execute_result"
    },
    {
     "data": {
      "image/png": "[encoded data removed]",
      "text/plain": [
       "<Figure size 640x480 with 1 Axes>"
      ]
     },
     "metadata": {},
     "output_type": "display_data"
    }
   ],
   "source": [
    "sns.countplot(df['Academic_Level'])\n",
    "df['Academic_Level'].value_counts()"
   ]
  },
  {
   "cell_type": "code",
   "execution_count": 16,
   "metadata": {
    "colab": {
     "base_uri": "https://localhost:8080/",
     "height": 490
    },
    "id": "11tOT8rx_Ff5",
    "outputId": "8849b4f9-fdff-47f4-eaab-971425a72f2d"
   },
   "outputs": [
    {
     "data": {
      "text/plain": [
       "Country\n",
       "India          53\n",
       "USA            40\n",
       "Canada         34\n",
       "France         27\n",
       "Mexico         27\n",
       "               ..\n",
       "Oman            1\n",
       "Afghanistan     1\n",
       "Syria           1\n",
       "Yemen           1\n",
       "Bhutan          1\n",
       "Name: count, Length: 110, dtype: int64"
      ]
     },
     "execution_count": 16,
     "metadata": {},
     "output_type": "execute_result"
    }
   ],
   "source": [
    "\n",
    "df['Country'].value_counts()"
   ]
  },
  {
   "cell_type": "code",
   "execution_count": 17,
   "metadata": {
    "colab": {
     "base_uri": "https://localhost:8080/",
     "height": 524
    },
    "id": "pkS3eIux_UBW",
    "outputId": "2cc49a7e-38a6-44cb-d90e-c07e1ec89f91"
   },
   "outputs": [
    {
     "data": {
      "text/plain": [
       "<Axes: xlabel='Most_Used_Platform'>"
      ]
     },
     "execution_count": 17,
     "metadata": {},
     "output_type": "execute_result"
    },
    {
     "data": {
      "image/png": "[encoded data removed]",
      "text/plain": [
       "<Figure size 640x480 with 1 Axes>"
      ]
     },
     "metadata": {},
     "output_type": "display_data"
    }
   ],
   "source": [
    "# sns.countplot(df['Most_Used_Platform'])\n",
    "df['Most_Used_Platform'].value_counts().plot(kind = 'bar')"
   ]
  },
  {
   "cell_type": "code",
   "execution_count": 18,
   "metadata": {
    "colab": {
     "base_uri": "https://localhost:8080/",
     "height": 475
    },
    "id": "mTo-oVIB_tlP",
    "outputId": "d4ca7ebc-cb09-4f20-bcb2-0b16a62eb75b"
   },
   "outputs": [
    {
     "data": {
      "text/plain": [
       "<Axes: xlabel='Affects_Academic_Performance'>"
      ]
     },
     "execution_count": 18,
     "metadata": {},
     "output_type": "execute_result"
    },
    {
     "data": {
      "image/png": "[encoded data removed]",
      "text/plain": [
       "<Figure size 640x480 with 1 Axes>"
      ]
     },
     "metadata": {},
     "output_type": "display_data"
    }
   ],
   "source": [
    "df['Affects_Academic_Performance'].value_counts().plot(kind='bar')"
   ]
  },
  {
   "cell_type": "code",
   "execution_count": 19,
   "metadata": {
    "colab": {
     "base_uri": "https://localhost:8080/",
     "height": 557
    },
    "id": "W8j4fkpHAVpw",
    "outputId": "eea66744-3dd4-476c-a1ef-cd5e4756c3df"
   },
   "outputs": [
    {
     "data": {
      "text/plain": [
       "<Axes: xlabel='Relationship_Status'>"
      ]
     },
     "execution_count": 19,
     "metadata": {},
     "output_type": "execute_result"
    },
    {
     "data": {
      "image/png": "[encoded data removed]",
      "text/plain": [
       "<Figure size 640x480 with 1 Axes>"
      ]
     },
     "metadata": {},
     "output_type": "display_data"
    }
   ],
   "source": [
    "df['Relationship_Status'].value_counts().plot(kind = 'bar')"
   ]
  },
  {
   "cell_type": "markdown",
   "metadata": {
    "id": "qFxF_JMyBj5L"
   },
   "source": [
    "### In the same way we can find using PieChart"
   ]
  },
  {
   "cell_type": "code",
   "execution_count": 20,
   "metadata": {
    "colab": {
     "base_uri": "https://localhost:8080/",
     "height": 423
    },
    "id": "z2OC0iL7AkH_",
    "outputId": "6f29b10d-7056-4a7c-b4d1-e7a45b0f4e56"
   },
   "outputs": [
    {
     "data": {
      "text/plain": [
       "<Axes: ylabel='count'>"
      ]
     },
     "execution_count": 20,
     "metadata": {},
     "output_type": "execute_result"
    },
    {
     "data": {
      "image/png": "[encoded data removed]",
      "text/plain": [
       "<Figure size 640x480 with 1 Axes>"
      ]
     },
     "metadata": {},
     "output_type": "display_data"
    }
   ],
   "source": [
    "df['Conflicts_Over_Social_Media'].value_counts().plot(kind = 'pie', autopct = '%.2f')"
   ]
  },
  {
   "cell_type": "markdown",
   "metadata": {
    "id": "sIu7ziQWBt8L"
   },
   "source": [
    "## From Numerical Data"
   ]
  },
  {
   "cell_type": "markdown",
   "metadata": {
    "id": "iisU_rcTB49n"
   },
   "source": [
    "- Histogram"
   ]
  },
  {
   "cell_type": "code",
   "execution_count": 21,
   "metadata": {
    "colab": {
     "base_uri": "https://localhost:8080/",
     "height": 482
    },
    "id": "TuIxfTNjA5Ue",
    "outputId": "b2823ddd-ac19-46e0-970b-1909a33acc22"
   },
   "outputs": [
    {
     "data": {
      "text/plain": [
       "(array([ 14., 163.,   0., 165.,   0., 156., 147.,   0.,  34.,  26.]),\n",
       " array([18. , 18.6, 19.2, 19.8, 20.4, 21. , 21.6, 22.2, 22.8, 23.4, 24. ]),\n",
       " <BarContainer object of 10 artists>)"
      ]
     },
     "execution_count": 21,
     "metadata": {},
     "output_type": "execute_result"
    },
    {
     "data": {
      "image/png": "[encoded data removed]",
      "text/plain": [
       "<Figure size 640x480 with 1 Axes>"
      ]
     },
     "metadata": {},
     "output_type": "display_data"
    }
   ],
   "source": [
    "plt.hist(df['Age'], bins = 10)"
   ]
  },
  {
   "cell_type": "markdown",
   "metadata": {
    "id": "B8L4h18ECV4z"
   },
   "source": [
    "- Distplot"
   ]
  },
  {
   "cell_type": "code",
   "execution_count": 22,
   "metadata": {
    "colab": {
     "base_uri": "https://localhost:8080/",
     "height": 658
    },
    "id": "cTw-4jecCB6k",
    "outputId": "0a0fce79-a381-48fc-ca28-3653d815444e"
   },
   "outputs": [
    {
     "name": "stderr",
     "output_type": "stream",
     "text": [
      "C:\\Users\\devra\\AppData\\Local\\Temp\\ipykernel_22508\\2223395879.py:1: UserWarning: \n",
      "\n",
      "`distplot` is a deprecated function and will be removed in seaborn v0.14.0.\n",
      "\n",
      "Please adapt your code to use either `displot` (a figure-level function with\n",
      "similar flexibility) or `histplot` (an axes-level function for histograms).\n",
      "\n",
      "For a guide to updating your code to use the new functions, please see\n",
      "https://gist.github.com/mwaskom/de44147ed2974457ad6372750bbe5751\n",
      "\n",
      "  sns.distplot(df['Avg_Daily_Usage_Hours'])\n"
     ]
    },
    {
     "data": {
      "text/plain": [
       "np.float64(0.16463375853781276)"
      ]
     },
     "execution_count": 22,
     "metadata": {},
     "output_type": "execute_result"
    },
    {
     "data": {
      "image/png": "[encoded data removed]",
      "text/plain": [
       "<Figure size 640x480 with 1 Axes>"
      ]
     },
     "metadata": {},
     "output_type": "display_data"
    }
   ],
   "source": [
    "sns.distplot(df['Avg_Daily_Usage_Hours'])\n",
    "df['Avg_Daily_Usage_Hours'].skew()"
   ]
  },
  {
   "cell_type": "markdown",
   "metadata": {
    "id": "bIiJxuKZCwGe"
   },
   "source": [
    "- Box Plot"
   ]
  },
  {
   "cell_type": "code",
   "execution_count": 23,
   "metadata": {
    "colab": {
     "base_uri": "https://localhost:8080/",
     "height": 428
    },
    "id": "PKKRNYEmCded",
    "outputId": "0044105d-5434-404b-b12f-3e5d86cba26b"
   },
   "outputs": [
    {
     "data": {
      "text/plain": [
       "<Axes: ylabel='Sleep_Hours_Per_Night'>"
      ]
     },
     "execution_count": 23,
     "metadata": {},
     "output_type": "execute_result"
    },
    {
     "data": {
      "image/png": "[encoded data removed]",
      "text/plain": [
       "<Figure size 640x480 with 1 Axes>"
      ]
     },
     "metadata": {},
     "output_type": "display_data"
    }
   ],
   "source": [
    "sns.boxplot(df['Sleep_Hours_Per_Night'])"
   ]
  },
  {
   "cell_type": "code",
   "execution_count": null,
   "metadata": {
    "id": "5OP4yULCDTmY"
   },
   "outputs": [],
   "source": []
  },
  {
   "cell_type": "markdown",
   "metadata": {
    "id": "ysDpb4X8Evi4"
   },
   "source": [
    "# Bivariate and Multivariate Analysis"
   ]
  },
  {
   "cell_type": "code",
   "execution_count": 24,
   "metadata": {
    "colab": {
     "base_uri": "https://localhost:8080/",
     "height": 132
    },
    "id": "Qx3DyXErGDJC",
    "outputId": "eafa2455-779e-4027-c13d-c5aad820860d"
   },
   "outputs": [
    {
     "data": {
      "text/html": [
       "<div>\n",
       "<style scoped>\n",
       "    .dataframe tbody tr th:only-of-type {\n",
       "        vertical-align: middle;\n",
       "    }\n",
       "\n",
       "    .dataframe tbody tr th {\n",
       "        vertical-align: top;\n",
       "    }\n",
       "\n",
       "    .dataframe thead th {\n",
       "        text-align: right;\n",
       "    }\n",
       "</style>\n",
       "<table border=\"1\" class=\"dataframe\">\n",
       "  <thead>\n",
       "    <tr style=\"text-align: right;\">\n",
       "      <th></th>\n",
       "      <th>Student_ID</th>\n",
       "      <th>Age</th>\n",
       "      <th>Gender</th>\n",
       "      <th>Academic_Level</th>\n",
       "      <th>Country</th>\n",
       "      <th>Avg_Daily_Usage_Hours</th>\n",
       "      <th>Most_Used_Platform</th>\n",
       "      <th>Affects_Academic_Performance</th>\n",
       "      <th>Sleep_Hours_Per_Night</th>\n",
       "      <th>Mental_Health_Score</th>\n",
       "      <th>Relationship_Status</th>\n",
       "      <th>Conflicts_Over_Social_Media</th>\n",
       "      <th>Addicted_Score</th>\n",
       "    </tr>\n",
       "  </thead>\n",
       "  <tbody>\n",
       "    <tr>\n",
       "      <th>357</th>\n",
       "      <td>358</td>\n",
       "      <td>21</td>\n",
       "      <td>Male</td>\n",
       "      <td>Graduate</td>\n",
       "      <td>Mexico</td>\n",
       "      <td>5.9</td>\n",
       "      <td>WhatsApp</td>\n",
       "      <td>Yes</td>\n",
       "      <td>6.3</td>\n",
       "      <td>6</td>\n",
       "      <td>Single</td>\n",
       "      <td>3</td>\n",
       "      <td>7</td>\n",
       "    </tr>\n",
       "    <tr>\n",
       "      <th>336</th>\n",
       "      <td>337</td>\n",
       "      <td>19</td>\n",
       "      <td>Female</td>\n",
       "      <td>Undergraduate</td>\n",
       "      <td>USA</td>\n",
       "      <td>6.9</td>\n",
       "      <td>Instagram</td>\n",
       "      <td>Yes</td>\n",
       "      <td>5.4</td>\n",
       "      <td>5</td>\n",
       "      <td>In Relationship</td>\n",
       "      <td>4</td>\n",
       "      <td>9</td>\n",
       "    </tr>\n",
       "  </tbody>\n",
       "</table>\n",
       "</div>"
      ],
      "text/plain": [
       "     Student_ID  Age  Gender Academic_Level Country  Avg_Daily_Usage_Hours  \\\n",
       "357         358   21    Male       Graduate  Mexico                    5.9   \n",
       "336         337   19  Female  Undergraduate     USA                    6.9   \n",
       "\n",
       "    Most_Used_Platform Affects_Academic_Performance  Sleep_Hours_Per_Night  \\\n",
       "357           WhatsApp                          Yes                    6.3   \n",
       "336          Instagram                          Yes                    5.4   \n",
       "\n",
       "     Mental_Health_Score Relationship_Status  Conflicts_Over_Social_Media  \\\n",
       "357                    6              Single                            3   \n",
       "336                    5     In Relationship                            4   \n",
       "\n",
       "     Addicted_Score  \n",
       "357               7  \n",
       "336               9  "
      ]
     },
     "execution_count": 24,
     "metadata": {},
     "output_type": "execute_result"
    }
   ],
   "source": [
    "df.sample(2)"
   ]
  },
  {
   "cell_type": "markdown",
   "metadata": {
    "id": "p8zt0FRLFiOp"
   },
   "source": [
    "## - Scatterplot (Nueric-Numeric)"
   ]
  },
  {
   "cell_type": "code",
   "execution_count": 25,
   "metadata": {
    "colab": {
     "base_uri": "https://localhost:8080/",
     "height": 467
    },
    "id": "gT1OHRyZFf9p",
    "outputId": "e2222eb8-6a75-45ad-bc5a-56bd52573804"
   },
   "outputs": [
    {
     "data": {
      "text/plain": [
       "<Axes: xlabel='Sleep_Hours_Per_Night', ylabel='Avg_Daily_Usage_Hours'>"
      ]
     },
     "execution_count": 25,
     "metadata": {},
     "output_type": "execute_result"
    },
    {
     "data": {
      "image/png": "[encoded data removed]",
      "text/plain": [
       "<Figure size 640x480 with 1 Axes>"
      ]
     },
     "metadata": {},
     "output_type": "display_data"
    }
   ],
   "source": [
    "sns.scatterplot(x = df['Sleep_Hours_Per_Night'], y = df['Avg_Daily_Usage_Hours'])"
   ]
  },
  {
   "cell_type": "markdown",
   "metadata": {
    "id": "-1jpAy57IErC"
   },
   "source": [
    "The Above shows the relationship between daily usage vs sleep hour per night.\n",
    "- the more you sleep, the screen time is less"
   ]
  },
  {
   "cell_type": "code",
   "execution_count": 26,
   "metadata": {
    "colab": {
     "base_uri": "https://localhost:8080/",
     "height": 467
    },
    "id": "cWErKIcwIjKB",
    "outputId": "455ad7d6-00ae-4dda-9e32-fb4cd2d386ff"
   },
   "outputs": [
    {
     "data": {
      "text/plain": [
       "<Axes: xlabel='Sleep_Hours_Per_Night', ylabel='Avg_Daily_Usage_Hours'>"
      ]
     },
     "execution_count": 26,
     "metadata": {},
     "output_type": "execute_result"
    },
    {
     "data": {
      "image/png": "[encoded data removed]",
      "text/plain": [
       "<Figure size 640x480 with 1 Axes>"
      ]
     },
     "metadata": {},
     "output_type": "display_data"
    }
   ],
   "source": [
    "# We also added another variable that is Gender\n",
    "\n",
    "sns.scatterplot(x = df['Sleep_Hours_Per_Night'], y = df['Avg_Daily_Usage_Hours'], hue=df['Gender'])"
   ]
  },
  {
   "cell_type": "code",
   "execution_count": 27,
   "metadata": {
    "colab": {
     "base_uri": "https://localhost:8080/",
     "height": 467
    },
    "id": "9oRBnvRYJbb8",
    "outputId": "96e73268-0355-47db-eb0e-73e1892e634a"
   },
   "outputs": [
    {
     "data": {
      "text/plain": [
       "<Axes: xlabel='Sleep_Hours_Per_Night', ylabel='Avg_Daily_Usage_Hours'>"
      ]
     },
     "execution_count": 27,
     "metadata": {},
     "output_type": "execute_result"
    },
    {
     "data": {
      "image/png": "[encoded data removed]",
      "text/plain": [
       "<Figure size 640x480 with 1 Axes>"
      ]
     },
     "metadata": {},
     "output_type": "display_data"
    }
   ],
   "source": [
    "# We also added another variable that is Platform\n",
    "\n",
    "sns.scatterplot(x = df['Sleep_Hours_Per_Night'], y = df['Avg_Daily_Usage_Hours'], hue=df['Most_Used_Platform'], style=df['Gender'])"
   ]
  },
  {
   "cell_type": "markdown",
   "metadata": {
    "id": "1g9STay2K0TK"
   },
   "source": [
    "## - Bar Plot (Numeric + Categorial)"
   ]
  },
  {
   "cell_type": "code",
   "execution_count": 28,
   "metadata": {
    "colab": {
     "base_uri": "https://localhost:8080/",
     "height": 468
    },
    "id": "PYF93VioKQHj",
    "outputId": "0b870b6f-236f-422c-96b5-48861d54a69a"
   },
   "outputs": [
    {
     "data": {
      "text/plain": [
       "<Axes: xlabel='Academic_Level', ylabel='Avg_Daily_Usage_Hours'>"
      ]
     },
     "execution_count": 28,
     "metadata": {},
     "output_type": "execute_result"
    },
    {
     "data": {
      "image/png": "[encoded data removed]",
      "text/plain": [
       "<Figure size 640x480 with 1 Axes>"
      ]
     },
     "metadata": {},
     "output_type": "display_data"
    }
   ],
   "source": [
    "sns.barplot(x = df['Academic_Level'], y = df['Avg_Daily_Usage_Hours'])"
   ]
  },
  {
   "cell_type": "code",
   "execution_count": 29,
   "metadata": {
    "colab": {
     "base_uri": "https://localhost:8080/",
     "height": 467
    },
    "id": "xrDpxmUcLNFS",
    "outputId": "0b6603cb-2eee-450d-b54e-bf55e14cab44"
   },
   "outputs": [
    {
     "data": {
      "text/plain": [
       "<Axes: xlabel='Academic_Level', ylabel='Sleep_Hours_Per_Night'>"
      ]
     },
     "execution_count": 29,
     "metadata": {},
     "output_type": "execute_result"
    },
    {
     "data": {
      "image/png": "[encoded data removed]",
      "text/plain": [
       "<Figure size 640x480 with 1 Axes>"
      ]
     },
     "metadata": {},
     "output_type": "display_data"
    }
   ],
   "source": [
    "\n",
    "\n",
    "sns.barplot(x = df['Academic_Level'], y = df['Sleep_Hours_Per_Night'], hue = df['Gender'])"
   ]
  },
  {
   "cell_type": "code",
   "execution_count": 30,
   "metadata": {
    "colab": {
     "base_uri": "https://localhost:8080/",
     "height": 467
    },
    "id": "ecUPIj4UL09O",
    "outputId": "6f6af2b4-906a-4a90-ef9d-86bcef21342c"
   },
   "outputs": [
    {
     "data": {
      "text/plain": [
       "<Axes: xlabel='Academic_Level', ylabel='Sleep_Hours_Per_Night'>"
      ]
     },
     "execution_count": 30,
     "metadata": {},
     "output_type": "execute_result"
    },
    {
     "data": {
      "image/png": "[encoded data removed]",
      "text/plain": [
       "<Figure size 640x480 with 1 Axes>"
      ]
     },
     "metadata": {},
     "output_type": "display_data"
    }
   ],
   "source": [
    "\n",
    "\n",
    "sns.barplot(x = df['Academic_Level'], y = df['Sleep_Hours_Per_Night'], hue = df['Gender'])"
   ]
  },
  {
   "cell_type": "markdown",
   "metadata": {
    "id": "bM6ysugFMrcZ"
   },
   "source": [
    "## - Distplot (Numeric - Categorial)"
   ]
  },
  {
   "cell_type": "code",
   "execution_count": null,
   "metadata": {
    "colab": {
     "base_uri": "https://localhost:8080/",
     "height": 930
    },
    "id": "z_gsz62tMXcG",
    "outputId": "3cef3940-ae1d-49f5-9fa0-370a574b6641"
   },
   "outputs": [],
   "source": []
  },
  {
   "cell_type": "markdown",
   "metadata": {
    "id": "aot0IIpQPPOk"
   },
   "source": [
    "## - Heatmap (Categorical - Categorical)"
   ]
  },
  {
   "cell_type": "code",
   "execution_count": 33,
   "metadata": {
    "colab": {
     "base_uri": "https://localhost:8080/",
     "height": 467
    },
    "id": "uIOTEwm6M5iV",
    "outputId": "d92c7e06-506c-46d9-dcda-59cdb159c4ab"
   },
   "outputs": [
    {
     "data": {
      "text/plain": [
       "<Axes: xlabel='Academic_Level', ylabel='Gender'>"
      ]
     },
     "execution_count": 33,
     "metadata": {},
     "output_type": "execute_result"
    },
    {
     "data": {
      "image/png": "[encoded data removed]",
      "text/plain": [
       "<Figure size 640x480 with 2 Axes>"
      ]
     },
     "metadata": {},
     "output_type": "display_data"
    }
   ],
   "source": [
    "sns.heatmap(pd.crosstab(df['Gender'], df['Academic_Level']), annot=True)"
   ]
  },
  {
   "cell_type": "markdown",
   "metadata": {
    "id": "Glr8A3u9Rm8X"
   },
   "source": [
    "Lighter cells = higher counts, darker cells = lower counts, based on the colorbar scale shown on the right."
   ]
  },
  {
   "cell_type": "code",
   "execution_count": null,
   "metadata": {
    "id": "97dmItGoPsju"
   },
   "outputs": [],
   "source": []
  },
  {
   "cell_type": "markdown",
   "metadata": {
    "id": "d_oB9zO7VT9q"
   },
   "source": [
    "# Lets do the Preprocessing of Data"
   ]
  },
  {
   "cell_type": "code",
   "execution_count": 34,
   "metadata": {
    "colab": {
     "base_uri": "https://localhost:8080/",
     "height": 163
    },
    "id": "RqV6Tln5VYRS",
    "outputId": "41f74997-05ed-49b3-b4d1-8b6b7d5ae970"
   },
   "outputs": [
    {
     "data": {
      "text/html": [
       "<div>\n",
       "<style scoped>\n",
       "    .dataframe tbody tr th:only-of-type {\n",
       "        vertical-align: middle;\n",
       "    }\n",
       "\n",
       "    .dataframe tbody tr th {\n",
       "        vertical-align: top;\n",
       "    }\n",
       "\n",
       "    .dataframe thead th {\n",
       "        text-align: right;\n",
       "    }\n",
       "</style>\n",
       "<table border=\"1\" class=\"dataframe\">\n",
       "  <thead>\n",
       "    <tr style=\"text-align: right;\">\n",
       "      <th></th>\n",
       "      <th>Student_ID</th>\n",
       "      <th>Age</th>\n",
       "      <th>Gender</th>\n",
       "      <th>Academic_Level</th>\n",
       "      <th>Country</th>\n",
       "      <th>Avg_Daily_Usage_Hours</th>\n",
       "      <th>Most_Used_Platform</th>\n",
       "      <th>Affects_Academic_Performance</th>\n",
       "      <th>Sleep_Hours_Per_Night</th>\n",
       "      <th>Mental_Health_Score</th>\n",
       "      <th>Relationship_Status</th>\n",
       "      <th>Conflicts_Over_Social_Media</th>\n",
       "      <th>Addicted_Score</th>\n",
       "    </tr>\n",
       "  </thead>\n",
       "  <tbody>\n",
       "    <tr>\n",
       "      <th>141</th>\n",
       "      <td>142</td>\n",
       "      <td>21</td>\n",
       "      <td>Female</td>\n",
       "      <td>Graduate</td>\n",
       "      <td>India</td>\n",
       "      <td>5.2</td>\n",
       "      <td>Instagram</td>\n",
       "      <td>Yes</td>\n",
       "      <td>5.2</td>\n",
       "      <td>6</td>\n",
       "      <td>In Relationship</td>\n",
       "      <td>3</td>\n",
       "      <td>7</td>\n",
       "    </tr>\n",
       "    <tr>\n",
       "      <th>299</th>\n",
       "      <td>300</td>\n",
       "      <td>22</td>\n",
       "      <td>Male</td>\n",
       "      <td>Graduate</td>\n",
       "      <td>Russia</td>\n",
       "      <td>3.9</td>\n",
       "      <td>VKontakte</td>\n",
       "      <td>No</td>\n",
       "      <td>8.1</td>\n",
       "      <td>7</td>\n",
       "      <td>In Relationship</td>\n",
       "      <td>2</td>\n",
       "      <td>5</td>\n",
       "    </tr>\n",
       "    <tr>\n",
       "      <th>607</th>\n",
       "      <td>608</td>\n",
       "      <td>21</td>\n",
       "      <td>Male</td>\n",
       "      <td>Undergraduate</td>\n",
       "      <td>India</td>\n",
       "      <td>7.1</td>\n",
       "      <td>Facebook</td>\n",
       "      <td>Yes</td>\n",
       "      <td>5.7</td>\n",
       "      <td>4</td>\n",
       "      <td>Single</td>\n",
       "      <td>5</td>\n",
       "      <td>9</td>\n",
       "    </tr>\n",
       "  </tbody>\n",
       "</table>\n",
       "</div>"
      ],
      "text/plain": [
       "     Student_ID  Age  Gender Academic_Level Country  Avg_Daily_Usage_Hours  \\\n",
       "141         142   21  Female       Graduate   India                    5.2   \n",
       "299         300   22    Male       Graduate  Russia                    3.9   \n",
       "607         608   21    Male  Undergraduate   India                    7.1   \n",
       "\n",
       "    Most_Used_Platform Affects_Academic_Performance  Sleep_Hours_Per_Night  \\\n",
       "141          Instagram                          Yes                    5.2   \n",
       "299          VKontakte                           No                    8.1   \n",
       "607           Facebook                          Yes                    5.7   \n",
       "\n",
       "     Mental_Health_Score Relationship_Status  Conflicts_Over_Social_Media  \\\n",
       "141                    6     In Relationship                            3   \n",
       "299                    7     In Relationship                            2   \n",
       "607                    4              Single                            5   \n",
       "\n",
       "     Addicted_Score  \n",
       "141               7  \n",
       "299               5  \n",
       "607               9  "
      ]
     },
     "execution_count": 34,
     "metadata": {},
     "output_type": "execute_result"
    }
   ],
   "source": [
    "df.sample(3)"
   ]
  },
  {
   "cell_type": "code",
   "execution_count": 35,
   "metadata": {
    "id": "-rf02-tHVbq5"
   },
   "outputs": [],
   "source": [
    "#Dropping Unused Columns\n",
    "\n",
    "df.drop(columns=['Student_ID', 'Country'], axis= 1,  inplace = True)"
   ]
  },
  {
   "cell_type": "code",
   "execution_count": 36,
   "metadata": {
    "colab": {
     "base_uri": "https://localhost:8080/",
     "height": 101
    },
    "id": "naQ-TNPkVt-J",
    "outputId": "b8e1a6da-bb6c-43d9-8de5-357a066afb88"
   },
   "outputs": [
    {
     "data": {
      "text/html": [
       "<div>\n",
       "<style scoped>\n",
       "    .dataframe tbody tr th:only-of-type {\n",
       "        vertical-align: middle;\n",
       "    }\n",
       "\n",
       "    .dataframe tbody tr th {\n",
       "        vertical-align: top;\n",
       "    }\n",
       "\n",
       "    .dataframe thead th {\n",
       "        text-align: right;\n",
       "    }\n",
       "</style>\n",
       "<table border=\"1\" class=\"dataframe\">\n",
       "  <thead>\n",
       "    <tr style=\"text-align: right;\">\n",
       "      <th></th>\n",
       "      <th>Age</th>\n",
       "      <th>Gender</th>\n",
       "      <th>Academic_Level</th>\n",
       "      <th>Avg_Daily_Usage_Hours</th>\n",
       "      <th>Most_Used_Platform</th>\n",
       "      <th>Affects_Academic_Performance</th>\n",
       "      <th>Sleep_Hours_Per_Night</th>\n",
       "      <th>Mental_Health_Score</th>\n",
       "      <th>Relationship_Status</th>\n",
       "      <th>Conflicts_Over_Social_Media</th>\n",
       "      <th>Addicted_Score</th>\n",
       "    </tr>\n",
       "  </thead>\n",
       "  <tbody>\n",
       "    <tr>\n",
       "      <th>0</th>\n",
       "      <td>19</td>\n",
       "      <td>Female</td>\n",
       "      <td>Undergraduate</td>\n",
       "      <td>5.2</td>\n",
       "      <td>Instagram</td>\n",
       "      <td>Yes</td>\n",
       "      <td>6.5</td>\n",
       "      <td>6</td>\n",
       "      <td>In Relationship</td>\n",
       "      <td>3</td>\n",
       "      <td>8</td>\n",
       "    </tr>\n",
       "  </tbody>\n",
       "</table>\n",
       "</div>"
      ],
      "text/plain": [
       "   Age  Gender Academic_Level  Avg_Daily_Usage_Hours Most_Used_Platform  \\\n",
       "0   19  Female  Undergraduate                    5.2          Instagram   \n",
       "\n",
       "  Affects_Academic_Performance  Sleep_Hours_Per_Night  Mental_Health_Score  \\\n",
       "0                          Yes                    6.5                    6   \n",
       "\n",
       "  Relationship_Status  Conflicts_Over_Social_Media  Addicted_Score  \n",
       "0     In Relationship                            3               8  "
      ]
     },
     "execution_count": 36,
     "metadata": {},
     "output_type": "execute_result"
    }
   ],
   "source": [
    "df.head(1)"
   ]
  },
  {
   "cell_type": "code",
   "execution_count": 37,
   "metadata": {
    "id": "cY8x-WKJWE6R"
   },
   "outputs": [],
   "source": [
    "# Performing Label Encoding\n",
    "\n",
    "from sklearn.preprocessing import LabelEncoder\n",
    "\n",
    "le = LabelEncoder()"
   ]
  },
  {
   "cell_type": "code",
   "execution_count": null,
   "metadata": {
    "id": "TnPFhxKdVvgl"
   },
   "outputs": [],
   "source": []
  },
  {
   "cell_type": "code",
   "execution_count": 38,
   "metadata": {
    "colab": {
     "base_uri": "https://localhost:8080/",
     "height": 101
    },
    "id": "k1x6MYuaWY5m",
    "outputId": "659a3683-7b06-4e5f-b8a4-62439de55375"
   },
   "outputs": [
    {
     "data": {
      "text/html": [
       "<div>\n",
       "<style scoped>\n",
       "    .dataframe tbody tr th:only-of-type {\n",
       "        vertical-align: middle;\n",
       "    }\n",
       "\n",
       "    .dataframe tbody tr th {\n",
       "        vertical-align: top;\n",
       "    }\n",
       "\n",
       "    .dataframe thead th {\n",
       "        text-align: right;\n",
       "    }\n",
       "</style>\n",
       "<table border=\"1\" class=\"dataframe\">\n",
       "  <thead>\n",
       "    <tr style=\"text-align: right;\">\n",
       "      <th></th>\n",
       "      <th>Age</th>\n",
       "      <th>Gender</th>\n",
       "      <th>Academic_Level</th>\n",
       "      <th>Avg_Daily_Usage_Hours</th>\n",
       "      <th>Most_Used_Platform</th>\n",
       "      <th>Affects_Academic_Performance</th>\n",
       "      <th>Sleep_Hours_Per_Night</th>\n",
       "      <th>Mental_Health_Score</th>\n",
       "      <th>Relationship_Status</th>\n",
       "      <th>Conflicts_Over_Social_Media</th>\n",
       "      <th>Addicted_Score</th>\n",
       "    </tr>\n",
       "  </thead>\n",
       "  <tbody>\n",
       "    <tr>\n",
       "      <th>0</th>\n",
       "      <td>19</td>\n",
       "      <td>Female</td>\n",
       "      <td>Undergraduate</td>\n",
       "      <td>5.2</td>\n",
       "      <td>Instagram</td>\n",
       "      <td>Yes</td>\n",
       "      <td>6.5</td>\n",
       "      <td>6</td>\n",
       "      <td>In Relationship</td>\n",
       "      <td>3</td>\n",
       "      <td>8</td>\n",
       "    </tr>\n",
       "  </tbody>\n",
       "</table>\n",
       "</div>"
      ],
      "text/plain": [
       "   Age  Gender Academic_Level  Avg_Daily_Usage_Hours Most_Used_Platform  \\\n",
       "0   19  Female  Undergraduate                    5.2          Instagram   \n",
       "\n",
       "  Affects_Academic_Performance  Sleep_Hours_Per_Night  Mental_Health_Score  \\\n",
       "0                          Yes                    6.5                    6   \n",
       "\n",
       "  Relationship_Status  Conflicts_Over_Social_Media  Addicted_Score  \n",
       "0     In Relationship                            3               8  "
      ]
     },
     "execution_count": 38,
     "metadata": {},
     "output_type": "execute_result"
    }
   ],
   "source": [
    "df.head(1)"
   ]
  },
  {
   "cell_type": "code",
   "execution_count": 39,
   "metadata": {
    "id": "Jo6oszYAWaK6"
   },
   "outputs": [],
   "source": [
    "df['Gender'] = le.fit_transform(df['Gender'])\n",
    "df['Most_Used_Platform'] = le.fit_transform(df['Most_Used_Platform'])\n",
    "df['Affects_Academic_Performance'] = le.fit_transform(df['Affects_Academic_Performance'])\n",
    "df['Relationship_Status'] = le.fit_transform(df['Relationship_Status'])\n",
    "df['Academic_Level'] = le.fit_transform(df['Academic_Level'])\n"
   ]
  },
  {
   "cell_type": "code",
   "execution_count": 40,
   "metadata": {
    "colab": {
     "base_uri": "https://localhost:8080/",
     "height": 101
    },
    "id": "vqwYnVtEWyMC",
    "outputId": "a89cbca1-4daa-43fc-8854-3307404b140a"
   },
   "outputs": [
    {
     "data": {
      "text/html": [
       "<div>\n",
       "<style scoped>\n",
       "    .dataframe tbody tr th:only-of-type {\n",
       "        vertical-align: middle;\n",
       "    }\n",
       "\n",
       "    .dataframe tbody tr th {\n",
       "        vertical-align: top;\n",
       "    }\n",
       "\n",
       "    .dataframe thead th {\n",
       "        text-align: right;\n",
       "    }\n",
       "</style>\n",
       "<table border=\"1\" class=\"dataframe\">\n",
       "  <thead>\n",
       "    <tr style=\"text-align: right;\">\n",
       "      <th></th>\n",
       "      <th>Age</th>\n",
       "      <th>Gender</th>\n",
       "      <th>Academic_Level</th>\n",
       "      <th>Avg_Daily_Usage_Hours</th>\n",
       "      <th>Most_Used_Platform</th>\n",
       "      <th>Affects_Academic_Performance</th>\n",
       "      <th>Sleep_Hours_Per_Night</th>\n",
       "      <th>Mental_Health_Score</th>\n",
       "      <th>Relationship_Status</th>\n",
       "      <th>Conflicts_Over_Social_Media</th>\n",
       "      <th>Addicted_Score</th>\n",
       "    </tr>\n",
       "  </thead>\n",
       "  <tbody>\n",
       "    <tr>\n",
       "      <th>0</th>\n",
       "      <td>19</td>\n",
       "      <td>0</td>\n",
       "      <td>2</td>\n",
       "      <td>5.2</td>\n",
       "      <td>1</td>\n",
       "      <td>1</td>\n",
       "      <td>6.5</td>\n",
       "      <td>6</td>\n",
       "      <td>1</td>\n",
       "      <td>3</td>\n",
       "      <td>8</td>\n",
       "    </tr>\n",
       "  </tbody>\n",
       "</table>\n",
       "</div>"
      ],
      "text/plain": [
       "   Age  Gender  Academic_Level  Avg_Daily_Usage_Hours  Most_Used_Platform  \\\n",
       "0   19       0               2                    5.2                   1   \n",
       "\n",
       "   Affects_Academic_Performance  Sleep_Hours_Per_Night  Mental_Health_Score  \\\n",
       "0                             1                    6.5                    6   \n",
       "\n",
       "   Relationship_Status  Conflicts_Over_Social_Media  Addicted_Score  \n",
       "0                    1                            3               8  "
      ]
     },
     "execution_count": 40,
     "metadata": {},
     "output_type": "execute_result"
    }
   ],
   "source": [
    "df.head(1)"
   ]
  },
  {
   "cell_type": "code",
   "execution_count": 41,
   "metadata": {
    "colab": {
     "base_uri": "https://localhost:8080/",
     "height": 226
    },
    "id": "9jNniQirW3L_",
    "outputId": "a1467d05-8b70-4b96-fb2d-90539b573811"
   },
   "outputs": [
    {
     "data": {
      "text/html": [
       "<div>\n",
       "<style scoped>\n",
       "    .dataframe tbody tr th:only-of-type {\n",
       "        vertical-align: middle;\n",
       "    }\n",
       "\n",
       "    .dataframe tbody tr th {\n",
       "        vertical-align: top;\n",
       "    }\n",
       "\n",
       "    .dataframe thead th {\n",
       "        text-align: right;\n",
       "    }\n",
       "</style>\n",
       "<table border=\"1\" class=\"dataframe\">\n",
       "  <thead>\n",
       "    <tr style=\"text-align: right;\">\n",
       "      <th></th>\n",
       "      <th>Age</th>\n",
       "      <th>Gender</th>\n",
       "      <th>Academic_Level</th>\n",
       "      <th>Avg_Daily_Usage_Hours</th>\n",
       "      <th>Most_Used_Platform</th>\n",
       "      <th>Affects_Academic_Performance</th>\n",
       "      <th>Sleep_Hours_Per_Night</th>\n",
       "      <th>Mental_Health_Score</th>\n",
       "      <th>Relationship_Status</th>\n",
       "      <th>Conflicts_Over_Social_Media</th>\n",
       "      <th>Addicted_Score</th>\n",
       "    </tr>\n",
       "  </thead>\n",
       "  <tbody>\n",
       "    <tr>\n",
       "      <th>0</th>\n",
       "      <td>19</td>\n",
       "      <td>0</td>\n",
       "      <td>2</td>\n",
       "      <td>5.2</td>\n",
       "      <td>1</td>\n",
       "      <td>1</td>\n",
       "      <td>6.5</td>\n",
       "      <td>6</td>\n",
       "      <td>1</td>\n",
       "      <td>3</td>\n",
       "      <td>8</td>\n",
       "    </tr>\n",
       "    <tr>\n",
       "      <th>1</th>\n",
       "      <td>22</td>\n",
       "      <td>1</td>\n",
       "      <td>0</td>\n",
       "      <td>2.1</td>\n",
       "      <td>7</td>\n",
       "      <td>0</td>\n",
       "      <td>7.5</td>\n",
       "      <td>8</td>\n",
       "      <td>2</td>\n",
       "      <td>0</td>\n",
       "      <td>3</td>\n",
       "    </tr>\n",
       "    <tr>\n",
       "      <th>2</th>\n",
       "      <td>20</td>\n",
       "      <td>0</td>\n",
       "      <td>2</td>\n",
       "      <td>6.0</td>\n",
       "      <td>6</td>\n",
       "      <td>1</td>\n",
       "      <td>5.0</td>\n",
       "      <td>5</td>\n",
       "      <td>0</td>\n",
       "      <td>4</td>\n",
       "      <td>9</td>\n",
       "    </tr>\n",
       "    <tr>\n",
       "      <th>3</th>\n",
       "      <td>18</td>\n",
       "      <td>1</td>\n",
       "      <td>1</td>\n",
       "      <td>3.0</td>\n",
       "      <td>11</td>\n",
       "      <td>0</td>\n",
       "      <td>7.0</td>\n",
       "      <td>7</td>\n",
       "      <td>2</td>\n",
       "      <td>1</td>\n",
       "      <td>4</td>\n",
       "    </tr>\n",
       "    <tr>\n",
       "      <th>4</th>\n",
       "      <td>21</td>\n",
       "      <td>1</td>\n",
       "      <td>0</td>\n",
       "      <td>4.5</td>\n",
       "      <td>0</td>\n",
       "      <td>1</td>\n",
       "      <td>6.0</td>\n",
       "      <td>6</td>\n",
       "      <td>1</td>\n",
       "      <td>2</td>\n",
       "      <td>7</td>\n",
       "    </tr>\n",
       "  </tbody>\n",
       "</table>\n",
       "</div>"
      ],
      "text/plain": [
       "   Age  Gender  Academic_Level  Avg_Daily_Usage_Hours  Most_Used_Platform  \\\n",
       "0   19       0               2                    5.2                   1   \n",
       "1   22       1               0                    2.1                   7   \n",
       "2   20       0               2                    6.0                   6   \n",
       "3   18       1               1                    3.0                  11   \n",
       "4   21       1               0                    4.5                   0   \n",
       "\n",
       "   Affects_Academic_Performance  Sleep_Hours_Per_Night  Mental_Health_Score  \\\n",
       "0                             1                    6.5                    6   \n",
       "1                             0                    7.5                    8   \n",
       "2                             1                    5.0                    5   \n",
       "3                             0                    7.0                    7   \n",
       "4                             1                    6.0                    6   \n",
       "\n",
       "   Relationship_Status  Conflicts_Over_Social_Media  Addicted_Score  \n",
       "0                    1                            3               8  \n",
       "1                    2                            0               3  \n",
       "2                    0                            4               9  \n",
       "3                    2                            1               4  \n",
       "4                    1                            2               7  "
      ]
     },
     "execution_count": 41,
     "metadata": {},
     "output_type": "execute_result"
    }
   ],
   "source": [
    "df.head()"
   ]
  },
  {
   "cell_type": "markdown",
   "metadata": {
    "id": "HXeE3wv0XKED"
   },
   "source": [
    "# Model No. 1 - Regression Model"
   ]
  },
  {
   "cell_type": "code",
   "execution_count": 42,
   "metadata": {
    "id": "UxrUxP01Xm3J"
   },
   "outputs": [],
   "source": [
    "df_ml1 = df"
   ]
  },
  {
   "cell_type": "code",
   "execution_count": 43,
   "metadata": {
    "id": "D1yJjGOOXJMZ"
   },
   "outputs": [],
   "source": [
    "from sklearn.linear_model import LinearRegression\n",
    "from sklearn.model_selection import train_test_split"
   ]
  },
  {
   "cell_type": "code",
   "execution_count": 44,
   "metadata": {
    "id": "9qk7TK4eXDiJ"
   },
   "outputs": [],
   "source": [
    "m1_lr= LinearRegression()"
   ]
  },
  {
   "cell_type": "code",
   "execution_count": 45,
   "metadata": {
    "id": "YcNTh5qoXaHN"
   },
   "outputs": [],
   "source": [
    "X = df_ml1.drop(columns = ['Addicted_Score', 'Affects_Academic_Performance','Conflicts_Over_Social_Media' ])"
   ]
  },
  {
   "cell_type": "code",
   "execution_count": 46,
   "metadata": {
    "colab": {
     "base_uri": "https://localhost:8080/",
     "height": 101
    },
    "id": "_lCPsHNtXzVA",
    "outputId": "6a747bba-521e-4ae4-d479-5d4a502eca67"
   },
   "outputs": [
    {
     "data": {
      "text/html": [
       "<div>\n",
       "<style scoped>\n",
       "    .dataframe tbody tr th:only-of-type {\n",
       "        vertical-align: middle;\n",
       "    }\n",
       "\n",
       "    .dataframe tbody tr th {\n",
       "        vertical-align: top;\n",
       "    }\n",
       "\n",
       "    .dataframe thead th {\n",
       "        text-align: right;\n",
       "    }\n",
       "</style>\n",
       "<table border=\"1\" class=\"dataframe\">\n",
       "  <thead>\n",
       "    <tr style=\"text-align: right;\">\n",
       "      <th></th>\n",
       "      <th>Age</th>\n",
       "      <th>Gender</th>\n",
       "      <th>Academic_Level</th>\n",
       "      <th>Avg_Daily_Usage_Hours</th>\n",
       "      <th>Most_Used_Platform</th>\n",
       "      <th>Sleep_Hours_Per_Night</th>\n",
       "      <th>Mental_Health_Score</th>\n",
       "      <th>Relationship_Status</th>\n",
       "    </tr>\n",
       "  </thead>\n",
       "  <tbody>\n",
       "    <tr>\n",
       "      <th>0</th>\n",
       "      <td>19</td>\n",
       "      <td>0</td>\n",
       "      <td>2</td>\n",
       "      <td>5.2</td>\n",
       "      <td>1</td>\n",
       "      <td>6.5</td>\n",
       "      <td>6</td>\n",
       "      <td>1</td>\n",
       "    </tr>\n",
       "  </tbody>\n",
       "</table>\n",
       "</div>"
      ],
      "text/plain": [
       "   Age  Gender  Academic_Level  Avg_Daily_Usage_Hours  Most_Used_Platform  \\\n",
       "0   19       0               2                    5.2                   1   \n",
       "\n",
       "   Sleep_Hours_Per_Night  Mental_Health_Score  Relationship_Status  \n",
       "0                    6.5                    6                    1  "
      ]
     },
     "execution_count": 46,
     "metadata": {},
     "output_type": "execute_result"
    }
   ],
   "source": [
    "X.head(1)"
   ]
  },
  {
   "cell_type": "code",
   "execution_count": 47,
   "metadata": {
    "id": "amyTdi8DX49D"
   },
   "outputs": [],
   "source": [
    "y = df_ml1[['Addicted_Score']]"
   ]
  },
  {
   "cell_type": "code",
   "execution_count": 48,
   "metadata": {
    "colab": {
     "base_uri": "https://localhost:8080/",
     "height": 81
    },
    "id": "w2LAdLBaYD4T",
    "outputId": "86f5dd3a-5a4f-4f2f-c09c-a95fefb87af7"
   },
   "outputs": [
    {
     "data": {
      "text/html": [
       "<div>\n",
       "<style scoped>\n",
       "    .dataframe tbody tr th:only-of-type {\n",
       "        vertical-align: middle;\n",
       "    }\n",
       "\n",
       "    .dataframe tbody tr th {\n",
       "        vertical-align: top;\n",
       "    }\n",
       "\n",
       "    .dataframe thead th {\n",
       "        text-align: right;\n",
       "    }\n",
       "</style>\n",
       "<table border=\"1\" class=\"dataframe\">\n",
       "  <thead>\n",
       "    <tr style=\"text-align: right;\">\n",
       "      <th></th>\n",
       "      <th>Addicted_Score</th>\n",
       "    </tr>\n",
       "  </thead>\n",
       "  <tbody>\n",
       "    <tr>\n",
       "      <th>0</th>\n",
       "      <td>8</td>\n",
       "    </tr>\n",
       "  </tbody>\n",
       "</table>\n",
       "</div>"
      ],
      "text/plain": [
       "   Addicted_Score\n",
       "0               8"
      ]
     },
     "execution_count": 48,
     "metadata": {},
     "output_type": "execute_result"
    }
   ],
   "source": [
    "y.head(1)"
   ]
  },
  {
   "cell_type": "code",
   "execution_count": 49,
   "metadata": {
    "colab": {
     "base_uri": "https://localhost:8080/"
    },
    "id": "gttMPLr7YFST",
    "outputId": "ca76fec1-19f0-4eb5-ae51-b476ff35cab9"
   },
   "outputs": [
    {
     "name": "stdout",
     "output_type": "stream",
     "text": [
      "(705, 8) (705, 1)\n"
     ]
    }
   ],
   "source": [
    "print(X.shape, y.shape)"
   ]
  },
  {
   "cell_type": "markdown",
   "metadata": {
    "id": "MFL-fdJ5YOvB"
   },
   "source": [
    "splitting into Training  and Testing"
   ]
  },
  {
   "cell_type": "code",
   "execution_count": 50,
   "metadata": {
    "id": "L7s_dxncYMJ2"
   },
   "outputs": [],
   "source": [
    "X_train, X_test, Y_train, Y_test = train_test_split(X, y, random_state=2, test_size=0.2)"
   ]
  },
  {
   "cell_type": "code",
   "execution_count": 51,
   "metadata": {
    "colab": {
     "base_uri": "https://localhost:8080/"
    },
    "id": "ie1WjD6bYcsQ",
    "outputId": "848fa0fa-07c1-4f2a-9e61-06b33f46cf1f"
   },
   "outputs": [
    {
     "name": "stdout",
     "output_type": "stream",
     "text": [
      "(564, 8) (141, 8) (705, 8)\n"
     ]
    }
   ],
   "source": [
    "print(X_train.shape, X_test.shape, X.shape)"
   ]
  },
  {
   "cell_type": "code",
   "execution_count": 52,
   "metadata": {
    "colab": {
     "base_uri": "https://localhost:8080/",
     "height": 80
    },
    "id": "6H7n4574Ygvu",
    "outputId": "536a9d89-887f-4690-eeb9-14cf26ea1af2"
   },
   "outputs": [
    {
     "data": {
      "text/html": [
       "<style>#sk-container-id-1 {\n",
       "  /* Definition of color scheme common for light and dark mode */\n",
       "  --sklearn-color-text: #000;\n",
       "  --sklearn-color-text-muted: #666;\n",
       "  --sklearn-color-line: gray;\n",
       "  /* Definition of color scheme for unfitted estimators */\n",
       "  --sklearn-color-unfitted-level-0: #fff5e6;\n",
       "  --sklearn-color-unfitted-level-1: #f6e4d2;\n",
       "  --sklearn-color-unfitted-level-2: #ffe0b3;\n",
       "  --sklearn-color-unfitted-level-3: chocolate;\n",
       "  /* Definition of color scheme for fitted estimators */\n",
       "  --sklearn-color-fitted-level-0: #f0f8ff;\n",
       "  --sklearn-color-fitted-level-1: #d4ebff;\n",
       "  --sklearn-color-fitted-level-2: #b3dbfd;\n",
       "  --sklearn-color-fitted-level-3: cornflowerblue;\n",
       "\n",
       "  /* Specific color for light theme */\n",
       "  --sklearn-color-text-on-default-background: var(--sg-text-color, var(--theme-code-foreground, var(--jp-content-font-color1, black)));\n",
       "  --sklearn-color-background: var(--sg-background-color, var(--theme-background, var(--jp-layout-color0, white)));\n",
       "  --sklearn-color-border-box: var(--sg-text-color, var(--theme-code-foreground, var(--jp-content-font-color1, black)));\n",
       "  --sklearn-color-icon: #696969;\n",
       "\n",
       "  @media (prefers-color-scheme: dark) {\n",
       "    /* Redefinition of color scheme for dark theme */\n",
       "    --sklearn-color-text-on-default-background: var(--sg-text-color, var(--theme-code-foreground, var(--jp-content-font-color1, white)));\n",
       "    --sklearn-color-background: var(--sg-background-color, var(--theme-background, var(--jp-layout-color0, #111)));\n",
       "    --sklearn-color-border-box: var(--sg-text-color, var(--theme-code-foreground, var(--jp-content-font-color1, white)));\n",
       "    --sklearn-color-icon: #878787;\n",
       "  }\n",
       "}\n",
       "\n",
       "#sk-container-id-1 {\n",
       "  color: var(--sklearn-color-text);\n",
       "}\n",
       "\n",
       "#sk-container-id-1 pre {\n",
       "  padding: 0;\n",
       "}\n",
       "\n",
       "#sk-container-id-1 input.sk-hidden--visually {\n",
       "  border: 0;\n",
       "  clip: rect(1px 1px 1px 1px);\n",
       "  clip: rect(1px, 1px, 1px, 1px);\n",
       "  height: 1px;\n",
       "  margin: -1px;\n",
       "  overflow: hidden;\n",
       "  padding: 0;\n",
       "  position: absolute;\n",
       "  width: 1px;\n",
       "}\n",
       "\n",
       "#sk-container-id-1 div.sk-dashed-wrapped {\n",
       "  border: 1px dashed var(--sklearn-color-line);\n",
       "  margin: 0 0.4em 0.5em 0.4em;\n",
       "  box-sizing: border-box;\n",
       "  padding-bottom: 0.4em;\n",
       "  background-color: var(--sklearn-color-background);\n",
       "}\n",
       "\n",
       "#sk-container-id-1 div.sk-container {\n",
       "  /* jupyter's `normalize.less` sets `[hidden] { display: none; }`\n",
       "     but bootstrap.min.css set `[hidden] { display: none !important; }`\n",
       "     so we also need the `!important` here to be able to override the\n",
       "     default hidden behavior on the sphinx rendered scikit-learn.org.\n",
       "     See: https://github.com/scikit-learn/scikit-learn/issues/21755 */\n",
       "  display: inline-block !important;\n",
       "  position: relative;\n",
       "}\n",
       "\n",
       "#sk-container-id-1 div.sk-text-repr-fallback {\n",
       "  display: none;\n",
       "}\n",
       "\n",
       "div.sk-parallel-item,\n",
       "div.sk-serial,\n",
       "div.sk-item {\n",
       "  /* draw centered vertical line to link estimators */\n",
       "  background-image: linear-gradient(var(--sklearn-color-text-on-default-background), var(--sklearn-color-text-on-default-background));\n",
       "  background-size: 2px 100%;\n",
       "  background-repeat: no-repeat;\n",
       "  background-position: center center;\n",
       "}\n",
       "\n",
       "/* Parallel-specific style estimator block */\n",
       "\n",
       "#sk-container-id-1 div.sk-parallel-item::after {\n",
       "  content: \"\";\n",
       "  width: 100%;\n",
       "  border-bottom: 2px solid var(--sklearn-color-text-on-default-background);\n",
       "  flex-grow: 1;\n",
       "}\n",
       "\n",
       "#sk-container-id-1 div.sk-parallel {\n",
       "  display: flex;\n",
       "  align-items: stretch;\n",
       "  justify-content: center;\n",
       "  background-color: var(--sklearn-color-background);\n",
       "  position: relative;\n",
       "}\n",
       "\n",
       "#sk-container-id-1 div.sk-parallel-item {\n",
       "  display: flex;\n",
       "  flex-direction: column;\n",
       "}\n",
       "\n",
       "#sk-container-id-1 div.sk-parallel-item:first-child::after {\n",
       "  align-self: flex-end;\n",
       "  width: 50%;\n",
       "}\n",
       "\n",
       "#sk-container-id-1 div.sk-parallel-item:last-child::after {\n",
       "  align-self: flex-start;\n",
       "  width: 50%;\n",
       "}\n",
       "\n",
       "#sk-container-id-1 div.sk-parallel-item:only-child::after {\n",
       "  width: 0;\n",
       "}\n",
       "\n",
       "/* Serial-specific style estimator block */\n",
       "\n",
       "#sk-container-id-1 div.sk-serial {\n",
       "  display: flex;\n",
       "  flex-direction: column;\n",
       "  align-items: center;\n",
       "  background-color: var(--sklearn-color-background);\n",
       "  padding-right: 1em;\n",
       "  padding-left: 1em;\n",
       "}\n",
       "\n",
       "\n",
       "/* Toggleable style: style used for estimator/Pipeline/ColumnTransformer box that is\n",
       "clickable and can be expanded/collapsed.\n",
       "- Pipeline and ColumnTransformer use this feature and define the default style\n",
       "- Estimators will overwrite some part of the style using the `sk-estimator` class\n",
       "*/\n",
       "\n",
       "/* Pipeline and ColumnTransformer style (default) */\n",
       "\n",
       "#sk-container-id-1 div.sk-toggleable {\n",
       "  /* Default theme specific background. It is overwritten whether we have a\n",
       "  specific estimator or a Pipeline/ColumnTransformer */\n",
       "  background-color: var(--sklearn-color-background);\n",
       "}\n",
       "\n",
       "/* Toggleable label */\n",
       "#sk-container-id-1 label.sk-toggleable__label {\n",
       "  cursor: pointer;\n",
       "  display: flex;\n",
       "  width: 100%;\n",
       "  margin-bottom: 0;\n",
       "  padding: 0.5em;\n",
       "  box-sizing: border-box;\n",
       "  text-align: center;\n",
       "  align-items: start;\n",
       "  justify-content: space-between;\n",
       "  gap: 0.5em;\n",
       "}\n",
       "\n",
       "#sk-container-id-1 label.sk-toggleable__label .caption {\n",
       "  font-size: 0.6rem;\n",
       "  font-weight: lighter;\n",
       "  color: var(--sklearn-color-text-muted);\n",
       "}\n",
       "\n",
       "#sk-container-id-1 label.sk-toggleable__label-arrow:before {\n",
       "  /* Arrow on the left of the label */\n",
       "  content: \"▸\";\n",
       "  float: left;\n",
       "  margin-right: 0.25em;\n",
       "  color: var(--sklearn-color-icon);\n",
       "}\n",
       "\n",
       "#sk-container-id-1 label.sk-toggleable__label-arrow:hover:before {\n",
       "  color: var(--sklearn-color-text);\n",
       "}\n",
       "\n",
       "/* Toggleable content - dropdown */\n",
       "\n",
       "#sk-container-id-1 div.sk-toggleable__content {\n",
       "  display: none;\n",
       "  text-align: left;\n",
       "  /* unfitted */\n",
       "  background-color: var(--sklearn-color-unfitted-level-0);\n",
       "}\n",
       "\n",
       "#sk-container-id-1 div.sk-toggleable__content.fitted {\n",
       "  /* fitted */\n",
       "  background-color: var(--sklearn-color-fitted-level-0);\n",
       "}\n",
       "\n",
       "#sk-container-id-1 div.sk-toggleable__content pre {\n",
       "  margin: 0.2em;\n",
       "  border-radius: 0.25em;\n",
       "  color: var(--sklearn-color-text);\n",
       "  /* unfitted */\n",
       "  background-color: var(--sklearn-color-unfitted-level-0);\n",
       "}\n",
       "\n",
       "#sk-container-id-1 div.sk-toggleable__content.fitted pre {\n",
       "  /* unfitted */\n",
       "  background-color: var(--sklearn-color-fitted-level-0);\n",
       "}\n",
       "\n",
       "#sk-container-id-1 input.sk-toggleable__control:checked~div.sk-toggleable__content {\n",
       "  /* Expand drop-down */\n",
       "  display: block;\n",
       "  width: 100%;\n",
       "  overflow: visible;\n",
       "}\n",
       "\n",
       "#sk-container-id-1 input.sk-toggleable__control:checked~label.sk-toggleable__label-arrow:before {\n",
       "  content: \"▾\";\n",
       "}\n",
       "\n",
       "/* Pipeline/ColumnTransformer-specific style */\n",
       "\n",
       "#sk-container-id-1 div.sk-label input.sk-toggleable__control:checked~label.sk-toggleable__label {\n",
       "  color: var(--sklearn-color-text);\n",
       "  background-color: var(--sklearn-color-unfitted-level-2);\n",
       "}\n",
       "\n",
       "#sk-container-id-1 div.sk-label.fitted input.sk-toggleable__control:checked~label.sk-toggleable__label {\n",
       "  background-color: var(--sklearn-color-fitted-level-2);\n",
       "}\n",
       "\n",
       "/* Estimator-specific style */\n",
       "\n",
       "/* Colorize estimator box */\n",
       "#sk-container-id-1 div.sk-estimator input.sk-toggleable__control:checked~label.sk-toggleable__label {\n",
       "  /* unfitted */\n",
       "  background-color: var(--sklearn-color-unfitted-level-2);\n",
       "}\n",
       "\n",
       "#sk-container-id-1 div.sk-estimator.fitted input.sk-toggleable__control:checked~label.sk-toggleable__label {\n",
       "  /* fitted */\n",
       "  background-color: var(--sklearn-color-fitted-level-2);\n",
       "}\n",
       "\n",
       "#sk-container-id-1 div.sk-label label.sk-toggleable__label,\n",
       "#sk-container-id-1 div.sk-label label {\n",
       "  /* The background is the default theme color */\n",
       "  color: var(--sklearn-color-text-on-default-background);\n",
       "}\n",
       "\n",
       "/* On hover, darken the color of the background */\n",
       "#sk-container-id-1 div.sk-label:hover label.sk-toggleable__label {\n",
       "  color: var(--sklearn-color-text);\n",
       "  background-color: var(--sklearn-color-unfitted-level-2);\n",
       "}\n",
       "\n",
       "/* Label box, darken color on hover, fitted */\n",
       "#sk-container-id-1 div.sk-label.fitted:hover label.sk-toggleable__label.fitted {\n",
       "  color: var(--sklearn-color-text);\n",
       "  background-color: var(--sklearn-color-fitted-level-2);\n",
       "}\n",
       "\n",
       "/* Estimator label */\n",
       "\n",
       "#sk-container-id-1 div.sk-label label {\n",
       "  font-family: monospace;\n",
       "  font-weight: bold;\n",
       "  display: inline-block;\n",
       "  line-height: 1.2em;\n",
       "}\n",
       "\n",
       "#sk-container-id-1 div.sk-label-container {\n",
       "  text-align: center;\n",
       "}\n",
       "\n",
       "/* Estimator-specific */\n",
       "#sk-container-id-1 div.sk-estimator {\n",
       "  font-family: monospace;\n",
       "  border: 1px dotted var(--sklearn-color-border-box);\n",
       "  border-radius: 0.25em;\n",
       "  box-sizing: border-box;\n",
       "  margin-bottom: 0.5em;\n",
       "  /* unfitted */\n",
       "  background-color: var(--sklearn-color-unfitted-level-0);\n",
       "}\n",
       "\n",
       "#sk-container-id-1 div.sk-estimator.fitted {\n",
       "  /* fitted */\n",
       "  background-color: var(--sklearn-color-fitted-level-0);\n",
       "}\n",
       "\n",
       "/* on hover */\n",
       "#sk-container-id-1 div.sk-estimator:hover {\n",
       "  /* unfitted */\n",
       "  background-color: var(--sklearn-color-unfitted-level-2);\n",
       "}\n",
       "\n",
       "#sk-container-id-1 div.sk-estimator.fitted:hover {\n",
       "  /* fitted */\n",
       "  background-color: var(--sklearn-color-fitted-level-2);\n",
       "}\n",
       "\n",
       "/* Specification for estimator info (e.g. \"i\" and \"?\") */\n",
       "\n",
       "/* Common style for \"i\" and \"?\" */\n",
       "\n",
       ".sk-estimator-doc-link,\n",
       "a:link.sk-estimator-doc-link,\n",
       "a:visited.sk-estimator-doc-link {\n",
       "  float: right;\n",
       "  font-size: smaller;\n",
       "  line-height: 1em;\n",
       "  font-family: monospace;\n",
       "  background-color: var(--sklearn-color-background);\n",
       "  border-radius: 1em;\n",
       "  height: 1em;\n",
       "  width: 1em;\n",
       "  text-decoration: none !important;\n",
       "  margin-left: 0.5em;\n",
       "  text-align: center;\n",
       "  /* unfitted */\n",
       "  border: var(--sklearn-color-unfitted-level-1) 1pt solid;\n",
       "  color: var(--sklearn-color-unfitted-level-1);\n",
       "}\n",
       "\n",
       ".sk-estimator-doc-link.fitted,\n",
       "a:link.sk-estimator-doc-link.fitted,\n",
       "a:visited.sk-estimator-doc-link.fitted {\n",
       "  /* fitted */\n",
       "  border: var(--sklearn-color-fitted-level-1) 1pt solid;\n",
       "  color: var(--sklearn-color-fitted-level-1);\n",
       "}\n",
       "\n",
       "/* On hover */\n",
       "div.sk-estimator:hover .sk-estimator-doc-link:hover,\n",
       ".sk-estimator-doc-link:hover,\n",
       "div.sk-label-container:hover .sk-estimator-doc-link:hover,\n",
       ".sk-estimator-doc-link:hover {\n",
       "  /* unfitted */\n",
       "  background-color: var(--sklearn-color-unfitted-level-3);\n",
       "  color: var(--sklearn-color-background);\n",
       "  text-decoration: none;\n",
       "}\n",
       "\n",
       "div.sk-estimator.fitted:hover .sk-estimator-doc-link.fitted:hover,\n",
       ".sk-estimator-doc-link.fitted:hover,\n",
       "div.sk-label-container:hover .sk-estimator-doc-link.fitted:hover,\n",
       ".sk-estimator-doc-link.fitted:hover {\n",
       "  /* fitted */\n",
       "  background-color: var(--sklearn-color-fitted-level-3);\n",
       "  color: var(--sklearn-color-background);\n",
       "  text-decoration: none;\n",
       "}\n",
       "\n",
       "/* Span, style for the box shown on hovering the info icon */\n",
       ".sk-estimator-doc-link span {\n",
       "  display: none;\n",
       "  z-index: 9999;\n",
       "  position: relative;\n",
       "  font-weight: normal;\n",
       "  right: .2ex;\n",
       "  padding: .5ex;\n",
       "  margin: .5ex;\n",
       "  width: min-content;\n",
       "  min-width: 20ex;\n",
       "  max-width: 50ex;\n",
       "  color: var(--sklearn-color-text);\n",
       "  box-shadow: 2pt 2pt 4pt #999;\n",
       "  /* unfitted */\n",
       "  background: var(--sklearn-color-unfitted-level-0);\n",
       "  border: .5pt solid var(--sklearn-color-unfitted-level-3);\n",
       "}\n",
       "\n",
       ".sk-estimator-doc-link.fitted span {\n",
       "  /* fitted */\n",
       "  background: var(--sklearn-color-fitted-level-0);\n",
       "  border: var(--sklearn-color-fitted-level-3);\n",
       "}\n",
       "\n",
       ".sk-estimator-doc-link:hover span {\n",
       "  display: block;\n",
       "}\n",
       "\n",
       "/* \"?\"-specific style due to the `<a>` HTML tag */\n",
       "\n",
       "#sk-container-id-1 a.estimator_doc_link {\n",
       "  float: right;\n",
       "  font-size: 1rem;\n",
       "  line-height: 1em;\n",
       "  font-family: monospace;\n",
       "  background-color: var(--sklearn-color-background);\n",
       "  border-radius: 1rem;\n",
       "  height: 1rem;\n",
       "  width: 1rem;\n",
       "  text-decoration: none;\n",
       "  /* unfitted */\n",
       "  color: var(--sklearn-color-unfitted-level-1);\n",
       "  border: var(--sklearn-color-unfitted-level-1) 1pt solid;\n",
       "}\n",
       "\n",
       "#sk-container-id-1 a.estimator_doc_link.fitted {\n",
       "  /* fitted */\n",
       "  border: var(--sklearn-color-fitted-level-1) 1pt solid;\n",
       "  color: var(--sklearn-color-fitted-level-1);\n",
       "}\n",
       "\n",
       "/* On hover */\n",
       "#sk-container-id-1 a.estimator_doc_link:hover {\n",
       "  /* unfitted */\n",
       "  background-color: var(--sklearn-color-unfitted-level-3);\n",
       "  color: var(--sklearn-color-background);\n",
       "  text-decoration: none;\n",
       "}\n",
       "\n",
       "#sk-container-id-1 a.estimator_doc_link.fitted:hover {\n",
       "  /* fitted */\n",
       "  background-color: var(--sklearn-color-fitted-level-3);\n",
       "}\n",
       "\n",
       ".estimator-table summary {\n",
       "    padding: .5rem;\n",
       "    font-family: monospace;\n",
       "    cursor: pointer;\n",
       "}\n",
       "\n",
       ".estimator-table details[open] {\n",
       "    padding-left: 0.1rem;\n",
       "    padding-right: 0.1rem;\n",
       "    padding-bottom: 0.3rem;\n",
       "}\n",
       "\n",
       ".estimator-table .parameters-table {\n",
       "    margin-left: auto !important;\n",
       "    margin-right: auto !important;\n",
       "}\n",
       "\n",
       ".estimator-table .parameters-table tr:nth-child(odd) {\n",
       "    background-color: #fff;\n",
       "}\n",
       "\n",
       ".estimator-table .parameters-table tr:nth-child(even) {\n",
       "    background-color: #f6f6f6;\n",
       "}\n",
       "\n",
       ".estimator-table .parameters-table tr:hover {\n",
       "    background-color: #e0e0e0;\n",
       "}\n",
       "\n",
       ".estimator-table table td {\n",
       "    border: 1px solid rgba(106, 105, 104, 0.232);\n",
       "}\n",
       "\n",
       ".user-set td {\n",
       "    color:rgb(255, 94, 0);\n",
       "    text-align: left;\n",
       "}\n",
       "\n",
       ".user-set td.value pre {\n",
       "    color:rgb(255, 94, 0) !important;\n",
       "    background-color: transparent !important;\n",
       "}\n",
       "\n",
       ".default td {\n",
       "    color: black;\n",
       "    text-align: left;\n",
       "}\n",
       "\n",
       ".user-set td i,\n",
       ".default td i {\n",
       "    color: black;\n",
       "}\n",
       "\n",
       ".copy-paste-icon {\n",
       "    background-image: url(data:image/svg+xml;base64,PHN2ZyB4bWxucz0iaHR0cDovL3d3dy53My5vcmcvMjAwMC9zdmciIHZpZXdCb3g9IjAgMCA0NDggNTEyIj48IS0tIUZvbnQgQXdlc29tZSBGcmVlIDYuNy4yIGJ5IEBmb250YXdlc29tZSAtIGh0dHBzOi8vZm9udGF3ZXNvbWUuY29tIExpY2Vuc2UgLSBodHRwczovL2ZvbnRhd2Vzb21lLmNvbS9saWNlbnNlL2ZyZWUgQ29weXJpZ2h0IDIwMjUgRm9udGljb25zLCBJbmMuLS0+PHBhdGggZD0iTTIwOCAwTDMzMi4xIDBjMTIuNyAwIDI0LjkgNS4xIDMzLjkgMTQuMWw2Ny45IDY3LjljOSA5IDE0LjEgMjEuMiAxNC4xIDMzLjlMNDQ4IDMzNmMwIDI2LjUtMjEuNSA0OC00OCA0OGwtMTkyIDBjLTI2LjUgMC00OC0yMS41LTQ4LTQ4bDAtMjg4YzAtMjYuNSAyMS41LTQ4IDQ4LTQ4ek00OCAxMjhsODAgMCAwIDY0LTY0IDAgMCAyNTYgMTkyIDAgMC0zMiA2NCAwIDAgNDhjMCAyNi41LTIxLjUgNDgtNDggNDhMNDggNTEyYy0yNi41IDAtNDgtMjEuNS00OC00OEwwIDE3NmMwLTI2LjUgMjEuNS00OCA0OC00OHoiLz48L3N2Zz4=);\n",
       "    background-repeat: no-repeat;\n",
       "    background-size: 14px 14px;\n",
       "    background-position: 0;\n",
       "    display: inline-block;\n",
       "    width: 14px;\n",
       "    height: 14px;\n",
       "    cursor: pointer;\n",
       "}\n",
       "</style><body><div id=\"sk-container-id-1\" class=\"sk-top-container\"><div class=\"sk-text-repr-fallback\"><pre>LinearRegression()</pre><b>In a Jupyter environment, please rerun this cell to show the HTML representation or trust the notebook. <br />On GitHub, the HTML representation is unable to render, please try loading this page with nbviewer.org.</b></div><div class=\"sk-container\" hidden><div class=\"sk-item\"><div class=\"sk-estimator fitted sk-toggleable\"><input class=\"sk-toggleable__control sk-hidden--visually\" id=\"sk-estimator-id-1\" type=\"checkbox\" checked><label for=\"sk-estimator-id-1\" class=\"sk-toggleable__label fitted sk-toggleable__label-arrow\"><div><div>LinearRegression</div></div><div><a class=\"sk-estimator-doc-link fitted\" rel=\"noreferrer\" target=\"_blank\" href=\"https://scikit-learn.org/1.7/modules/generated/sklearn.linear_model.LinearRegression.html\">?<span>Documentation for LinearRegression</span></a><span class=\"sk-estimator-doc-link fitted\">i<span>Fitted</span></span></div></label><div class=\"sk-toggleable__content fitted\" data-param-prefix=\"\">\n",
       "        <div class=\"estimator-table\">\n",
       "            <details>\n",
       "                <summary>Parameters</summary>\n",
       "                <table class=\"parameters-table\">\n",
       "                  <tbody>\n",
       "                    \n",
       "        <tr class=\"default\">\n",
       "            <td><i class=\"copy-paste-icon\"\n",
       "                 onclick=\"copyToClipboard('fit_intercept',\n",
       "                          this.parentElement.nextElementSibling)\"\n",
       "            ></i></td>\n",
       "            <td class=\"param\">fit_intercept&nbsp;</td>\n",
       "            <td class=\"value\">True</td>\n",
       "        </tr>\n",
       "    \n",
       "\n",
       "        <tr class=\"default\">\n",
       "            <td><i class=\"copy-paste-icon\"\n",
       "                 onclick=\"copyToClipboard('copy_X',\n",
       "                          this.parentElement.nextElementSibling)\"\n",
       "            ></i></td>\n",
       "            <td class=\"param\">copy_X&nbsp;</td>\n",
       "            <td class=\"value\">True</td>\n",
       "        </tr>\n",
       "    \n",
       "\n",
       "        <tr class=\"default\">\n",
       "            <td><i class=\"copy-paste-icon\"\n",
       "                 onclick=\"copyToClipboard('tol',\n",
       "                          this.parentElement.nextElementSibling)\"\n",
       "            ></i></td>\n",
       "            <td class=\"param\">tol&nbsp;</td>\n",
       "            <td class=\"value\">1e-06</td>\n",
       "        </tr>\n",
       "    \n",
       "\n",
       "        <tr class=\"default\">\n",
       "            <td><i class=\"copy-paste-icon\"\n",
       "                 onclick=\"copyToClipboard('n_jobs',\n",
       "                          this.parentElement.nextElementSibling)\"\n",
       "            ></i></td>\n",
       "            <td class=\"param\">n_jobs&nbsp;</td>\n",
       "            <td class=\"value\">None</td>\n",
       "        </tr>\n",
       "    \n",
       "\n",
       "        <tr class=\"default\">\n",
       "            <td><i class=\"copy-paste-icon\"\n",
       "                 onclick=\"copyToClipboard('positive',\n",
       "                          this.parentElement.nextElementSibling)\"\n",
       "            ></i></td>\n",
       "            <td class=\"param\">positive&nbsp;</td>\n",
       "            <td class=\"value\">False</td>\n",
       "        </tr>\n",
       "    \n",
       "                  </tbody>\n",
       "                </table>\n",
       "            </details>\n",
       "        </div>\n",
       "    </div></div></div></div></div><script>function copyToClipboard(text, element) {\n",
       "    // Get the parameter prefix from the closest toggleable content\n",
       "    const toggleableContent = element.closest('.sk-toggleable__content');\n",
       "    const paramPrefix = toggleableContent ? toggleableContent.dataset.paramPrefix : '';\n",
       "    const fullParamName = paramPrefix ? `${paramPrefix}${text}` : text;\n",
       "\n",
       "    const originalStyle = element.style;\n",
       "    const computedStyle = window.getComputedStyle(element);\n",
       "    const originalWidth = computedStyle.width;\n",
       "    const originalHTML = element.innerHTML.replace('Copied!', '');\n",
       "\n",
       "    navigator.clipboard.writeText(fullParamName)\n",
       "        .then(() => {\n",
       "            element.style.width = originalWidth;\n",
       "            element.style.color = 'green';\n",
       "            element.innerHTML = \"Copied!\";\n",
       "\n",
       "            setTimeout(() => {\n",
       "                element.innerHTML = originalHTML;\n",
       "                element.style = originalStyle;\n",
       "            }, 2000);\n",
       "        })\n",
       "        .catch(err => {\n",
       "            console.error('Failed to copy:', err);\n",
       "            element.style.color = 'red';\n",
       "            element.innerHTML = \"Failed!\";\n",
       "            setTimeout(() => {\n",
       "                element.innerHTML = originalHTML;\n",
       "                element.style = originalStyle;\n",
       "            }, 2000);\n",
       "        });\n",
       "    return false;\n",
       "}\n",
       "\n",
       "document.querySelectorAll('.fa-regular.fa-copy').forEach(function(element) {\n",
       "    const toggleableContent = element.closest('.sk-toggleable__content');\n",
       "    const paramPrefix = toggleableContent ? toggleableContent.dataset.paramPrefix : '';\n",
       "    const paramName = element.parentElement.nextElementSibling.textContent.trim();\n",
       "    const fullParamName = paramPrefix ? `${paramPrefix}${paramName}` : paramName;\n",
       "\n",
       "    element.setAttribute('title', fullParamName);\n",
       "});\n",
       "</script></body>"
      ],
      "text/plain": [
       "LinearRegression()"
      ]
     },
     "execution_count": 52,
     "metadata": {},
     "output_type": "execute_result"
    }
   ],
   "source": [
    "m1_lr.fit(X_train, Y_train)"
   ]
  },
  {
   "cell_type": "code",
   "execution_count": 53,
   "metadata": {
    "id": "WDmvwHUtZArA"
   },
   "outputs": [],
   "source": [
    "from sklearn.metrics import mean_squared_error, mean_absolute_error"
   ]
  },
  {
   "cell_type": "code",
   "execution_count": 54,
   "metadata": {
    "colab": {
     "base_uri": "https://localhost:8080/"
    },
    "id": "8D_kCC9dY4Iy",
    "outputId": "84e0baf2-c726-4650-b0a8-d05d1a94d2d0"
   },
   "outputs": [
    {
     "name": "stdout",
     "output_type": "stream",
     "text": [
      "Mean Sq. Error  0.2003188098272586\n",
      "Mean Ab. Error  0.3567496123092609\n"
     ]
    }
   ],
   "source": [
    "# Testing on trained data\n",
    "\n",
    "X_train_pred = m1_lr.predict(X_train)\n",
    "X_train_mse = mean_squared_error(X_train_pred, Y_train)\n",
    "X_train_mae = mean_absolute_error(X_train_pred, Y_train)\n",
    "\n",
    "print(\"Mean Sq. Error \", X_train_mse)\n",
    "print(\"Mean Ab. Error \", X_train_mae)"
   ]
  },
  {
   "cell_type": "code",
   "execution_count": 55,
   "metadata": {
    "colab": {
     "base_uri": "https://localhost:8080/"
    },
    "id": "F8VphPggZij9",
    "outputId": "47213c47-87e7-477b-fc1e-bdedf6c1b138"
   },
   "outputs": [
    {
     "data": {
      "text/plain": [
       "(564, 1)"
      ]
     },
     "execution_count": 55,
     "metadata": {},
     "output_type": "execute_result"
    }
   ],
   "source": [
    "Y_train.shape"
   ]
  },
  {
   "cell_type": "code",
   "execution_count": 56,
   "metadata": {
    "colab": {
     "base_uri": "https://localhost:8080/"
    },
    "id": "iHZfIQLhbDep",
    "outputId": "104d7fb3-a34b-43a6-817f-10792922c588"
   },
   "outputs": [
    {
     "name": "stdout",
     "output_type": "stream",
     "text": [
      "Mean Sq. Error  0.2430996643034163\n",
      "Mean Ab. Error  0.3893715537294097\n"
     ]
    }
   ],
   "source": [
    "# Testing on trained data\n",
    "\n",
    "X_test_pred = m1_lr.predict(X_test)\n",
    "X_test_mse = mean_squared_error(X_test_pred, Y_test)\n",
    "X_test_mae = mean_absolute_error(X_test_pred, Y_test)\n",
    "\n",
    "print(\"Mean Sq. Error \", X_test_mse)\n",
    "print(\"Mean Ab. Error \", X_test_mae)"
   ]
  },
  {
   "cell_type": "markdown",
   "metadata": {
    "id": "4Peeve7ke3Mg"
   },
   "source": [
    "## Predicting a single value"
   ]
  },
  {
   "cell_type": "code",
   "execution_count": 57,
   "metadata": {
    "colab": {
     "base_uri": "https://localhost:8080/",
     "height": 132
    },
    "id": "KN6nDLo_biyW",
    "outputId": "a378cf7e-b140-4e9e-ae02-75ed683a16ce"
   },
   "outputs": [
    {
     "data": {
      "text/html": [
       "<div>\n",
       "<style scoped>\n",
       "    .dataframe tbody tr th:only-of-type {\n",
       "        vertical-align: middle;\n",
       "    }\n",
       "\n",
       "    .dataframe tbody tr th {\n",
       "        vertical-align: top;\n",
       "    }\n",
       "\n",
       "    .dataframe thead th {\n",
       "        text-align: right;\n",
       "    }\n",
       "</style>\n",
       "<table border=\"1\" class=\"dataframe\">\n",
       "  <thead>\n",
       "    <tr style=\"text-align: right;\">\n",
       "      <th></th>\n",
       "      <th>Age</th>\n",
       "      <th>Gender</th>\n",
       "      <th>Academic_Level</th>\n",
       "      <th>Avg_Daily_Usage_Hours</th>\n",
       "      <th>Most_Used_Platform</th>\n",
       "      <th>Sleep_Hours_Per_Night</th>\n",
       "      <th>Mental_Health_Score</th>\n",
       "      <th>Relationship_Status</th>\n",
       "    </tr>\n",
       "  </thead>\n",
       "  <tbody>\n",
       "    <tr>\n",
       "      <th>632</th>\n",
       "      <td>23</td>\n",
       "      <td>0</td>\n",
       "      <td>0</td>\n",
       "      <td>4.8</td>\n",
       "      <td>7</td>\n",
       "      <td>7.1</td>\n",
       "      <td>7</td>\n",
       "      <td>1</td>\n",
       "    </tr>\n",
       "    <tr>\n",
       "      <th>171</th>\n",
       "      <td>22</td>\n",
       "      <td>1</td>\n",
       "      <td>0</td>\n",
       "      <td>5.3</td>\n",
       "      <td>6</td>\n",
       "      <td>5.7</td>\n",
       "      <td>6</td>\n",
       "      <td>1</td>\n",
       "    </tr>\n",
       "  </tbody>\n",
       "</table>\n",
       "</div>"
      ],
      "text/plain": [
       "     Age  Gender  Academic_Level  Avg_Daily_Usage_Hours  Most_Used_Platform  \\\n",
       "632   23       0               0                    4.8                   7   \n",
       "171   22       1               0                    5.3                   6   \n",
       "\n",
       "     Sleep_Hours_Per_Night  Mental_Health_Score  Relationship_Status  \n",
       "632                    7.1                    7                    1  \n",
       "171                    5.7                    6                    1  "
      ]
     },
     "execution_count": 57,
     "metadata": {},
     "output_type": "execute_result"
    }
   ],
   "source": [
    "X_test[8:10]"
   ]
  },
  {
   "cell_type": "code",
   "execution_count": 58,
   "metadata": {
    "colab": {
     "base_uri": "https://localhost:8080/",
     "height": 112
    },
    "id": "vhc3qPiEe-Zg",
    "outputId": "cf707591-3646-4264-d0a0-809bb4968295"
   },
   "outputs": [
    {
     "data": {
      "text/html": [
       "<div>\n",
       "<style scoped>\n",
       "    .dataframe tbody tr th:only-of-type {\n",
       "        vertical-align: middle;\n",
       "    }\n",
       "\n",
       "    .dataframe tbody tr th {\n",
       "        vertical-align: top;\n",
       "    }\n",
       "\n",
       "    .dataframe thead th {\n",
       "        text-align: right;\n",
       "    }\n",
       "</style>\n",
       "<table border=\"1\" class=\"dataframe\">\n",
       "  <thead>\n",
       "    <tr style=\"text-align: right;\">\n",
       "      <th></th>\n",
       "      <th>Addicted_Score</th>\n",
       "    </tr>\n",
       "  </thead>\n",
       "  <tbody>\n",
       "    <tr>\n",
       "      <th>632</th>\n",
       "      <td>5</td>\n",
       "    </tr>\n",
       "    <tr>\n",
       "      <th>171</th>\n",
       "      <td>8</td>\n",
       "    </tr>\n",
       "  </tbody>\n",
       "</table>\n",
       "</div>"
      ],
      "text/plain": [
       "     Addicted_Score\n",
       "632               5\n",
       "171               8"
      ]
     },
     "execution_count": 58,
     "metadata": {},
     "output_type": "execute_result"
    }
   ],
   "source": [
    "Y_test[8:10]"
   ]
  },
  {
   "cell_type": "code",
   "execution_count": 59,
   "metadata": {
    "id": "90J9sV5Cflm0"
   },
   "outputs": [],
   "source": [
    "sp = m1_lr.predict(X_test[8:10])"
   ]
  },
  {
   "cell_type": "code",
   "execution_count": 60,
   "metadata": {
    "colab": {
     "base_uri": "https://localhost:8080/"
    },
    "id": "XaEvVYvdfzSw",
    "outputId": "a661ea66-0bf1-4231-87e9-e64a96691432"
   },
   "outputs": [
    {
     "data": {
      "text/plain": [
       "array([[5.55166588],\n",
       "       [6.96116608]])"
      ]
     },
     "execution_count": 60,
     "metadata": {},
     "output_type": "execute_result"
    }
   ],
   "source": [
    "sp"
   ]
  },
  {
   "cell_type": "code",
   "execution_count": 61,
   "metadata": {
    "colab": {
     "base_uri": "https://localhost:8080/",
     "height": 101
    },
    "id": "O6jx3hZbgpcm",
    "outputId": "ac47be1a-8141-4277-fc19-befbef7164e6"
   },
   "outputs": [
    {
     "data": {
      "text/html": [
       "<div>\n",
       "<style scoped>\n",
       "    .dataframe tbody tr th:only-of-type {\n",
       "        vertical-align: middle;\n",
       "    }\n",
       "\n",
       "    .dataframe tbody tr th {\n",
       "        vertical-align: top;\n",
       "    }\n",
       "\n",
       "    .dataframe thead th {\n",
       "        text-align: right;\n",
       "    }\n",
       "</style>\n",
       "<table border=\"1\" class=\"dataframe\">\n",
       "  <thead>\n",
       "    <tr style=\"text-align: right;\">\n",
       "      <th></th>\n",
       "      <th>Age</th>\n",
       "      <th>Gender</th>\n",
       "      <th>Academic_Level</th>\n",
       "      <th>Avg_Daily_Usage_Hours</th>\n",
       "      <th>Most_Used_Platform</th>\n",
       "      <th>Sleep_Hours_Per_Night</th>\n",
       "      <th>Mental_Health_Score</th>\n",
       "      <th>Relationship_Status</th>\n",
       "    </tr>\n",
       "  </thead>\n",
       "  <tbody>\n",
       "    <tr>\n",
       "      <th>328</th>\n",
       "      <td>19</td>\n",
       "      <td>0</td>\n",
       "      <td>2</td>\n",
       "      <td>4.5</td>\n",
       "      <td>1</td>\n",
       "      <td>7.5</td>\n",
       "      <td>7</td>\n",
       "      <td>1</td>\n",
       "    </tr>\n",
       "  </tbody>\n",
       "</table>\n",
       "</div>"
      ],
      "text/plain": [
       "     Age  Gender  Academic_Level  Avg_Daily_Usage_Hours  Most_Used_Platform  \\\n",
       "328   19       0               2                    4.5                   1   \n",
       "\n",
       "     Sleep_Hours_Per_Night  Mental_Health_Score  Relationship_Status  \n",
       "328                    7.5                    7                    1  "
      ]
     },
     "execution_count": 61,
     "metadata": {},
     "output_type": "execute_result"
    }
   ],
   "source": [
    "X_test.head(1)"
   ]
  },
  {
   "cell_type": "code",
   "execution_count": 62,
   "metadata": {
    "colab": {
     "base_uri": "https://localhost:8080/",
     "height": 132
    },
    "id": "0zRrjz_skN7l",
    "outputId": "15a50450-975e-49e3-aac5-035c2640b046"
   },
   "outputs": [
    {
     "data": {
      "text/html": [
       "<div>\n",
       "<style scoped>\n",
       "    .dataframe tbody tr th:only-of-type {\n",
       "        vertical-align: middle;\n",
       "    }\n",
       "\n",
       "    .dataframe tbody tr th {\n",
       "        vertical-align: top;\n",
       "    }\n",
       "\n",
       "    .dataframe thead th {\n",
       "        text-align: right;\n",
       "    }\n",
       "</style>\n",
       "<table border=\"1\" class=\"dataframe\">\n",
       "  <thead>\n",
       "    <tr style=\"text-align: right;\">\n",
       "      <th></th>\n",
       "      <th>Age</th>\n",
       "      <th>Gender</th>\n",
       "      <th>Academic_Level</th>\n",
       "      <th>Avg_Daily_Usage_Hours</th>\n",
       "      <th>Most_Used_Platform</th>\n",
       "      <th>Affects_Academic_Performance</th>\n",
       "      <th>Sleep_Hours_Per_Night</th>\n",
       "      <th>Mental_Health_Score</th>\n",
       "      <th>Relationship_Status</th>\n",
       "      <th>Conflicts_Over_Social_Media</th>\n",
       "      <th>Addicted_Score</th>\n",
       "    </tr>\n",
       "  </thead>\n",
       "  <tbody>\n",
       "    <tr>\n",
       "      <th>0</th>\n",
       "      <td>19</td>\n",
       "      <td>0</td>\n",
       "      <td>2</td>\n",
       "      <td>5.2</td>\n",
       "      <td>1</td>\n",
       "      <td>1</td>\n",
       "      <td>6.5</td>\n",
       "      <td>6</td>\n",
       "      <td>1</td>\n",
       "      <td>3</td>\n",
       "      <td>8</td>\n",
       "    </tr>\n",
       "    <tr>\n",
       "      <th>1</th>\n",
       "      <td>22</td>\n",
       "      <td>1</td>\n",
       "      <td>0</td>\n",
       "      <td>2.1</td>\n",
       "      <td>7</td>\n",
       "      <td>0</td>\n",
       "      <td>7.5</td>\n",
       "      <td>8</td>\n",
       "      <td>2</td>\n",
       "      <td>0</td>\n",
       "      <td>3</td>\n",
       "    </tr>\n",
       "  </tbody>\n",
       "</table>\n",
       "</div>"
      ],
      "text/plain": [
       "   Age  Gender  Academic_Level  Avg_Daily_Usage_Hours  Most_Used_Platform  \\\n",
       "0   19       0               2                    5.2                   1   \n",
       "1   22       1               0                    2.1                   7   \n",
       "\n",
       "   Affects_Academic_Performance  Sleep_Hours_Per_Night  Mental_Health_Score  \\\n",
       "0                             1                    6.5                    6   \n",
       "1                             0                    7.5                    8   \n",
       "\n",
       "   Relationship_Status  Conflicts_Over_Social_Media  Addicted_Score  \n",
       "0                    1                            3               8  \n",
       "1                    2                            0               3  "
      ]
     },
     "execution_count": 62,
     "metadata": {},
     "output_type": "execute_result"
    }
   ],
   "source": [
    "df.head(2)"
   ]
  },
  {
   "cell_type": "markdown",
   "metadata": {
    "id": "yvNf6Qi9gWx3"
   },
   "source": [
    "## Making a Predictive System"
   ]
  },
  {
   "cell_type": "code",
   "execution_count": 65,
   "metadata": {
    "colab": {
     "base_uri": "https://localhost:8080/"
    },
    "id": "_m8Yu2kZf1jx",
    "outputId": "1eb6a28a-93e3-4c98-e6f4-5e005acbc840"
   },
   "outputs": [
    {
     "name": "stdin",
     "output_type": "stream",
     "text": [
      "Enter your Age: 25\n",
      "Enter your Gender: Male\n",
      "Enter your Academic_Level: Graduate\n",
      "Enter your Avg_Daily_Usage_Hours: 3.4\n",
      "Enter your Most_Used_Platform: Instagram\n",
      "Enter your Sleep_Hours_Per_Night: 4.3\n",
      "Enter your Mental_Health_Score: 4\n",
      "Enter your Relationship_Status: Single\n"
     ]
    },
    {
     "name": "stdout",
     "output_type": "stream",
     "text": [
      "Your Addiction Score is:  [[8.82639232]]\n"
     ]
    }
   ],
   "source": [
    "def encode(user_data, original_df):\n",
    "    for col in ['Gender', 'Most_Used_Platform', 'Relationship_Status', 'Academic_Level']:\n",
    "        le = LabelEncoder()\n",
    "        le.fit(original_df[col])  # Use original dataset to ensure consistency\n",
    "        user_data[col] = le.transform(user_data[col])\n",
    "    return user_data\n",
    "\n",
    "\n",
    "Age = int(input(\"Enter your Age:\"))\n",
    "Gender = input(\"Enter your Gender:\")\n",
    "Academic_Level = input(\"Enter your Academic_Level:\")\n",
    "Avg_Daily_Usage_Hours = float(input(\"Enter your Avg_Daily_Usage_Hours:\"))\n",
    "Most_Used_Platform = input(\"Enter your Most_Used_Platform:\")\n",
    "Sleep_Hours_Per_Night = float(input(\"Enter your Sleep_Hours_Per_Night:\"))\n",
    "Mental_Health_Score = input(\"Enter your Mental_Health_Score:\")\n",
    "Relationship_Status = input(\"Enter your Relationship_Status:\")\n",
    "\n",
    "user_data = pd.DataFrame([{\n",
    "    'Age': Age,\n",
    "    'Gender': Gender,\n",
    "    'Academic_Level': Academic_Level,\n",
    "    'Avg_Daily_Usage_Hours': Avg_Daily_Usage_Hours,\n",
    "    'Most_Used_Platform': Most_Used_Platform,\n",
    "    'Sleep_Hours_Per_Night': Sleep_Hours_Per_Night,\n",
    "    'Mental_Health_Score': Mental_Health_Score,\n",
    "    'Relationship_Status': Relationship_Status,\n",
    "}])\n",
    "\n",
    "user_data = encode(user_data, sm_df)\n",
    "user_data_predict = m1_lr.predict(user_data)\n",
    "\n",
    "print(\"Your Addiction Score is: \", user_data_predict)"
   ]
  },
  {
   "cell_type": "code",
   "execution_count": null,
   "metadata": {
    "id": "CUrCSgZYhu2E"
   },
   "outputs": [],
   "source": [
    "\n",
    "\n"
   ]
  },
  {
   "cell_type": "markdown",
   "metadata": {
    "id": "2oWX3DC4n2rL"
   },
   "source": [
    "# Model No. 2 - Using Logistic Regression"
   ]
  },
  {
   "cell_type": "code",
   "execution_count": 66,
   "metadata": {
    "colab": {
     "base_uri": "https://localhost:8080/",
     "height": 132
    },
    "id": "MYnT6NjAn7xC",
    "outputId": "9c7c6abb-e9e1-4d24-b847-4f97ed5e9cf2"
   },
   "outputs": [
    {
     "data": {
      "text/html": [
       "<div>\n",
       "<style scoped>\n",
       "    .dataframe tbody tr th:only-of-type {\n",
       "        vertical-align: middle;\n",
       "    }\n",
       "\n",
       "    .dataframe tbody tr th {\n",
       "        vertical-align: top;\n",
       "    }\n",
       "\n",
       "    .dataframe thead th {\n",
       "        text-align: right;\n",
       "    }\n",
       "</style>\n",
       "<table border=\"1\" class=\"dataframe\">\n",
       "  <thead>\n",
       "    <tr style=\"text-align: right;\">\n",
       "      <th></th>\n",
       "      <th>Age</th>\n",
       "      <th>Gender</th>\n",
       "      <th>Academic_Level</th>\n",
       "      <th>Avg_Daily_Usage_Hours</th>\n",
       "      <th>Most_Used_Platform</th>\n",
       "      <th>Affects_Academic_Performance</th>\n",
       "      <th>Sleep_Hours_Per_Night</th>\n",
       "      <th>Mental_Health_Score</th>\n",
       "      <th>Relationship_Status</th>\n",
       "      <th>Conflicts_Over_Social_Media</th>\n",
       "      <th>Addicted_Score</th>\n",
       "    </tr>\n",
       "  </thead>\n",
       "  <tbody>\n",
       "    <tr>\n",
       "      <th>498</th>\n",
       "      <td>20</td>\n",
       "      <td>0</td>\n",
       "      <td>2</td>\n",
       "      <td>2.8</td>\n",
       "      <td>1</td>\n",
       "      <td>0</td>\n",
       "      <td>9.2</td>\n",
       "      <td>7</td>\n",
       "      <td>1</td>\n",
       "      <td>2</td>\n",
       "      <td>5</td>\n",
       "    </tr>\n",
       "    <tr>\n",
       "      <th>143</th>\n",
       "      <td>20</td>\n",
       "      <td>0</td>\n",
       "      <td>2</td>\n",
       "      <td>4.6</td>\n",
       "      <td>1</td>\n",
       "      <td>1</td>\n",
       "      <td>7.0</td>\n",
       "      <td>5</td>\n",
       "      <td>1</td>\n",
       "      <td>4</td>\n",
       "      <td>8</td>\n",
       "    </tr>\n",
       "  </tbody>\n",
       "</table>\n",
       "</div>"
      ],
      "text/plain": [
       "     Age  Gender  Academic_Level  Avg_Daily_Usage_Hours  Most_Used_Platform  \\\n",
       "498   20       0               2                    2.8                   1   \n",
       "143   20       0               2                    4.6                   1   \n",
       "\n",
       "     Affects_Academic_Performance  Sleep_Hours_Per_Night  Mental_Health_Score  \\\n",
       "498                             0                    9.2                    7   \n",
       "143                             1                    7.0                    5   \n",
       "\n",
       "     Relationship_Status  Conflicts_Over_Social_Media  Addicted_Score  \n",
       "498                    1                            2               5  \n",
       "143                    1                            4               8  "
      ]
     },
     "execution_count": 66,
     "metadata": {},
     "output_type": "execute_result"
    }
   ],
   "source": [
    "df.sample(2)"
   ]
  },
  {
   "cell_type": "code",
   "execution_count": 67,
   "metadata": {
    "id": "YytYxlbjo0Tg"
   },
   "outputs": [],
   "source": [
    "X = df.drop(columns=['Affects_Academic_Performance', 'Addicted_Score', 'Conflicts_Over_Social_Media'])\n",
    "y = df['Affects_Academic_Performance']"
   ]
  },
  {
   "cell_type": "code",
   "execution_count": 68,
   "metadata": {
    "colab": {
     "base_uri": "https://localhost:8080/",
     "height": 101
    },
    "id": "gKflxxp7pm33",
    "outputId": "77613b81-78f2-453a-b20b-9e046e238d84"
   },
   "outputs": [
    {
     "data": {
      "text/html": [
       "<div>\n",
       "<style scoped>\n",
       "    .dataframe tbody tr th:only-of-type {\n",
       "        vertical-align: middle;\n",
       "    }\n",
       "\n",
       "    .dataframe tbody tr th {\n",
       "        vertical-align: top;\n",
       "    }\n",
       "\n",
       "    .dataframe thead th {\n",
       "        text-align: right;\n",
       "    }\n",
       "</style>\n",
       "<table border=\"1\" class=\"dataframe\">\n",
       "  <thead>\n",
       "    <tr style=\"text-align: right;\">\n",
       "      <th></th>\n",
       "      <th>Age</th>\n",
       "      <th>Gender</th>\n",
       "      <th>Academic_Level</th>\n",
       "      <th>Avg_Daily_Usage_Hours</th>\n",
       "      <th>Most_Used_Platform</th>\n",
       "      <th>Sleep_Hours_Per_Night</th>\n",
       "      <th>Mental_Health_Score</th>\n",
       "      <th>Relationship_Status</th>\n",
       "    </tr>\n",
       "  </thead>\n",
       "  <tbody>\n",
       "    <tr>\n",
       "      <th>270</th>\n",
       "      <td>20</td>\n",
       "      <td>0</td>\n",
       "      <td>2</td>\n",
       "      <td>4.5</td>\n",
       "      <td>1</td>\n",
       "      <td>7.3</td>\n",
       "      <td>7</td>\n",
       "      <td>2</td>\n",
       "    </tr>\n",
       "  </tbody>\n",
       "</table>\n",
       "</div>"
      ],
      "text/plain": [
       "     Age  Gender  Academic_Level  Avg_Daily_Usage_Hours  Most_Used_Platform  \\\n",
       "270   20       0               2                    4.5                   1   \n",
       "\n",
       "     Sleep_Hours_Per_Night  Mental_Health_Score  Relationship_Status  \n",
       "270                    7.3                    7                    2  "
      ]
     },
     "execution_count": 68,
     "metadata": {},
     "output_type": "execute_result"
    }
   ],
   "source": [
    "X.sample(1)"
   ]
  },
  {
   "cell_type": "code",
   "execution_count": 69,
   "metadata": {
    "colab": {
     "base_uri": "https://localhost:8080/",
     "height": 115
    },
    "id": "wQXV_JbXrOjm",
    "outputId": "08125584-5fb8-45cc-d49a-6c6861d97b34"
   },
   "outputs": [
    {
     "data": {
      "text/plain": [
       "369    1\n",
       "Name: Affects_Academic_Performance, dtype: int64"
      ]
     },
     "execution_count": 69,
     "metadata": {},
     "output_type": "execute_result"
    }
   ],
   "source": [
    "y.sample(1)"
   ]
  },
  {
   "cell_type": "code",
   "execution_count": 70,
   "metadata": {
    "colab": {
     "base_uri": "https://localhost:8080/",
     "height": 458
    },
    "id": "J-nHKFZVrZS0",
    "outputId": "21cf5650-8bc2-448f-c193-ef7fc9f530c6"
   },
   "outputs": [
    {
     "data": {
      "text/plain": [
       "0      1\n",
       "1      0\n",
       "2      1\n",
       "3      0\n",
       "4      1\n",
       "      ..\n",
       "700    0\n",
       "701    1\n",
       "702    1\n",
       "703    0\n",
       "704    1\n",
       "Name: Affects_Academic_Performance, Length: 705, dtype: int64"
      ]
     },
     "execution_count": 70,
     "metadata": {},
     "output_type": "execute_result"
    }
   ],
   "source": [
    "y"
   ]
  },
  {
   "cell_type": "code",
   "execution_count": 71,
   "metadata": {
    "colab": {
     "base_uri": "https://localhost:8080/"
    },
    "id": "EF6H0WG2pNsr",
    "outputId": "454805f4-0c52-4d7c-b6fe-2c7b3901acbd"
   },
   "outputs": [
    {
     "name": "stdout",
     "output_type": "stream",
     "text": [
      "(705, 8) (705,)\n"
     ]
    }
   ],
   "source": [
    "print(X.shape, y.shape)"
   ]
  },
  {
   "cell_type": "code",
   "execution_count": 72,
   "metadata": {
    "id": "C_FS6YCZpQBp"
   },
   "outputs": [],
   "source": [
    "X_train, X_test, Y_train, Y_test = train_test_split(X, y, test_size=0.2, random_state = 2)"
   ]
  },
  {
   "cell_type": "code",
   "execution_count": 73,
   "metadata": {
    "colab": {
     "base_uri": "https://localhost:8080/"
    },
    "id": "jJEGabdCpfIj",
    "outputId": "dada8456-7e4c-49f0-8cd9-f7a2ffbc7f0a"
   },
   "outputs": [
    {
     "name": "stdout",
     "output_type": "stream",
     "text": [
      "(705, 8) (564, 8) (141, 8)\n"
     ]
    }
   ],
   "source": [
    "print(X.shape, X_train.shape, X_test.shape)"
   ]
  },
  {
   "cell_type": "code",
   "execution_count": 74,
   "metadata": {
    "id": "I8wKQzQYpkWR"
   },
   "outputs": [],
   "source": [
    "from sklearn.linear_model import LogisticRegression"
   ]
  },
  {
   "cell_type": "code",
   "execution_count": 75,
   "metadata": {
    "id": "TRGT_gH0p7m6"
   },
   "outputs": [],
   "source": [
    "m2_lr = LogisticRegression()"
   ]
  },
  {
   "cell_type": "code",
   "execution_count": 76,
   "metadata": {
    "colab": {
     "base_uri": "https://localhost:8080/",
     "height": 239
    },
    "id": "fZuuhM_Kp_Mh",
    "outputId": "dcd23da4-e8ca-4367-a6b1-6ca12330ffbc"
   },
   "outputs": [
    {
     "name": "stderr",
     "output_type": "stream",
     "text": [
      "C:\\Users\\devra\\AppData\\Local\\Programs\\Python\\Python313\\Lib\\site-packages\\sklearn\\linear_model\\_logistic.py:470: ConvergenceWarning: lbfgs failed to converge after 100 iteration(s) (status=1):\n",
      "STOP: TOTAL NO. OF ITERATIONS REACHED LIMIT\n",
      "\n",
      "Increase the number of iterations to improve the convergence (max_iter=100).\n",
      "You might also want to scale the data as shown in:\n",
      "    https://scikit-learn.org/stable/modules/preprocessing.html\n",
      "Please also refer to the documentation for alternative solver options:\n",
      "    https://scikit-learn.org/stable/modules/linear_model.html#logistic-regression\n",
      "  n_iter_i = _check_optimize_result(\n"
     ]
    },
    {
     "data": {
      "text/html": [
       "<style>#sk-container-id-2 {\n",
       "  /* Definition of color scheme common for light and dark mode */\n",
       "  --sklearn-color-text: #000;\n",
       "  --sklearn-color-text-muted: #666;\n",
       "  --sklearn-color-line: gray;\n",
       "  /* Definition of color scheme for unfitted estimators */\n",
       "  --sklearn-color-unfitted-level-0: #fff5e6;\n",
       "  --sklearn-color-unfitted-level-1: #f6e4d2;\n",
       "  --sklearn-color-unfitted-level-2: #ffe0b3;\n",
       "  --sklearn-color-unfitted-level-3: chocolate;\n",
       "  /* Definition of color scheme for fitted estimators */\n",
       "  --sklearn-color-fitted-level-0: #f0f8ff;\n",
       "  --sklearn-color-fitted-level-1: #d4ebff;\n",
       "  --sklearn-color-fitted-level-2: #b3dbfd;\n",
       "  --sklearn-color-fitted-level-3: cornflowerblue;\n",
       "\n",
       "  /* Specific color for light theme */\n",
       "  --sklearn-color-text-on-default-background: var(--sg-text-color, var(--theme-code-foreground, var(--jp-content-font-color1, black)));\n",
       "  --sklearn-color-background: var(--sg-background-color, var(--theme-background, var(--jp-layout-color0, white)));\n",
       "  --sklearn-color-border-box: var(--sg-text-color, var(--theme-code-foreground, var(--jp-content-font-color1, black)));\n",
       "  --sklearn-color-icon: #696969;\n",
       "\n",
       "  @media (prefers-color-scheme: dark) {\n",
       "    /* Redefinition of color scheme for dark theme */\n",
       "    --sklearn-color-text-on-default-background: var(--sg-text-color, var(--theme-code-foreground, var(--jp-content-font-color1, white)));\n",
       "    --sklearn-color-background: var(--sg-background-color, var(--theme-background, var(--jp-layout-color0, #111)));\n",
       "    --sklearn-color-border-box: var(--sg-text-color, var(--theme-code-foreground, var(--jp-content-font-color1, white)));\n",
       "    --sklearn-color-icon: #878787;\n",
       "  }\n",
       "}\n",
       "\n",
       "#sk-container-id-2 {\n",
       "  color: var(--sklearn-color-text);\n",
       "}\n",
       "\n",
       "#sk-container-id-2 pre {\n",
       "  padding: 0;\n",
       "}\n",
       "\n",
       "#sk-container-id-2 input.sk-hidden--visually {\n",
       "  border: 0;\n",
       "  clip: rect(1px 1px 1px 1px);\n",
       "  clip: rect(1px, 1px, 1px, 1px);\n",
       "  height: 1px;\n",
       "  margin: -1px;\n",
       "  overflow: hidden;\n",
       "  padding: 0;\n",
       "  position: absolute;\n",
       "  width: 1px;\n",
       "}\n",
       "\n",
       "#sk-container-id-2 div.sk-dashed-wrapped {\n",
       "  border: 1px dashed var(--sklearn-color-line);\n",
       "  margin: 0 0.4em 0.5em 0.4em;\n",
       "  box-sizing: border-box;\n",
       "  padding-bottom: 0.4em;\n",
       "  background-color: var(--sklearn-color-background);\n",
       "}\n",
       "\n",
       "#sk-container-id-2 div.sk-container {\n",
       "  /* jupyter's `normalize.less` sets `[hidden] { display: none; }`\n",
       "     but bootstrap.min.css set `[hidden] { display: none !important; }`\n",
       "     so we also need the `!important` here to be able to override the\n",
       "     default hidden behavior on the sphinx rendered scikit-learn.org.\n",
       "     See: https://github.com/scikit-learn/scikit-learn/issues/21755 */\n",
       "  display: inline-block !important;\n",
       "  position: relative;\n",
       "}\n",
       "\n",
       "#sk-container-id-2 div.sk-text-repr-fallback {\n",
       "  display: none;\n",
       "}\n",
       "\n",
       "div.sk-parallel-item,\n",
       "div.sk-serial,\n",
       "div.sk-item {\n",
       "  /* draw centered vertical line to link estimators */\n",
       "  background-image: linear-gradient(var(--sklearn-color-text-on-default-background), var(--sklearn-color-text-on-default-background));\n",
       "  background-size: 2px 100%;\n",
       "  background-repeat: no-repeat;\n",
       "  background-position: center center;\n",
       "}\n",
       "\n",
       "/* Parallel-specific style estimator block */\n",
       "\n",
       "#sk-container-id-2 div.sk-parallel-item::after {\n",
       "  content: \"\";\n",
       "  width: 100%;\n",
       "  border-bottom: 2px solid var(--sklearn-color-text-on-default-background);\n",
       "  flex-grow: 1;\n",
       "}\n",
       "\n",
       "#sk-container-id-2 div.sk-parallel {\n",
       "  display: flex;\n",
       "  align-items: stretch;\n",
       "  justify-content: center;\n",
       "  background-color: var(--sklearn-color-background);\n",
       "  position: relative;\n",
       "}\n",
       "\n",
       "#sk-container-id-2 div.sk-parallel-item {\n",
       "  display: flex;\n",
       "  flex-direction: column;\n",
       "}\n",
       "\n",
       "#sk-container-id-2 div.sk-parallel-item:first-child::after {\n",
       "  align-self: flex-end;\n",
       "  width: 50%;\n",
       "}\n",
       "\n",
       "#sk-container-id-2 div.sk-parallel-item:last-child::after {\n",
       "  align-self: flex-start;\n",
       "  width: 50%;\n",
       "}\n",
       "\n",
       "#sk-container-id-2 div.sk-parallel-item:only-child::after {\n",
       "  width: 0;\n",
       "}\n",
       "\n",
       "/* Serial-specific style estimator block */\n",
       "\n",
       "#sk-container-id-2 div.sk-serial {\n",
       "  display: flex;\n",
       "  flex-direction: column;\n",
       "  align-items: center;\n",
       "  background-color: var(--sklearn-color-background);\n",
       "  padding-right: 1em;\n",
       "  padding-left: 1em;\n",
       "}\n",
       "\n",
       "\n",
       "/* Toggleable style: style used for estimator/Pipeline/ColumnTransformer box that is\n",
       "clickable and can be expanded/collapsed.\n",
       "- Pipeline and ColumnTransformer use this feature and define the default style\n",
       "- Estimators will overwrite some part of the style using the `sk-estimator` class\n",
       "*/\n",
       "\n",
       "/* Pipeline and ColumnTransformer style (default) */\n",
       "\n",
       "#sk-container-id-2 div.sk-toggleable {\n",
       "  /* Default theme specific background. It is overwritten whether we have a\n",
       "  specific estimator or a Pipeline/ColumnTransformer */\n",
       "  background-color: var(--sklearn-color-background);\n",
       "}\n",
       "\n",
       "/* Toggleable label */\n",
       "#sk-container-id-2 label.sk-toggleable__label {\n",
       "  cursor: pointer;\n",
       "  display: flex;\n",
       "  width: 100%;\n",
       "  margin-bottom: 0;\n",
       "  padding: 0.5em;\n",
       "  box-sizing: border-box;\n",
       "  text-align: center;\n",
       "  align-items: start;\n",
       "  justify-content: space-between;\n",
       "  gap: 0.5em;\n",
       "}\n",
       "\n",
       "#sk-container-id-2 label.sk-toggleable__label .caption {\n",
       "  font-size: 0.6rem;\n",
       "  font-weight: lighter;\n",
       "  color: var(--sklearn-color-text-muted);\n",
       "}\n",
       "\n",
       "#sk-container-id-2 label.sk-toggleable__label-arrow:before {\n",
       "  /* Arrow on the left of the label */\n",
       "  content: \"▸\";\n",
       "  float: left;\n",
       "  margin-right: 0.25em;\n",
       "  color: var(--sklearn-color-icon);\n",
       "}\n",
       "\n",
       "#sk-container-id-2 label.sk-toggleable__label-arrow:hover:before {\n",
       "  color: var(--sklearn-color-text);\n",
       "}\n",
       "\n",
       "/* Toggleable content - dropdown */\n",
       "\n",
       "#sk-container-id-2 div.sk-toggleable__content {\n",
       "  display: none;\n",
       "  text-align: left;\n",
       "  /* unfitted */\n",
       "  background-color: var(--sklearn-color-unfitted-level-0);\n",
       "}\n",
       "\n",
       "#sk-container-id-2 div.sk-toggleable__content.fitted {\n",
       "  /* fitted */\n",
       "  background-color: var(--sklearn-color-fitted-level-0);\n",
       "}\n",
       "\n",
       "#sk-container-id-2 div.sk-toggleable__content pre {\n",
       "  margin: 0.2em;\n",
       "  border-radius: 0.25em;\n",
       "  color: var(--sklearn-color-text);\n",
       "  /* unfitted */\n",
       "  background-color: var(--sklearn-color-unfitted-level-0);\n",
       "}\n",
       "\n",
       "#sk-container-id-2 div.sk-toggleable__content.fitted pre {\n",
       "  /* unfitted */\n",
       "  background-color: var(--sklearn-color-fitted-level-0);\n",
       "}\n",
       "\n",
       "#sk-container-id-2 input.sk-toggleable__control:checked~div.sk-toggleable__content {\n",
       "  /* Expand drop-down */\n",
       "  display: block;\n",
       "  width: 100%;\n",
       "  overflow: visible;\n",
       "}\n",
       "\n",
       "#sk-container-id-2 input.sk-toggleable__control:checked~label.sk-toggleable__label-arrow:before {\n",
       "  content: \"▾\";\n",
       "}\n",
       "\n",
       "/* Pipeline/ColumnTransformer-specific style */\n",
       "\n",
       "#sk-container-id-2 div.sk-label input.sk-toggleable__control:checked~label.sk-toggleable__label {\n",
       "  color: var(--sklearn-color-text);\n",
       "  background-color: var(--sklearn-color-unfitted-level-2);\n",
       "}\n",
       "\n",
       "#sk-container-id-2 div.sk-label.fitted input.sk-toggleable__control:checked~label.sk-toggleable__label {\n",
       "  background-color: var(--sklearn-color-fitted-level-2);\n",
       "}\n",
       "\n",
       "/* Estimator-specific style */\n",
       "\n",
       "/* Colorize estimator box */\n",
       "#sk-container-id-2 div.sk-estimator input.sk-toggleable__control:checked~label.sk-toggleable__label {\n",
       "  /* unfitted */\n",
       "  background-color: var(--sklearn-color-unfitted-level-2);\n",
       "}\n",
       "\n",
       "#sk-container-id-2 div.sk-estimator.fitted input.sk-toggleable__control:checked~label.sk-toggleable__label {\n",
       "  /* fitted */\n",
       "  background-color: var(--sklearn-color-fitted-level-2);\n",
       "}\n",
       "\n",
       "#sk-container-id-2 div.sk-label label.sk-toggleable__label,\n",
       "#sk-container-id-2 div.sk-label label {\n",
       "  /* The background is the default theme color */\n",
       "  color: var(--sklearn-color-text-on-default-background);\n",
       "}\n",
       "\n",
       "/* On hover, darken the color of the background */\n",
       "#sk-container-id-2 div.sk-label:hover label.sk-toggleable__label {\n",
       "  color: var(--sklearn-color-text);\n",
       "  background-color: var(--sklearn-color-unfitted-level-2);\n",
       "}\n",
       "\n",
       "/* Label box, darken color on hover, fitted */\n",
       "#sk-container-id-2 div.sk-label.fitted:hover label.sk-toggleable__label.fitted {\n",
       "  color: var(--sklearn-color-text);\n",
       "  background-color: var(--sklearn-color-fitted-level-2);\n",
       "}\n",
       "\n",
       "/* Estimator label */\n",
       "\n",
       "#sk-container-id-2 div.sk-label label {\n",
       "  font-family: monospace;\n",
       "  font-weight: bold;\n",
       "  display: inline-block;\n",
       "  line-height: 1.2em;\n",
       "}\n",
       "\n",
       "#sk-container-id-2 div.sk-label-container {\n",
       "  text-align: center;\n",
       "}\n",
       "\n",
       "/* Estimator-specific */\n",
       "#sk-container-id-2 div.sk-estimator {\n",
       "  font-family: monospace;\n",
       "  border: 1px dotted var(--sklearn-color-border-box);\n",
       "  border-radius: 0.25em;\n",
       "  box-sizing: border-box;\n",
       "  margin-bottom: 0.5em;\n",
       "  /* unfitted */\n",
       "  background-color: var(--sklearn-color-unfitted-level-0);\n",
       "}\n",
       "\n",
       "#sk-container-id-2 div.sk-estimator.fitted {\n",
       "  /* fitted */\n",
       "  background-color: var(--sklearn-color-fitted-level-0);\n",
       "}\n",
       "\n",
       "/* on hover */\n",
       "#sk-container-id-2 div.sk-estimator:hover {\n",
       "  /* unfitted */\n",
       "  background-color: var(--sklearn-color-unfitted-level-2);\n",
       "}\n",
       "\n",
       "#sk-container-id-2 div.sk-estimator.fitted:hover {\n",
       "  /* fitted */\n",
       "  background-color: var(--sklearn-color-fitted-level-2);\n",
       "}\n",
       "\n",
       "/* Specification for estimator info (e.g. \"i\" and \"?\") */\n",
       "\n",
       "/* Common style for \"i\" and \"?\" */\n",
       "\n",
       ".sk-estimator-doc-link,\n",
       "a:link.sk-estimator-doc-link,\n",
       "a:visited.sk-estimator-doc-link {\n",
       "  float: right;\n",
       "  font-size: smaller;\n",
       "  line-height: 1em;\n",
       "  font-family: monospace;\n",
       "  background-color: var(--sklearn-color-background);\n",
       "  border-radius: 1em;\n",
       "  height: 1em;\n",
       "  width: 1em;\n",
       "  text-decoration: none !important;\n",
       "  margin-left: 0.5em;\n",
       "  text-align: center;\n",
       "  /* unfitted */\n",
       "  border: var(--sklearn-color-unfitted-level-1) 1pt solid;\n",
       "  color: var(--sklearn-color-unfitted-level-1);\n",
       "}\n",
       "\n",
       ".sk-estimator-doc-link.fitted,\n",
       "a:link.sk-estimator-doc-link.fitted,\n",
       "a:visited.sk-estimator-doc-link.fitted {\n",
       "  /* fitted */\n",
       "  border: var(--sklearn-color-fitted-level-1) 1pt solid;\n",
       "  color: var(--sklearn-color-fitted-level-1);\n",
       "}\n",
       "\n",
       "/* On hover */\n",
       "div.sk-estimator:hover .sk-estimator-doc-link:hover,\n",
       ".sk-estimator-doc-link:hover,\n",
       "div.sk-label-container:hover .sk-estimator-doc-link:hover,\n",
       ".sk-estimator-doc-link:hover {\n",
       "  /* unfitted */\n",
       "  background-color: var(--sklearn-color-unfitted-level-3);\n",
       "  color: var(--sklearn-color-background);\n",
       "  text-decoration: none;\n",
       "}\n",
       "\n",
       "div.sk-estimator.fitted:hover .sk-estimator-doc-link.fitted:hover,\n",
       ".sk-estimator-doc-link.fitted:hover,\n",
       "div.sk-label-container:hover .sk-estimator-doc-link.fitted:hover,\n",
       ".sk-estimator-doc-link.fitted:hover {\n",
       "  /* fitted */\n",
       "  background-color: var(--sklearn-color-fitted-level-3);\n",
       "  color: var(--sklearn-color-background);\n",
       "  text-decoration: none;\n",
       "}\n",
       "\n",
       "/* Span, style for the box shown on hovering the info icon */\n",
       ".sk-estimator-doc-link span {\n",
       "  display: none;\n",
       "  z-index: 9999;\n",
       "  position: relative;\n",
       "  font-weight: normal;\n",
       "  right: .2ex;\n",
       "  padding: .5ex;\n",
       "  margin: .5ex;\n",
       "  width: min-content;\n",
       "  min-width: 20ex;\n",
       "  max-width: 50ex;\n",
       "  color: var(--sklearn-color-text);\n",
       "  box-shadow: 2pt 2pt 4pt #999;\n",
       "  /* unfitted */\n",
       "  background: var(--sklearn-color-unfitted-level-0);\n",
       "  border: .5pt solid var(--sklearn-color-unfitted-level-3);\n",
       "}\n",
       "\n",
       ".sk-estimator-doc-link.fitted span {\n",
       "  /* fitted */\n",
       "  background: var(--sklearn-color-fitted-level-0);\n",
       "  border: var(--sklearn-color-fitted-level-3);\n",
       "}\n",
       "\n",
       ".sk-estimator-doc-link:hover span {\n",
       "  display: block;\n",
       "}\n",
       "\n",
       "/* \"?\"-specific style due to the `<a>` HTML tag */\n",
       "\n",
       "#sk-container-id-2 a.estimator_doc_link {\n",
       "  float: right;\n",
       "  font-size: 1rem;\n",
       "  line-height: 1em;\n",
       "  font-family: monospace;\n",
       "  background-color: var(--sklearn-color-background);\n",
       "  border-radius: 1rem;\n",
       "  height: 1rem;\n",
       "  width: 1rem;\n",
       "  text-decoration: none;\n",
       "  /* unfitted */\n",
       "  color: var(--sklearn-color-unfitted-level-1);\n",
       "  border: var(--sklearn-color-unfitted-level-1) 1pt solid;\n",
       "}\n",
       "\n",
       "#sk-container-id-2 a.estimator_doc_link.fitted {\n",
       "  /* fitted */\n",
       "  border: var(--sklearn-color-fitted-level-1) 1pt solid;\n",
       "  color: var(--sklearn-color-fitted-level-1);\n",
       "}\n",
       "\n",
       "/* On hover */\n",
       "#sk-container-id-2 a.estimator_doc_link:hover {\n",
       "  /* unfitted */\n",
       "  background-color: var(--sklearn-color-unfitted-level-3);\n",
       "  color: var(--sklearn-color-background);\n",
       "  text-decoration: none;\n",
       "}\n",
       "\n",
       "#sk-container-id-2 a.estimator_doc_link.fitted:hover {\n",
       "  /* fitted */\n",
       "  background-color: var(--sklearn-color-fitted-level-3);\n",
       "}\n",
       "\n",
       ".estimator-table summary {\n",
       "    padding: .5rem;\n",
       "    font-family: monospace;\n",
       "    cursor: pointer;\n",
       "}\n",
       "\n",
       ".estimator-table details[open] {\n",
       "    padding-left: 0.1rem;\n",
       "    padding-right: 0.1rem;\n",
       "    padding-bottom: 0.3rem;\n",
       "}\n",
       "\n",
       ".estimator-table .parameters-table {\n",
       "    margin-left: auto !important;\n",
       "    margin-right: auto !important;\n",
       "}\n",
       "\n",
       ".estimator-table .parameters-table tr:nth-child(odd) {\n",
       "    background-color: #fff;\n",
       "}\n",
       "\n",
       ".estimator-table .parameters-table tr:nth-child(even) {\n",
       "    background-color: #f6f6f6;\n",
       "}\n",
       "\n",
       ".estimator-table .parameters-table tr:hover {\n",
       "    background-color: #e0e0e0;\n",
       "}\n",
       "\n",
       ".estimator-table table td {\n",
       "    border: 1px solid rgba(106, 105, 104, 0.232);\n",
       "}\n",
       "\n",
       ".user-set td {\n",
       "    color:rgb(255, 94, 0);\n",
       "    text-align: left;\n",
       "}\n",
       "\n",
       ".user-set td.value pre {\n",
       "    color:rgb(255, 94, 0) !important;\n",
       "    background-color: transparent !important;\n",
       "}\n",
       "\n",
       ".default td {\n",
       "    color: black;\n",
       "    text-align: left;\n",
       "}\n",
       "\n",
       ".user-set td i,\n",
       ".default td i {\n",
       "    color: black;\n",
       "}\n",
       "\n",
       ".copy-paste-icon {\n",
       "    background-image: url(data:image/svg+xml;base64,PHN2ZyB4bWxucz0iaHR0cDovL3d3dy53My5vcmcvMjAwMC9zdmciIHZpZXdCb3g9IjAgMCA0NDggNTEyIj48IS0tIUZvbnQgQXdlc29tZSBGcmVlIDYuNy4yIGJ5IEBmb250YXdlc29tZSAtIGh0dHBzOi8vZm9udGF3ZXNvbWUuY29tIExpY2Vuc2UgLSBodHRwczovL2ZvbnRhd2Vzb21lLmNvbS9saWNlbnNlL2ZyZWUgQ29weXJpZ2h0IDIwMjUgRm9udGljb25zLCBJbmMuLS0+PHBhdGggZD0iTTIwOCAwTDMzMi4xIDBjMTIuNyAwIDI0LjkgNS4xIDMzLjkgMTQuMWw2Ny45IDY3LjljOSA5IDE0LjEgMjEuMiAxNC4xIDMzLjlMNDQ4IDMzNmMwIDI2LjUtMjEuNSA0OC00OCA0OGwtMTkyIDBjLTI2LjUgMC00OC0yMS41LTQ4LTQ4bDAtMjg4YzAtMjYuNSAyMS41LTQ4IDQ4LTQ4ek00OCAxMjhsODAgMCAwIDY0LTY0IDAgMCAyNTYgMTkyIDAgMC0zMiA2NCAwIDAgNDhjMCAyNi41LTIxLjUgNDgtNDggNDhMNDggNTEyYy0yNi41IDAtNDgtMjEuNS00OC00OEwwIDE3NmMwLTI2LjUgMjEuNS00OCA0OC00OHoiLz48L3N2Zz4=);\n",
       "    background-repeat: no-repeat;\n",
       "    background-size: 14px 14px;\n",
       "    background-position: 0;\n",
       "    display: inline-block;\n",
       "    width: 14px;\n",
       "    height: 14px;\n",
       "    cursor: pointer;\n",
       "}\n",
       "</style><body><div id=\"sk-container-id-2\" class=\"sk-top-container\"><div class=\"sk-text-repr-fallback\"><pre>LogisticRegression()</pre><b>In a Jupyter environment, please rerun this cell to show the HTML representation or trust the notebook. <br />On GitHub, the HTML representation is unable to render, please try loading this page with nbviewer.org.</b></div><div class=\"sk-container\" hidden><div class=\"sk-item\"><div class=\"sk-estimator fitted sk-toggleable\"><input class=\"sk-toggleable__control sk-hidden--visually\" id=\"sk-estimator-id-2\" type=\"checkbox\" checked><label for=\"sk-estimator-id-2\" class=\"sk-toggleable__label fitted sk-toggleable__label-arrow\"><div><div>LogisticRegression</div></div><div><a class=\"sk-estimator-doc-link fitted\" rel=\"noreferrer\" target=\"_blank\" href=\"https://scikit-learn.org/1.7/modules/generated/sklearn.linear_model.LogisticRegression.html\">?<span>Documentation for LogisticRegression</span></a><span class=\"sk-estimator-doc-link fitted\">i<span>Fitted</span></span></div></label><div class=\"sk-toggleable__content fitted\" data-param-prefix=\"\">\n",
       "        <div class=\"estimator-table\">\n",
       "            <details>\n",
       "                <summary>Parameters</summary>\n",
       "                <table class=\"parameters-table\">\n",
       "                  <tbody>\n",
       "                    \n",
       "        <tr class=\"default\">\n",
       "            <td><i class=\"copy-paste-icon\"\n",
       "                 onclick=\"copyToClipboard('penalty',\n",
       "                          this.parentElement.nextElementSibling)\"\n",
       "            ></i></td>\n",
       "            <td class=\"param\">penalty&nbsp;</td>\n",
       "            <td class=\"value\">&#x27;l2&#x27;</td>\n",
       "        </tr>\n",
       "    \n",
       "\n",
       "        <tr class=\"default\">\n",
       "            <td><i class=\"copy-paste-icon\"\n",
       "                 onclick=\"copyToClipboard('dual',\n",
       "                          this.parentElement.nextElementSibling)\"\n",
       "            ></i></td>\n",
       "            <td class=\"param\">dual&nbsp;</td>\n",
       "            <td class=\"value\">False</td>\n",
       "        </tr>\n",
       "    \n",
       "\n",
       "        <tr class=\"default\">\n",
       "            <td><i class=\"copy-paste-icon\"\n",
       "                 onclick=\"copyToClipboard('tol',\n",
       "                          this.parentElement.nextElementSibling)\"\n",
       "            ></i></td>\n",
       "            <td class=\"param\">tol&nbsp;</td>\n",
       "            <td class=\"value\">0.0001</td>\n",
       "        </tr>\n",
       "    \n",
       "\n",
       "        <tr class=\"default\">\n",
       "            <td><i class=\"copy-paste-icon\"\n",
       "                 onclick=\"copyToClipboard('C',\n",
       "                          this.parentElement.nextElementSibling)\"\n",
       "            ></i></td>\n",
       "            <td class=\"param\">C&nbsp;</td>\n",
       "            <td class=\"value\">1.0</td>\n",
       "        </tr>\n",
       "    \n",
       "\n",
       "        <tr class=\"default\">\n",
       "            <td><i class=\"copy-paste-icon\"\n",
       "                 onclick=\"copyToClipboard('fit_intercept',\n",
       "                          this.parentElement.nextElementSibling)\"\n",
       "            ></i></td>\n",
       "            <td class=\"param\">fit_intercept&nbsp;</td>\n",
       "            <td class=\"value\">True</td>\n",
       "        </tr>\n",
       "    \n",
       "\n",
       "        <tr class=\"default\">\n",
       "            <td><i class=\"copy-paste-icon\"\n",
       "                 onclick=\"copyToClipboard('intercept_scaling',\n",
       "                          this.parentElement.nextElementSibling)\"\n",
       "            ></i></td>\n",
       "            <td class=\"param\">intercept_scaling&nbsp;</td>\n",
       "            <td class=\"value\">1</td>\n",
       "        </tr>\n",
       "    \n",
       "\n",
       "        <tr class=\"default\">\n",
       "            <td><i class=\"copy-paste-icon\"\n",
       "                 onclick=\"copyToClipboard('class_weight',\n",
       "                          this.parentElement.nextElementSibling)\"\n",
       "            ></i></td>\n",
       "            <td class=\"param\">class_weight&nbsp;</td>\n",
       "            <td class=\"value\">None</td>\n",
       "        </tr>\n",
       "    \n",
       "\n",
       "        <tr class=\"default\">\n",
       "            <td><i class=\"copy-paste-icon\"\n",
       "                 onclick=\"copyToClipboard('random_state',\n",
       "                          this.parentElement.nextElementSibling)\"\n",
       "            ></i></td>\n",
       "            <td class=\"param\">random_state&nbsp;</td>\n",
       "            <td class=\"value\">None</td>\n",
       "        </tr>\n",
       "    \n",
       "\n",
       "        <tr class=\"default\">\n",
       "            <td><i class=\"copy-paste-icon\"\n",
       "                 onclick=\"copyToClipboard('solver',\n",
       "                          this.parentElement.nextElementSibling)\"\n",
       "            ></i></td>\n",
       "            <td class=\"param\">solver&nbsp;</td>\n",
       "            <td class=\"value\">&#x27;lbfgs&#x27;</td>\n",
       "        </tr>\n",
       "    \n",
       "\n",
       "        <tr class=\"default\">\n",
       "            <td><i class=\"copy-paste-icon\"\n",
       "                 onclick=\"copyToClipboard('max_iter',\n",
       "                          this.parentElement.nextElementSibling)\"\n",
       "            ></i></td>\n",
       "            <td class=\"param\">max_iter&nbsp;</td>\n",
       "            <td class=\"value\">100</td>\n",
       "        </tr>\n",
       "    \n",
       "\n",
       "        <tr class=\"default\">\n",
       "            <td><i class=\"copy-paste-icon\"\n",
       "                 onclick=\"copyToClipboard('multi_class',\n",
       "                          this.parentElement.nextElementSibling)\"\n",
       "            ></i></td>\n",
       "            <td class=\"param\">multi_class&nbsp;</td>\n",
       "            <td class=\"value\">&#x27;deprecated&#x27;</td>\n",
       "        </tr>\n",
       "    \n",
       "\n",
       "        <tr class=\"default\">\n",
       "            <td><i class=\"copy-paste-icon\"\n",
       "                 onclick=\"copyToClipboard('verbose',\n",
       "                          this.parentElement.nextElementSibling)\"\n",
       "            ></i></td>\n",
       "            <td class=\"param\">verbose&nbsp;</td>\n",
       "            <td class=\"value\">0</td>\n",
       "        </tr>\n",
       "    \n",
       "\n",
       "        <tr class=\"default\">\n",
       "            <td><i class=\"copy-paste-icon\"\n",
       "                 onclick=\"copyToClipboard('warm_start',\n",
       "                          this.parentElement.nextElementSibling)\"\n",
       "            ></i></td>\n",
       "            <td class=\"param\">warm_start&nbsp;</td>\n",
       "            <td class=\"value\">False</td>\n",
       "        </tr>\n",
       "    \n",
       "\n",
       "        <tr class=\"default\">\n",
       "            <td><i class=\"copy-paste-icon\"\n",
       "                 onclick=\"copyToClipboard('n_jobs',\n",
       "                          this.parentElement.nextElementSibling)\"\n",
       "            ></i></td>\n",
       "            <td class=\"param\">n_jobs&nbsp;</td>\n",
       "            <td class=\"value\">None</td>\n",
       "        </tr>\n",
       "    \n",
       "\n",
       "        <tr class=\"default\">\n",
       "            <td><i class=\"copy-paste-icon\"\n",
       "                 onclick=\"copyToClipboard('l1_ratio',\n",
       "                          this.parentElement.nextElementSibling)\"\n",
       "            ></i></td>\n",
       "            <td class=\"param\">l1_ratio&nbsp;</td>\n",
       "            <td class=\"value\">None</td>\n",
       "        </tr>\n",
       "    \n",
       "                  </tbody>\n",
       "                </table>\n",
       "            </details>\n",
       "        </div>\n",
       "    </div></div></div></div></div><script>function copyToClipboard(text, element) {\n",
       "    // Get the parameter prefix from the closest toggleable content\n",
       "    const toggleableContent = element.closest('.sk-toggleable__content');\n",
       "    const paramPrefix = toggleableContent ? toggleableContent.dataset.paramPrefix : '';\n",
       "    const fullParamName = paramPrefix ? `${paramPrefix}${text}` : text;\n",
       "\n",
       "    const originalStyle = element.style;\n",
       "    const computedStyle = window.getComputedStyle(element);\n",
       "    const originalWidth = computedStyle.width;\n",
       "    const originalHTML = element.innerHTML.replace('Copied!', '');\n",
       "\n",
       "    navigator.clipboard.writeText(fullParamName)\n",
       "        .then(() => {\n",
       "            element.style.width = originalWidth;\n",
       "            element.style.color = 'green';\n",
       "            element.innerHTML = \"Copied!\";\n",
       "\n",
       "            setTimeout(() => {\n",
       "                element.innerHTML = originalHTML;\n",
       "                element.style = originalStyle;\n",
       "            }, 2000);\n",
       "        })\n",
       "        .catch(err => {\n",
       "            console.error('Failed to copy:', err);\n",
       "            element.style.color = 'red';\n",
       "            element.innerHTML = \"Failed!\";\n",
       "            setTimeout(() => {\n",
       "                element.innerHTML = originalHTML;\n",
       "                element.style = originalStyle;\n",
       "            }, 2000);\n",
       "        });\n",
       "    return false;\n",
       "}\n",
       "\n",
       "document.querySelectorAll('.fa-regular.fa-copy').forEach(function(element) {\n",
       "    const toggleableContent = element.closest('.sk-toggleable__content');\n",
       "    const paramPrefix = toggleableContent ? toggleableContent.dataset.paramPrefix : '';\n",
       "    const paramName = element.parentElement.nextElementSibling.textContent.trim();\n",
       "    const fullParamName = paramPrefix ? `${paramPrefix}${paramName}` : paramName;\n",
       "\n",
       "    element.setAttribute('title', fullParamName);\n",
       "});\n",
       "</script></body>"
      ],
      "text/plain": [
       "LogisticRegression()"
      ]
     },
     "execution_count": 76,
     "metadata": {},
     "output_type": "execute_result"
    }
   ],
   "source": [
    "m2_lr.fit(X_train, Y_train)"
   ]
  },
  {
   "cell_type": "code",
   "execution_count": 77,
   "metadata": {
    "id": "Qv8mSpHnqXiL"
   },
   "outputs": [],
   "source": [
    "from sklearn.metrics import accuracy_score"
   ]
  },
  {
   "cell_type": "code",
   "execution_count": 78,
   "metadata": {
    "colab": {
     "base_uri": "https://localhost:8080/"
    },
    "id": "znfM71l8qGCV",
    "outputId": "ff4fefb8-c633-4455-f3ee-ff80bce8879c"
   },
   "outputs": [
    {
     "name": "stdout",
     "output_type": "stream",
     "text": [
      "Training Accuracy Score  0.9521276595744681\n"
     ]
    }
   ],
   "source": [
    "# Testing on trained data\n",
    "\n",
    "X_train_pred = m2_lr.predict(X_train)\n",
    "X_train_scr = accuracy_score(X_train_pred, Y_train)\n",
    "\n",
    "print(\"Training Accuracy Score \", X_train_scr)"
   ]
  },
  {
   "cell_type": "code",
   "execution_count": 79,
   "metadata": {
    "colab": {
     "base_uri": "https://localhost:8080/"
    },
    "id": "74XU1VeoqmGs",
    "outputId": "92e5db33-971d-4f1e-e1f2-6b89f55269cb"
   },
   "outputs": [
    {
     "name": "stdout",
     "output_type": "stream",
     "text": [
      " Testing Accuracy Score  0.9432624113475178\n"
     ]
    }
   ],
   "source": [
    "# Testing on test data\n",
    "\n",
    "X_test_pred = m2_lr.predict(X_test)\n",
    "X_test_scr = accuracy_score(X_test_pred, Y_test)\n",
    "\n",
    "print(\" Testing Accuracy Score \", X_test_scr)"
   ]
  },
  {
   "cell_type": "code",
   "execution_count": 80,
   "metadata": {
    "colab": {
     "base_uri": "https://localhost:8080/"
    },
    "id": "6fgYTRmEqsYo",
    "outputId": "a59ec447-efac-4f0f-ba03-cbdd299f03bc"
   },
   "outputs": [
    {
     "name": "stdout",
     "output_type": "stream",
     "text": [
      "Affects_Academic_Performance\n",
      "1    453\n",
      "0    252\n",
      "Name: count, dtype: int64\n",
      "Affects_Academic_Performance\n",
      "1    0.642553\n",
      "0    0.357447\n",
      "Name: proportion, dtype: float64\n"
     ]
    }
   ],
   "source": [
    "print(df['Affects_Academic_Performance'].value_counts())\n",
    "print(df['Affects_Academic_Performance'].value_counts(normalize=True))\n"
   ]
  },
  {
   "cell_type": "code",
   "execution_count": 81,
   "metadata": {
    "colab": {
     "base_uri": "https://localhost:8080/",
     "height": 656
    },
    "id": "0eztCzzSsMBf",
    "outputId": "f04e2004-1c6e-4c79-9b97-4c7ecabf5565"
   },
   "outputs": [
    {
     "data": {
      "text/plain": [
       "<Axes: >"
      ]
     },
     "execution_count": 81,
     "metadata": {},
     "output_type": "execute_result"
    },
    {
     "data": {
      "image/png": "[encoded data removed]",
      "text/plain": [
       "<Figure size 640x480 with 2 Axes>"
      ]
     },
     "metadata": {},
     "output_type": "display_data"
    }
   ],
   "source": [
    "sns.heatmap(df.corr())"
   ]
  },
  {
   "cell_type": "code",
   "execution_count": 82,
   "metadata": {
    "colab": {
     "base_uri": "https://localhost:8080/",
     "height": 163
    },
    "id": "VCNjk5i8tFHb",
    "outputId": "fc9c1ae2-3ff6-4114-eeb0-773a072123c7"
   },
   "outputs": [
    {
     "data": {
      "text/html": [
       "<div>\n",
       "<style scoped>\n",
       "    .dataframe tbody tr th:only-of-type {\n",
       "        vertical-align: middle;\n",
       "    }\n",
       "\n",
       "    .dataframe tbody tr th {\n",
       "        vertical-align: top;\n",
       "    }\n",
       "\n",
       "    .dataframe thead th {\n",
       "        text-align: right;\n",
       "    }\n",
       "</style>\n",
       "<table border=\"1\" class=\"dataframe\">\n",
       "  <thead>\n",
       "    <tr style=\"text-align: right;\">\n",
       "      <th></th>\n",
       "      <th>Age</th>\n",
       "      <th>Gender</th>\n",
       "      <th>Academic_Level</th>\n",
       "      <th>Avg_Daily_Usage_Hours</th>\n",
       "      <th>Most_Used_Platform</th>\n",
       "      <th>Sleep_Hours_Per_Night</th>\n",
       "      <th>Mental_Health_Score</th>\n",
       "      <th>Relationship_Status</th>\n",
       "    </tr>\n",
       "  </thead>\n",
       "  <tbody>\n",
       "    <tr>\n",
       "      <th>480</th>\n",
       "      <td>19</td>\n",
       "      <td>0</td>\n",
       "      <td>2</td>\n",
       "      <td>3.6</td>\n",
       "      <td>1</td>\n",
       "      <td>8.3</td>\n",
       "      <td>6</td>\n",
       "      <td>2</td>\n",
       "    </tr>\n",
       "    <tr>\n",
       "      <th>272</th>\n",
       "      <td>19</td>\n",
       "      <td>0</td>\n",
       "      <td>2</td>\n",
       "      <td>3.2</td>\n",
       "      <td>3</td>\n",
       "      <td>8.4</td>\n",
       "      <td>8</td>\n",
       "      <td>2</td>\n",
       "    </tr>\n",
       "    <tr>\n",
       "      <th>633</th>\n",
       "      <td>20</td>\n",
       "      <td>1</td>\n",
       "      <td>2</td>\n",
       "      <td>6.9</td>\n",
       "      <td>1</td>\n",
       "      <td>5.9</td>\n",
       "      <td>4</td>\n",
       "      <td>2</td>\n",
       "    </tr>\n",
       "  </tbody>\n",
       "</table>\n",
       "</div>"
      ],
      "text/plain": [
       "     Age  Gender  Academic_Level  Avg_Daily_Usage_Hours  Most_Used_Platform  \\\n",
       "480   19       0               2                    3.6                   1   \n",
       "272   19       0               2                    3.2                   3   \n",
       "633   20       1               2                    6.9                   1   \n",
       "\n",
       "     Sleep_Hours_Per_Night  Mental_Health_Score  Relationship_Status  \n",
       "480                    8.3                    6                    2  \n",
       "272                    8.4                    8                    2  \n",
       "633                    5.9                    4                    2  "
      ]
     },
     "execution_count": 82,
     "metadata": {},
     "output_type": "execute_result"
    }
   ],
   "source": [
    "X_test[5:8]"
   ]
  },
  {
   "cell_type": "code",
   "execution_count": 83,
   "metadata": {
    "colab": {
     "base_uri": "https://localhost:8080/",
     "height": 178
    },
    "id": "NvulFuDlvjAV",
    "outputId": "8f889f2e-93ec-48f5-d00e-4c8c1e7b3a0d"
   },
   "outputs": [
    {
     "data": {
      "text/plain": [
       "480    1\n",
       "272    0\n",
       "633    1\n",
       "Name: Affects_Academic_Performance, dtype: int64"
      ]
     },
     "execution_count": 83,
     "metadata": {},
     "output_type": "execute_result"
    }
   ],
   "source": [
    "Y_test[5:8]"
   ]
  },
  {
   "cell_type": "code",
   "execution_count": 84,
   "metadata": {
    "id": "-GnYzTmyvoaj"
   },
   "outputs": [],
   "source": [
    "sm_pred = m2_lr.predict(X_test[5:8])"
   ]
  },
  {
   "cell_type": "code",
   "execution_count": 85,
   "metadata": {
    "colab": {
     "base_uri": "https://localhost:8080/"
    },
    "id": "j9w6HWjwvwwo",
    "outputId": "30d1079f-6cdd-4fa5-e0ac-4af4822ec3b5"
   },
   "outputs": [
    {
     "data": {
      "text/plain": [
       "array([1, 0, 1])"
      ]
     },
     "execution_count": 85,
     "metadata": {},
     "output_type": "execute_result"
    }
   ],
   "source": [
    "sm_pred"
   ]
  },
  {
   "cell_type": "markdown",
   "metadata": {
    "id": "cijgQl9kwFo4"
   },
   "source": [
    "## Making a Predictive System"
   ]
  },
  {
   "cell_type": "code",
   "execution_count": 86,
   "metadata": {
    "colab": {
     "base_uri": "https://localhost:8080/"
    },
    "id": "ufKqKlvfvyvq",
    "outputId": "af55dbc2-0986-46e8-dc37-450226f95803"
   },
   "outputs": [
    {
     "name": "stdin",
     "output_type": "stream",
     "text": [
      "Enter your Age: 25\n",
      "Enter your Gender: Male\n",
      "Enter your Academic_Level: Graduate\n",
      "Enter your Avg_Daily_Usage_Hours: 3.4\n",
      "Enter your Most_Used_Platform: Instagram\n",
      "Enter your Sleep_Hours_Per_Night: 4.3\n",
      "Enter your Mental_Health_Score: 4\n",
      "Enter your Relationship_Status: Single\n"
     ]
    },
    {
     "name": "stdout",
     "output_type": "stream",
     "text": [
      "Affect Academic Performance:  Yes\n"
     ]
    }
   ],
   "source": [
    "def encode2(user_data, original_df):\n",
    "    for col in ['Gender', 'Most_Used_Platform', 'Relationship_Status', 'Academic_Level']:\n",
    "        le = LabelEncoder()\n",
    "        le.fit(original_df[col])  # Use original dataset to ensure consistency\n",
    "        user_data[col] = le.transform(user_data[col])\n",
    "    return user_data\n",
    "\n",
    "\n",
    "Age = int(input(\"Enter your Age:\"))\n",
    "Gender = input(\"Enter your Gender:\")\n",
    "Academic_Level = input(\"Enter your Academic_Level:\")\n",
    "Avg_Daily_Usage_Hours = float(input(\"Enter your Avg_Daily_Usage_Hours:\"))\n",
    "Most_Used_Platform = input(\"Enter your Most_Used_Platform:\")\n",
    "Sleep_Hours_Per_Night = float(input(\"Enter your Sleep_Hours_Per_Night:\"))\n",
    "Mental_Health_Score = input(\"Enter your Mental_Health_Score:\")\n",
    "Relationship_Status = input(\"Enter your Relationship_Status:\")\n",
    "\n",
    "user_data2 = pd.DataFrame([{\n",
    "    'Age': Age,\n",
    "    'Gender': Gender,\n",
    "    'Academic_Level': Academic_Level,\n",
    "    'Avg_Daily_Usage_Hours': Avg_Daily_Usage_Hours,\n",
    "    'Most_Used_Platform': Most_Used_Platform,\n",
    "    'Sleep_Hours_Per_Night': Sleep_Hours_Per_Night,\n",
    "    'Mental_Health_Score': Mental_Health_Score,\n",
    "    'Relationship_Status': Relationship_Status,\n",
    "}])\n",
    "# print(user_data)\n",
    "user_data2 = encode2(user_data2, sm_df)\n",
    "# print(user_data2)\n",
    "\n",
    "user_data_predict = m2_lr.predict(user_data2)\n",
    "\n",
    "grade = 'No' if user_data_predict == 0 else  \"Yes\"\n",
    "\n",
    "\n",
    "\n",
    "print(\"Affect Academic Performance: \", grade)"
   ]
  },
  {
   "cell_type": "code",
   "execution_count": 87,
   "metadata": {
    "colab": {
     "base_uri": "https://localhost:8080/",
     "height": 163
    },
    "id": "m_oaS72lw_9I",
    "outputId": "7f5874df-5894-49cb-d0b2-b56dc02a7025"
   },
   "outputs": [
    {
     "data": {
      "text/html": [
       "<div>\n",
       "<style scoped>\n",
       "    .dataframe tbody tr th:only-of-type {\n",
       "        vertical-align: middle;\n",
       "    }\n",
       "\n",
       "    .dataframe tbody tr th {\n",
       "        vertical-align: top;\n",
       "    }\n",
       "\n",
       "    .dataframe thead th {\n",
       "        text-align: right;\n",
       "    }\n",
       "</style>\n",
       "<table border=\"1\" class=\"dataframe\">\n",
       "  <thead>\n",
       "    <tr style=\"text-align: right;\">\n",
       "      <th></th>\n",
       "      <th>Student_ID</th>\n",
       "      <th>Age</th>\n",
       "      <th>Gender</th>\n",
       "      <th>Academic_Level</th>\n",
       "      <th>Country</th>\n",
       "      <th>Avg_Daily_Usage_Hours</th>\n",
       "      <th>Most_Used_Platform</th>\n",
       "      <th>Affects_Academic_Performance</th>\n",
       "      <th>Sleep_Hours_Per_Night</th>\n",
       "      <th>Mental_Health_Score</th>\n",
       "      <th>Relationship_Status</th>\n",
       "      <th>Conflicts_Over_Social_Media</th>\n",
       "      <th>Addicted_Score</th>\n",
       "    </tr>\n",
       "  </thead>\n",
       "  <tbody>\n",
       "    <tr>\n",
       "      <th>4</th>\n",
       "      <td>5</td>\n",
       "      <td>21</td>\n",
       "      <td>Male</td>\n",
       "      <td>Graduate</td>\n",
       "      <td>Canada</td>\n",
       "      <td>4.5</td>\n",
       "      <td>Facebook</td>\n",
       "      <td>Yes</td>\n",
       "      <td>6.0</td>\n",
       "      <td>6</td>\n",
       "      <td>In Relationship</td>\n",
       "      <td>2</td>\n",
       "      <td>7</td>\n",
       "    </tr>\n",
       "    <tr>\n",
       "      <th>5</th>\n",
       "      <td>6</td>\n",
       "      <td>19</td>\n",
       "      <td>Female</td>\n",
       "      <td>Undergraduate</td>\n",
       "      <td>Australia</td>\n",
       "      <td>7.2</td>\n",
       "      <td>Instagram</td>\n",
       "      <td>Yes</td>\n",
       "      <td>4.5</td>\n",
       "      <td>4</td>\n",
       "      <td>Complicated</td>\n",
       "      <td>5</td>\n",
       "      <td>9</td>\n",
       "    </tr>\n",
       "    <tr>\n",
       "      <th>6</th>\n",
       "      <td>7</td>\n",
       "      <td>23</td>\n",
       "      <td>Male</td>\n",
       "      <td>Graduate</td>\n",
       "      <td>Germany</td>\n",
       "      <td>1.5</td>\n",
       "      <td>LinkedIn</td>\n",
       "      <td>No</td>\n",
       "      <td>8.0</td>\n",
       "      <td>9</td>\n",
       "      <td>Single</td>\n",
       "      <td>0</td>\n",
       "      <td>2</td>\n",
       "    </tr>\n",
       "  </tbody>\n",
       "</table>\n",
       "</div>"
      ],
      "text/plain": [
       "   Student_ID  Age  Gender Academic_Level    Country  Avg_Daily_Usage_Hours  \\\n",
       "4           5   21    Male       Graduate     Canada                    4.5   \n",
       "5           6   19  Female  Undergraduate  Australia                    7.2   \n",
       "6           7   23    Male       Graduate    Germany                    1.5   \n",
       "\n",
       "  Most_Used_Platform Affects_Academic_Performance  Sleep_Hours_Per_Night  \\\n",
       "4           Facebook                          Yes                    6.0   \n",
       "5          Instagram                          Yes                    4.5   \n",
       "6           LinkedIn                           No                    8.0   \n",
       "\n",
       "   Mental_Health_Score Relationship_Status  Conflicts_Over_Social_Media  \\\n",
       "4                    6     In Relationship                            2   \n",
       "5                    4         Complicated                            5   \n",
       "6                    9              Single                            0   \n",
       "\n",
       "   Addicted_Score  \n",
       "4               7  \n",
       "5               9  \n",
       "6               2  "
      ]
     },
     "execution_count": 87,
     "metadata": {},
     "output_type": "execute_result"
    }
   ],
   "source": [
    "sm_df[4:7]\n"
   ]
  },
  {
   "cell_type": "code",
   "execution_count": 88,
   "metadata": {
    "colab": {
     "base_uri": "https://localhost:8080/",
     "height": 163
    },
    "id": "2FJBG5Pt0EjI",
    "outputId": "db597cf4-f779-430a-80c5-a6c293ea42cb"
   },
   "outputs": [
    {
     "data": {
      "text/html": [
       "<div>\n",
       "<style scoped>\n",
       "    .dataframe tbody tr th:only-of-type {\n",
       "        vertical-align: middle;\n",
       "    }\n",
       "\n",
       "    .dataframe tbody tr th {\n",
       "        vertical-align: top;\n",
       "    }\n",
       "\n",
       "    .dataframe thead th {\n",
       "        text-align: right;\n",
       "    }\n",
       "</style>\n",
       "<table border=\"1\" class=\"dataframe\">\n",
       "  <thead>\n",
       "    <tr style=\"text-align: right;\">\n",
       "      <th></th>\n",
       "      <th>Age</th>\n",
       "      <th>Gender</th>\n",
       "      <th>Academic_Level</th>\n",
       "      <th>Avg_Daily_Usage_Hours</th>\n",
       "      <th>Most_Used_Platform</th>\n",
       "      <th>Affects_Academic_Performance</th>\n",
       "      <th>Sleep_Hours_Per_Night</th>\n",
       "      <th>Mental_Health_Score</th>\n",
       "      <th>Relationship_Status</th>\n",
       "      <th>Conflicts_Over_Social_Media</th>\n",
       "      <th>Addicted_Score</th>\n",
       "    </tr>\n",
       "  </thead>\n",
       "  <tbody>\n",
       "    <tr>\n",
       "      <th>4</th>\n",
       "      <td>21</td>\n",
       "      <td>1</td>\n",
       "      <td>0</td>\n",
       "      <td>4.5</td>\n",
       "      <td>0</td>\n",
       "      <td>1</td>\n",
       "      <td>6.0</td>\n",
       "      <td>6</td>\n",
       "      <td>1</td>\n",
       "      <td>2</td>\n",
       "      <td>7</td>\n",
       "    </tr>\n",
       "    <tr>\n",
       "      <th>5</th>\n",
       "      <td>19</td>\n",
       "      <td>0</td>\n",
       "      <td>2</td>\n",
       "      <td>7.2</td>\n",
       "      <td>1</td>\n",
       "      <td>1</td>\n",
       "      <td>4.5</td>\n",
       "      <td>4</td>\n",
       "      <td>0</td>\n",
       "      <td>5</td>\n",
       "      <td>9</td>\n",
       "    </tr>\n",
       "    <tr>\n",
       "      <th>6</th>\n",
       "      <td>23</td>\n",
       "      <td>1</td>\n",
       "      <td>0</td>\n",
       "      <td>1.5</td>\n",
       "      <td>4</td>\n",
       "      <td>0</td>\n",
       "      <td>8.0</td>\n",
       "      <td>9</td>\n",
       "      <td>2</td>\n",
       "      <td>0</td>\n",
       "      <td>2</td>\n",
       "    </tr>\n",
       "  </tbody>\n",
       "</table>\n",
       "</div>"
      ],
      "text/plain": [
       "   Age  Gender  Academic_Level  Avg_Daily_Usage_Hours  Most_Used_Platform  \\\n",
       "4   21       1               0                    4.5                   0   \n",
       "5   19       0               2                    7.2                   1   \n",
       "6   23       1               0                    1.5                   4   \n",
       "\n",
       "   Affects_Academic_Performance  Sleep_Hours_Per_Night  Mental_Health_Score  \\\n",
       "4                             1                    6.0                    6   \n",
       "5                             1                    4.5                    4   \n",
       "6                             0                    8.0                    9   \n",
       "\n",
       "   Relationship_Status  Conflicts_Over_Social_Media  Addicted_Score  \n",
       "4                    1                            2               7  \n",
       "5                    0                            5               9  \n",
       "6                    2                            0               2  "
      ]
     },
     "execution_count": 88,
     "metadata": {},
     "output_type": "execute_result"
    }
   ],
   "source": [
    "df[4:7]"
   ]
  },
  {
   "cell_type": "code",
   "execution_count": null,
   "metadata": {
    "id": "1hVJNDB10K7k"
   },
   "outputs": [],
   "source": []
  },
  {
   "cell_type": "markdown",
   "metadata": {
    "id": "VzfoxFc14jyS"
   },
   "source": [
    "# Combining both the model"
   ]
  },
  {
   "cell_type": "code",
   "execution_count": 89,
   "metadata": {
    "colab": {
     "base_uri": "https://localhost:8080/"
    },
    "id": "7JCTLAsr4i6G",
    "outputId": "71c490df-7e76-4727-d861-8ae6801efb8f"
   },
   "outputs": [
    {
     "name": "stdin",
     "output_type": "stream",
     "text": [
      "Enter your Age: 19\n",
      "Enter your Gender: Male\n",
      "Enter your Academic_Level: Undergraduate\n",
      "Enter your Avg_Daily_Usage_Hours: 4.3\n",
      "Enter your Most_Used_Platform: LinkedIn\n",
      "Enter your Sleep_Hours_Per_Night: 4.5\n",
      "Enter your Mental_Health_Score: 5\n",
      "Enter your Relationship_Status: Single\n"
     ]
    },
    {
     "name": "stdout",
     "output_type": "stream",
     "text": [
      "Affect Academic Performance:  Yes\n",
      "Your Addictive Score is   [[8.12504894]]\n"
     ]
    }
   ],
   "source": [
    "def encode2(user_data, original_df):\n",
    "    for col in ['Gender', 'Most_Used_Platform', 'Relationship_Status', 'Academic_Level']:\n",
    "        le = LabelEncoder()\n",
    "        le.fit(original_df[col])  # Use original dataset to ensure consistency\n",
    "        user_data[col] = le.transform(user_data[col])\n",
    "    return user_data\n",
    "\n",
    "\n",
    "Age = int(input(\"Enter your Age:\"))\n",
    "Gender = input(\"Enter your Gender:\")\n",
    "Academic_Level = input(\"Enter your Academic_Level:\")\n",
    "Avg_Daily_Usage_Hours = float(input(\"Enter your Avg_Daily_Usage_Hours:\"))\n",
    "Most_Used_Platform = input(\"Enter your Most_Used_Platform:\")\n",
    "Sleep_Hours_Per_Night = float(input(\"Enter your Sleep_Hours_Per_Night:\"))\n",
    "Mental_Health_Score = input(\"Enter your Mental_Health_Score:\")\n",
    "Relationship_Status = input(\"Enter your Relationship_Status:\")\n",
    "\n",
    "user_data3 = pd.DataFrame([{\n",
    "    'Age': Age,\n",
    "    'Gender': Gender,\n",
    "    'Academic_Level': Academic_Level,\n",
    "    'Avg_Daily_Usage_Hours': Avg_Daily_Usage_Hours,\n",
    "    'Most_Used_Platform': Most_Used_Platform,\n",
    "    'Sleep_Hours_Per_Night': Sleep_Hours_Per_Night,\n",
    "    'Mental_Health_Score': Mental_Health_Score,\n",
    "    'Relationship_Status': Relationship_Status,\n",
    "}])\n",
    "# print(user_data)\n",
    "user_data3 = encode2(user_data3, sm_df)\n",
    "# print(user_data2)\n",
    "\n",
    "user_data_predict = m2_lr.predict(user_data2)\n",
    "user_score = m1_lr.predict(user_data3)\n",
    "\n",
    "grade = 'No' if user_data_predict == 0 else  \"Yes\"\n",
    "\n",
    "\n",
    "\n",
    "print(\"Affect Academic Performance: \", grade)\n",
    "print(\"Your Addictive Score is  \", user_score)"
   ]
  },
  {
   "cell_type": "code",
   "execution_count": null,
   "metadata": {
    "colab": {
     "base_uri": "https://localhost:8080/",
     "height": 132
    },
    "id": "32GpBYle4_PI",
    "outputId": "38f76fda-9c54-4a74-db88-463fe935fcf0"
   },
   "outputs": [],
   "source": [
    "sm_df[29:31]"
   ]
  },
  {
   "cell_type": "code",
   "execution_count": null,
   "metadata": {
    "colab": {
     "base_uri": "https://localhost:8080/",
     "height": 112
    },
    "id": "4EUy_RZl5Rr7",
    "outputId": "c043564a-4378-4174-e2e4-a2ae2582b73f"
   },
   "outputs": [],
   "source": [
    "Y_train[23:25]"
   ]
  },
  {
   "cell_type": "markdown",
   "metadata": {
    "id": "oVIRkkH-5VU7"
   },
   "source": [
    "### Exporting Data with pickle"
   ]
  },
  {
   "cell_type": "code",
   "execution_count": 90,
   "metadata": {},
   "outputs": [],
   "source": [
    "import pickle"
   ]
  },
  {
   "cell_type": "markdown",
   "metadata": {},
   "source": [
    "So we need\n",
    "- sm_df Datagram\n",
    "- le\n",
    "- Logistic Regression\n",
    "- Linear Regression\n",
    "  "
   ]
  },
  {
   "cell_type": "code",
   "execution_count": 91,
   "metadata": {},
   "outputs": [],
   "source": [
    "with open('sm_df.pkl', 'wb') as file:\n",
    "    pickle.dump(sm_df, file)"
   ]
  },
  {
   "cell_type": "code",
   "execution_count": 92,
   "metadata": {},
   "outputs": [],
   "source": [
    "with open('le.pkl', 'wb') as file:\n",
    "    pickle.dump(le, file)"
   ]
  },
  {
   "cell_type": "code",
   "execution_count": 93,
   "metadata": {},
   "outputs": [],
   "source": [
    "with open('m1_lr.pkl', 'wb') as file:\n",
    "    pickle.dump(m1_lr, file)"
   ]
  },
  {
   "cell_type": "code",
   "execution_count": 94,
   "metadata": {},
   "outputs": [],
   "source": [
    "with open('m2_lr.pkl', 'wb') as file:\n",
    "    pickle.dump(m2_lr, file)"
   ]
  },
  {
   "cell_type": "code",
   "execution_count": 100,
   "metadata": {},
   "outputs": [
    {
     "data": {
      "text/plain": [
       "list[Relationship_Status\n",
       "Single             384\n",
       "In Relationship    289\n",
       "Complicated         32\n",
       "Name: count, dtype: int64]"
      ]
     },
     "execution_count": 100,
     "metadata": {},
     "output_type": "execute_result"
    }
   ],
   "source": [
    "list[sm_df['Relationship_Status'].value_counts()]"
   ]
  },
  {
   "cell_type": "code",
   "execution_count": null,
   "metadata": {},
   "outputs": [],
   "source": []
  }
 ],
 "metadata": {
  "colab": {
   "collapsed_sections": [
    "imXHL4PW4xfY",
    "YbboRpyC9Fgc",
    "pLKC18N9D-lq",
    "p8zt0FRLFiOp",
    "1g9STay2K0TK",
    "bM6ysugFMrcZ"
   ],
   "provenance": []
  },
  "kernelspec": {
   "display_name": "Python 3 (ipykernel)",
   "language": "python",
   "name": "python3"
  },
  "language_info": {
   "codemirror_mode": {
    "name": "ipython",
    "version": 3
   },
   "file_extension": ".py",
   "mimetype": "text/x-python",
   "name": "python",
   "nbconvert_exporter": "python",
   "pygments_lexer": "ipython3",
   "version": "3.13.2"
  }
 },
 "nbformat": 4,
 "nbformat_minor": 4
}
